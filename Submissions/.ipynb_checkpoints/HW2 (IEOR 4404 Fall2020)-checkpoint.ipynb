{
 "cells": [
  {
   "cell_type": "markdown",
   "metadata": {
    "id": "4s5izpSul0F9"
   },
   "source": [
    "# **IEOR 4404  Simulation (Fall 2020)**\n",
    "\n",
    "**Homework 2  [Total points: 80 Points]**\n",
    "\n",
    "\n",
    "**Due 11:59 PM, Oct 18**\n",
    "\n",
    "Homework 2 consists of application-oriented exercises mostly focusing on different sampling techniques for sampling from a discrete distribution.\n",
    "\n",
    "The steps to finish the homework:\n",
    "\n",
    "*   Step 1: Answer your homework on Google Colab.\n",
    "*   Step 2: Submit the copy on Google Assignment\n",
    "\n",
    "Before you submit your assignment, make sure to re-run your code from the beginning. (You can do so by first clicking Runtime/Reset All Runtimes and then clicking Runtime/Run all)\n",
    "\n"
   ]
  },
  {
   "cell_type": "code",
   "execution_count": 1,
   "metadata": {
    "executionInfo": {
     "elapsed": 766,
     "status": "ok",
     "timestamp": 1604029238181,
     "user": {
      "displayName": "Austin Christopher Palmer",
      "photoUrl": "",
      "userId": "02367868314616538485"
     },
     "user_tz": 240
    },
    "id": "f3BPfGhTQSbE"
   },
   "outputs": [],
   "source": [
    "#Your Name: Ziyang Zhang\n",
    "#Your UNI: zz2732"
   ]
  },
  {
   "cell_type": "code",
   "execution_count": 2,
   "metadata": {
    "executionInfo": {
     "elapsed": 2686,
     "status": "ok",
     "timestamp": 1604029240194,
     "user": {
      "displayName": "Austin Christopher Palmer",
      "photoUrl": "",
      "userId": "02367868314616538485"
     },
     "user_tz": 240
    },
    "id": "x4lR3IqNGLmD"
   },
   "outputs": [
    {
     "name": "stderr",
     "output_type": "stream",
     "text": [
      "\n",
      "Bad key \"text.kerning_factor\" on line 4 in\n",
      "/Users/Zhang/opt/anaconda3/lib/python3.7/site-packages/matplotlib/mpl-data/stylelib/_classic_test_patch.mplstyle.\n",
      "You probably need to get an updated matplotlibrc file from\n",
      "https://github.com/matplotlib/matplotlib/blob/v3.1.3/matplotlibrc.template\n",
      "or from the matplotlib source distribution\n"
     ]
    }
   ],
   "source": [
    "#This imports all the packages you need for the homework\n",
    "#Please run this first\n",
    "import numpy as np\n",
    "\n",
    "import scipy.special as spsp\n",
    "\n",
    "import matplotlib.pyplot as plt\n",
    "\n",
    "%matplotlib inline\n",
    "\n",
    "import sympy\n",
    "\n",
    "import scipy.stats as spst\n",
    "\n"
   ]
  },
  {
   "cell_type": "markdown",
   "metadata": {
    "id": "5kEPUY32CW9E"
   },
   "source": [
    "# Exercise 1 [70 points]\n",
    "\n",
    "In HW1, we studied Negative Binomial distribution, which is a discrete probability distribution that models the number of successes (Our outcome variable: $k$) in a sequence of independent and identically distributed Bernoulli trials (with the probability of success=$p$) before a specified (non-random) number of failures (denoted $r$) occurs (Source: Wikipedia [Negative Binomial Distribution](https://en.wikipedia.org/wiki/Negative_binomial_distribution)). \n",
    "\n",
    "The probability mass function follows\n",
    "\n",
    "$P(k)=\\frac{(k+r-1)!}{k!(r-1)!}p^k(1-p)^r$ where $k=0, 1, 2, ..., \\infty$\n",
    "\n",
    "* In Q1-Q4, we want to will use this distribution as our proposal distribution to perform rejection sampling to get samples from a Poisson distribution.\n",
    "* In Q5 and Q6, we will be studying the composition method based on this distribution.\n"
   ]
  },
  {
   "cell_type": "markdown",
   "metadata": {
    "id": "FBSJE3v0sfhs"
   },
   "source": [
    "## Q1. [15 points]\n",
    "\n",
    "Let's first propose a different way to sample from a Negative Binomial distribution. Based on the definition of Negative Binomial distribution, this distribution is nothing but the sum of $r$ variables that all follow a Geometric distribution. For this Geometric distribution, it is defined as the number of successes needed **before** getting the first failure, when the probability of success in each Bernoulli trial is $p$. [notice that it is defined slightly different from the Geometric distributions we have seen so far]\n",
    "\n",
    "Since a Geometric distribution can be generated using the direct conversion method, we can use the following steps as an alternative method to generate $N$ samples from a Negative Binomial distribution.\n",
    "\n",
    "* Derive the direct conversion rule for the Geometric distribution.\n",
    "* Generate $r$ arrays of random samples from a Geometric distribution. Each array should contain $N$ random samples.\n",
    "* Summing up these $r$ arrays to get an array of $N$ elements. Each element is a random sample from the Negative Binomial distribution.\n",
    "\n",
    "For this question\n",
    "* Use `sympy.Sum()` to derive the CDF of the geometric distribution from the PMF. \n",
    "* Use `sympy.solve()` to help you derive the direct conversion formula based on the CDF.\n",
    "* Based on the formula and follow the steps listed above, generate 10000 random  samples from a Negative Binomial distribution with $r=3$ and $p=0.9$.\n",
    "* Plot both the sample distribution of these 10000 samples (using scatter plot) and the corresponding theoretical distribution (using bar chart) in the same graph.\n",
    "\n"
   ]
  },
  {
   "cell_type": "code",
   "execution_count": 3,
   "metadata": {
    "executionInfo": {
     "elapsed": 2683,
     "status": "ok",
     "timestamp": 1604029240199,
     "user": {
      "displayName": "Austin Christopher Palmer",
      "photoUrl": "",
      "userId": "02367868314616538485"
     },
     "user_tz": 240
    },
    "id": "Su_7YNqfTmJ8"
   },
   "outputs": [],
   "source": [
    "sympy.init_printing()\n",
    "x=sympy.Symbol(\"x\")\n",
    "p=sympy.Symbol(\"p\")\n",
    "u=sympy.Symbol(\"u\")\n",
    "pmf=p**x*(1-p)\n",
    "cdf=sympy.Sum(pmf,(x,0,x)).doit().simplify()"
   ]
  },
  {
   "cell_type": "code",
   "execution_count": 4,
   "metadata": {
    "colab": {
     "base_uri": "https://localhost:8080/",
     "height": 38
    },
    "executionInfo": {
     "elapsed": 3727,
     "status": "ok",
     "timestamp": 1604029241266,
     "user": {
      "displayName": "Austin Christopher Palmer",
      "photoUrl": "",
      "userId": "02367868314616538485"
     },
     "user_tz": 240
    },
    "id": "sC969ct4-4bW",
    "outputId": "9f030ced-0135-49d4-e0ee-0c121022e109"
   },
   "outputs": [
    {
     "data": {
      "image/png": "[encoded data removed]",
      "text/latex": [
       "$\\displaystyle p^{x} \\left(1 - p\\right)$"
      ],
      "text/plain": [
       " x        \n",
       "p ⋅(1 - p)"
      ]
     },
     "execution_count": 4,
     "metadata": {},
     "output_type": "execute_result"
    }
   ],
   "source": [
    "pmf"
   ]
  },
  {
   "cell_type": "code",
   "execution_count": 5,
   "metadata": {
    "colab": {
     "base_uri": "https://localhost:8080/",
     "height": 38
    },
    "executionInfo": {
     "elapsed": 3716,
     "status": "ok",
     "timestamp": 1604029241267,
     "user": {
      "displayName": "Austin Christopher Palmer",
      "photoUrl": "",
      "userId": "02367868314616538485"
     },
     "user_tz": 240
    },
    "id": "jKy2gUB6GNDU",
    "outputId": "ab2532b3-57f7-4db9-f3c0-f7e125fd2bc9"
   },
   "outputs": [
    {
     "data": {
      "image/png": "[encoded data removed]",
      "text/latex": [
       "$\\displaystyle 1 - p^{x + 1}$"
      ],
      "text/plain": [
       "     x + 1\n",
       "1 - p     "
      ]
     },
     "execution_count": 5,
     "metadata": {},
     "output_type": "execute_result"
    }
   ],
   "source": [
    "cdf"
   ]
  },
  {
   "cell_type": "code",
   "execution_count": 6,
   "metadata": {
    "colab": {
     "base_uri": "https://localhost:8080/",
     "height": 58
    },
    "executionInfo": {
     "elapsed": 3705,
     "status": "ok",
     "timestamp": 1604029241270,
     "user": {
      "displayName": "Austin Christopher Palmer",
      "photoUrl": "",
      "userId": "02367868314616538485"
     },
     "user_tz": 240
    },
    "id": "naAXybih2GLB",
    "outputId": "aaf9621b-46f5-42dc-875a-d790ee62ed56"
   },
   "outputs": [
    {
     "data": {
      "image/png": "[encoded data removed]",
      "text/latex": [
       "$\\displaystyle \\left[ \\frac{\\log{\\left(\\frac{1 - u}{p} \\right)}}{\\log{\\left(p \\right)}}\\right]$"
      ],
      "text/plain": [
       "⎡   ⎛1 - u⎞⎤\n",
       "⎢log⎜─────⎟⎥\n",
       "⎢   ⎝  p  ⎠⎥\n",
       "⎢──────────⎥\n",
       "⎣  log(p)  ⎦"
      ]
     },
     "execution_count": 6,
     "metadata": {},
     "output_type": "execute_result"
    }
   ],
   "source": [
    "#solve u<CDF(x)   #solve for x, for cdf-u=0\n",
    "S1=sympy.solve(cdf-u,x)\n",
    "S1"
   ]
  },
  {
   "cell_type": "code",
   "execution_count": 7,
   "metadata": {
    "colab": {
     "base_uri": "https://localhost:8080/",
     "height": 43
    },
    "executionInfo": {
     "elapsed": 3687,
     "status": "ok",
     "timestamp": 1604029241271,
     "user": {
      "displayName": "Austin Christopher Palmer",
      "photoUrl": "",
      "userId": "02367868314616538485"
     },
     "user_tz": 240
    },
    "id": "-9UaBxNrG9uj",
    "outputId": "aa445c07-7205-4dca-85d6-2235f381b6f0"
   },
   "outputs": [
    {
     "data": {
      "image/png": "[encoded data removed]",
      "text/latex": [
       "$\\displaystyle -1 + \\frac{\\log{\\left(1 - u \\right)}}{\\log{\\left(p \\right)}}$"
      ],
      "text/plain": [
       "     log(1 - u)\n",
       "-1 + ──────────\n",
       "       log(p)  "
      ]
     },
     "execution_count": 7,
     "metadata": {},
     "output_type": "execute_result"
    }
   ],
   "source": [
    "#the logarithm of the ratio of two numbers is the difference of the logarithms\n",
    "#rewrite S1\n",
    "S1=(sympy.log(-u+1)-sympy.log(p))/sympy.log(p)\n",
    "S1.simplify()"
   ]
  },
  {
   "cell_type": "code",
   "execution_count": 8,
   "metadata": {
    "colab": {
     "base_uri": "https://localhost:8080/",
     "height": 43
    },
    "executionInfo": {
     "elapsed": 3677,
     "status": "ok",
     "timestamp": 1604029241272,
     "user": {
      "displayName": "Austin Christopher Palmer",
      "photoUrl": "",
      "userId": "02367868314616538485"
     },
     "user_tz": 240
    },
    "id": "ouEy1wj1DhLO",
    "outputId": "4f59652a-98ec-4f2c-ab39-7cd7ca1a1d20"
   },
   "outputs": [
    {
     "data": {
      "image/png": "[encoded data removed]",
      "text/latex": [
       "$\\displaystyle \\frac{\\log{\\left(1 - u \\right)}}{\\log{\\left(p \\right)}}$"
      ],
      "text/plain": [
       "log(1 - u)\n",
       "──────────\n",
       "  log(p)  "
      ]
     },
     "execution_count": 8,
     "metadata": {},
     "output_type": "execute_result"
    }
   ],
   "source": [
    "#solve CDF(x)<=u\n",
    "S2=sympy.solve(cdf.subs({x:x-1})-u,x)\n",
    "S2=S2[0].collect(u)\n",
    "S2"
   ]
  },
  {
   "cell_type": "code",
   "execution_count": 9,
   "metadata": {
    "colab": {
     "base_uri": "https://localhost:8080/",
     "height": 43
    },
    "executionInfo": {
     "elapsed": 3668,
     "status": "ok",
     "timestamp": 1604029241274,
     "user": {
      "displayName": "Austin Christopher Palmer",
      "photoUrl": "",
      "userId": "02367868314616538485"
     },
     "user_tz": 240
    },
    "id": "4AMO_zhuAvpS",
    "outputId": "67405179-234e-4098-9627-4bb04b43e070"
   },
   "outputs": [
    {
     "data": {
      "image/png": "[encoded data removed]",
      "text/latex": [
       "$\\displaystyle \\left\\lfloor{\\frac{\\log{\\left(1 - u \\right)}}{\\log{\\left(p \\right)}}}\\right\\rfloor$"
      ],
      "text/plain": [
       "⎢log(1 - u)⎥\n",
       "⎢──────────⎥\n",
       "⎣  log(p)  ⎦"
      ]
     },
     "execution_count": 9,
     "metadata": {},
     "output_type": "execute_result"
    }
   ],
   "source": [
    "#derive the Direction Formula for this geometric distribution\n",
    "x=sympy.floor(S2)\n",
    "x"
   ]
  },
  {
   "cell_type": "code",
   "execution_count": 10,
   "metadata": {
    "colab": {
     "base_uri": "https://localhost:8080/"
    },
    "executionInfo": {
     "elapsed": 3660,
     "status": "ok",
     "timestamp": 1604029241275,
     "user": {
      "displayName": "Austin Christopher Palmer",
      "photoUrl": "",
      "userId": "02367868314616538485"
     },
     "user_tz": 240
    },
    "id": "OWZQDGBKRVup",
    "outputId": "3790ee69-0e79-4f81-c653-d69ab6a19893"
   },
   "outputs": [
    {
     "data": {
      "text/plain": [
       "array([25, 41, 13, ..., 34, 42, 53])"
      ]
     },
     "execution_count": 10,
     "metadata": {},
     "output_type": "execute_result"
    }
   ],
   "source": [
    "#generate 10000 samples using the direct conversion formula above\n",
    "N=10000\n",
    "r=3\n",
    "p=0.9\n",
    "samples=np.zeros((N),dtype=int)\n",
    "for i in range(r):\n",
    "  u=np.random.rand(N)\n",
    "  samples+=np.floor(np.log(1-u)/np.log(p)).astype(int)\n",
    "samples"
   ]
  },
  {
   "cell_type": "code",
   "execution_count": 11,
   "metadata": {
    "colab": {
     "base_uri": "https://localhost:8080/",
     "height": 279
    },
    "executionInfo": {
     "elapsed": 4828,
     "status": "ok",
     "timestamp": 1604029242452,
     "user": {
      "displayName": "Austin Christopher Palmer",
      "photoUrl": "",
      "userId": "02367868314616538485"
     },
     "user_tz": 240
    },
    "id": "TZL6P6JfJE-k",
    "outputId": "68060b70-e224-4d04-a196-825fcced3083"
   },
   "outputs": [
    {
     "data": {
      "image/png": "[encoded data removed]",
      "text/plain": [
       "<Figure size 432x288 with 1 Axes>"
      ]
     },
     "metadata": {
      "needs_background": "light"
     },
     "output_type": "display_data"
    }
   ],
   "source": [
    "#visualization\n",
    "values,counts=np.unique(samples,return_counts=True)\n",
    "plt.scatter(values,counts/np.sum(counts),label=\"sample\",zorder=2)\n",
    "x=np.arange(np.max(values)+1)\n",
    "pmf=spsp.comb(x+r-1, x)*(p**x)*((1-p)**r)\n",
    "plt.bar(x,pmf,label=\"theory\")\n",
    "plt.legend(loc=\"best\")\n",
    "plt.xlabel(\"outcomes\")\n",
    "plt.ylabel(\"probabilities\")\n",
    "plt.show()"
   ]
  },
  {
   "cell_type": "markdown",
   "metadata": {
    "id": "QwPHItsMv34h"
   },
   "source": [
    "##Q2. [15 points]\n",
    "\n",
    "Let's use a Negative Binomial Distribution as a proposal distribution to generate samples from a Poisson distribution with $\\lambda=40$. \n",
    "\n",
    "Since we want two distributions to follow similar shapes, let's select a negative binomial distribution with the mean values equals to 40 as well. Remember, the expected value of a negative binomial distribution is equal to $\\frac{rp}{1-p}$.\n",
    "\n",
    "* Let's assume we want to use $r=2$ for the proposal distribution.  With the help of `sympy.solve()` function, solve $p$ so that two distributions have the same mean. We will use the $r$ and $p$ value for all subparts in Q2. \n",
    "* Visualize the target distribution for $x$ between 0 and 100 using a bar chart. In the same graph, visualize the proposal distribution for the same $x$ range using a scatter plot. Make sure to add a legend to label each plot. \n",
    "* Visualize the ratio between $PMF_{target}(x)$ and $PMF_{proposal}(x)$ for $x$ between $0$ and $100$ using a bar chart.\n",
    "* Find out the $c$ value for rejection sampling.\n",
    "* Construct a function (or functions) that helps to generate **one** sample from the target distribution using rejection sampling. [your algorithm should allow you to generate sample values above 100 as well]\n",
    "* Generate 10000 random samples from the target distribution.\n",
    "* Plot both the sample distribution of these 10000 samples (using scatter plot) and the corresponding theoretical distribution (using bar chart) in the same graph.\n",
    "\n"
   ]
  },
  {
   "cell_type": "code",
   "execution_count": 12,
   "metadata": {
    "colab": {
     "base_uri": "https://localhost:8080/",
     "height": 40
    },
    "executionInfo": {
     "elapsed": 4819,
     "status": "ok",
     "timestamp": 1604029242454,
     "user": {
      "displayName": "Austin Christopher Palmer",
      "photoUrl": "",
      "userId": "02367868314616538485"
     },
     "user_tz": 240
    },
    "id": "CQThUWon8hWL",
    "outputId": "5569be7e-f8a2-4698-f83c-4cf3697dacdd"
   },
   "outputs": [
    {
     "data": {
      "image/png": "[encoded data removed]",
      "text/latex": [
       "$\\displaystyle \\left[ \\frac{λ}{r + λ}\\right]$"
      ],
      "text/plain": [
       "⎡  λ  ⎤\n",
       "⎢─────⎥\n",
       "⎣r + λ⎦"
      ]
     },
     "execution_count": 12,
     "metadata": {},
     "output_type": "execute_result"
    }
   ],
   "source": [
    "#derive p\n",
    "r_s=sympy.Symbol(\"r\")\n",
    "p_s=sympy.Symbol(\"p\")\n",
    "lm_s=sympy.Symbol(\"λ\")\n",
    "\n",
    "sympy.solve((r_s*p_s)/(1-p_s)-lm_s,p_s)"
   ]
  },
  {
   "cell_type": "code",
   "execution_count": 13,
   "metadata": {
    "colab": {
     "base_uri": "https://localhost:8080/",
     "height": 37
    },
    "executionInfo": {
     "elapsed": 4811,
     "status": "ok",
     "timestamp": 1604029242456,
     "user": {
      "displayName": "Austin Christopher Palmer",
      "photoUrl": "",
      "userId": "02367868314616538485"
     },
     "user_tz": 240
    },
    "id": "UHIM2PvgWvHS",
    "outputId": "b5f91df5-2086-46ae-8f8f-e7407dbe47f0"
   },
   "outputs": [
    {
     "data": {
      "image/png": "[encoded data removed]",
      "text/latex": [
       "$\\displaystyle 0.9523809523809523$"
      ],
      "text/plain": [
       "0.9523809523809523"
      ]
     },
     "execution_count": 13,
     "metadata": {},
     "output_type": "execute_result"
    }
   ],
   "source": [
    "r_2=2\n",
    "lm=40\n",
    "p_2=lm/(r_2+lm)\n",
    "p_2"
   ]
  },
  {
   "cell_type": "code",
   "execution_count": 14,
   "metadata": {
    "colab": {
     "base_uri": "https://localhost:8080/",
     "height": 265
    },
    "executionInfo": {
     "elapsed": 4802,
     "status": "ok",
     "timestamp": 1604029242458,
     "user": {
      "displayName": "Austin Christopher Palmer",
      "photoUrl": "",
      "userId": "02367868314616538485"
     },
     "user_tz": 240
    },
    "id": "VBHVnZG2bti8",
    "outputId": "c9bfdfac-ffcb-4d31-d97e-471d35f614ce"
   },
   "outputs": [
    {
     "data": {
      "image/png": "[encoded data removed]",
      "text/plain": [
       "<Figure size 432x288 with 1 Axes>"
      ]
     },
     "metadata": {
      "needs_background": "light"
     },
     "output_type": "display_data"
    }
   ],
   "source": [
    "#plot the target and proposal distribution\n",
    "x_2=np.arange(101)\n",
    "PMF_t=spst.poisson.pmf(x_2,lm)\n",
    "PMF_p=spsp.comb(x_2+r_2-1, x_2)*(p_2**x_2)*((1-p_2)**r_2)\n",
    "plt.bar(x_2,PMF_t,label=\"target distribution\")\n",
    "plt.scatter(x_2,PMF_p,label=\"proposal distribution\")\n",
    "plt.legend()\n",
    "plt.show()"
   ]
  },
  {
   "cell_type": "code",
   "execution_count": 15,
   "metadata": {
    "colab": {
     "base_uri": "https://localhost:8080/",
     "height": 269
    },
    "executionInfo": {
     "elapsed": 5112,
     "status": "ok",
     "timestamp": 1604029242777,
     "user": {
      "displayName": "Austin Christopher Palmer",
      "photoUrl": "",
      "userId": "02367868314616538485"
     },
     "user_tz": 240
    },
    "id": "Rsx3rTTWvdNG",
    "outputId": "62d3b279-a193-4466-8f9a-6563e590ebd4"
   },
   "outputs": [
    {
     "data": {
      "image/png": "[encoded data removed]",
      "text/plain": [
       "<Figure size 432x288 with 1 Axes>"
      ]
     },
     "metadata": {
      "needs_background": "light"
     },
     "output_type": "display_data"
    }
   ],
   "source": [
    "#plot the ratio between two distributions\n",
    "plt.bar(x_2,PMF_t/PMF_p)\n",
    "plt.show()"
   ]
  },
  {
   "cell_type": "code",
   "execution_count": 16,
   "metadata": {
    "colab": {
     "base_uri": "https://localhost:8080/",
     "height": 37
    },
    "executionInfo": {
     "elapsed": 5102,
     "status": "ok",
     "timestamp": 1604029242779,
     "user": {
      "displayName": "Austin Christopher Palmer",
      "photoUrl": "",
      "userId": "02367868314616538485"
     },
     "user_tz": 240
    },
    "id": "nKRa-xTlPg9x",
    "outputId": "65d56e4e-9c11-4003-a16d-33cebf38915d"
   },
   "outputs": [
    {
     "data": {
      "image/png": "[encoded data removed]",
      "text/latex": [
       "$\\displaystyle 4.766526417772085$"
      ],
      "text/plain": [
       "4.766526417772085"
      ]
     },
     "execution_count": 16,
     "metadata": {},
     "output_type": "execute_result"
    }
   ],
   "source": [
    "#find out the c value\n",
    "c=np.max(PMF_t/PMF_p)\n",
    "c"
   ]
  },
  {
   "cell_type": "code",
   "execution_count": 17,
   "metadata": {
    "colab": {
     "base_uri": "https://localhost:8080/",
     "height": 279
    },
    "executionInfo": {
     "elapsed": 12265,
     "status": "ok",
     "timestamp": 1604029249951,
     "user": {
      "displayName": "Austin Christopher Palmer",
      "photoUrl": "",
      "userId": "02367868314616538485"
     },
     "user_tz": 240
    },
    "id": "sFrD9KA_6LUR",
    "outputId": "f8fdc7c9-0387-4f1a-8a95-c529cb61a88d"
   },
   "outputs": [
    {
     "data": {
      "image/png": "[encoded data removed]",
      "text/plain": [
       "<Figure size 432x288 with 1 Axes>"
      ]
     },
     "metadata": {
      "needs_background": "light"
     },
     "output_type": "display_data"
    }
   ],
   "source": [
    "#sampling and visualization\n",
    "def pmf_p(k):\n",
    "    return spsp.comb(k+r_2-1, k)*(p_2**k)*((1-p_2)**r_2)\n",
    "def pmf_t(k):\n",
    "    return spst.poisson.pmf(k,lm)\n",
    "def rejection():\n",
    "    proposal=np.floor(np.log(1-np.random.rand())/np.log(p_2)).astype(int) + np.floor(np.log(1-np.random.rand())/np.log(p_2)).astype(int)\n",
    "    while np.random.rand()>pmf_t(proposal)/pmf_p(proposal)/c:\n",
    "        proposal=np.floor(np.log(1-np.random.rand())/np.log(p_2)).astype(int) + np.floor(np.log(1-np.random.rand())/np.log(p_2)).astype(int)\n",
    "    return proposal\n",
    "\n",
    "samples=np.array([rejection() for i in range(10000)])\n",
    "values,counts=np.unique(samples,return_counts=True)\n",
    "plt.scatter(values,counts/np.sum(counts),label=\"sample\",zorder=2)\n",
    "x=np.arange(np.max(values)+1)\n",
    "pmf=spst.poisson.pmf(x,lm)\n",
    "plt.bar(x,pmf,label=\"theory\")\n",
    "plt.legend(loc=\"best\")\n",
    "plt.xlabel(\"outcomes\")\n",
    "plt.ylabel(\"probabilities\")\n",
    "plt.show()"
   ]
  },
  {
   "cell_type": "markdown",
   "metadata": {
    "id": "rOz_l6-Smv2X"
   },
   "source": [
    "##Q3. [8 points]\n",
    "\n",
    "* Rewrite your algorithm in Q2 to generate 10000 samples in a parallel way. Use the same $r$, $p$, and $\\lambda$ value you used in Q2.   [No loops allowed]\n",
    "\n",
    "* Visualize the sample distribution (using a scatter plot) and the corresponding theoretical distribution (using a bar chart) in the same graph."
   ]
  },
  {
   "cell_type": "code",
   "execution_count": 18,
   "metadata": {
    "colab": {
     "base_uri": "https://localhost:8080/",
     "height": 279
    },
    "executionInfo": {
     "elapsed": 12261,
     "status": "ok",
     "timestamp": 1604029249956,
     "user": {
      "displayName": "Austin Christopher Palmer",
      "photoUrl": "",
      "userId": "02367868314616538485"
     },
     "user_tz": 240
    },
    "id": "0sddjJCDm6KX",
    "outputId": "2cffc185-0979-4138-fcf9-0568461114bf"
   },
   "outputs": [
    {
     "data": {
      "image/png": "[encoded data removed]",
      "text/plain": [
       "<Figure size 432x288 with 1 Axes>"
      ]
     },
     "metadata": {
      "needs_background": "light"
     },
     "output_type": "display_data"
    }
   ],
   "source": [
    "#parallel sampling\n",
    "def pmf_p(k):\n",
    "    return spsp.comb(k+r_2-1, k)*(p_2**k)*((1-p_2)**r_2)\n",
    "def pmf_t(k):\n",
    "    return spst.poisson.pmf(k,lm)\n",
    "def parallel_rejection(N):\n",
    "    N_p=int(N*c+4*(N*c*(c-1))**0.5)\n",
    "    \n",
    "    proposal=np.floor(np.log(1-np.random.rand(N_p))/np.log(p_2)).astype(int) + np.floor(np.log(1-np.random.rand(N_p))/np.log(p_2)).astype(int)\n",
    "    AR=pmf_t(proposal)/pmf_p(proposal)/c\n",
    "    proposal=proposal[np.random.rand(N_p)<AR]\n",
    "    \n",
    "    return proposal[:N]\n",
    "\n",
    "samples=parallel_rejection(10000)\n",
    "\n",
    "#visualization\n",
    "values,counts=np.unique(samples,return_counts=True)\n",
    "plt.scatter(values,counts/np.sum(counts),label=\"sample\",zorder=2)\n",
    "x=np.arange(np.max(values)+1)\n",
    "pmf=spst.poisson.pmf(x,lm)\n",
    "plt.bar(x,pmf,label=\"theory\")\n",
    "plt.legend(loc=\"best\")\n",
    "plt.xlabel(\"outcomes\")\n",
    "plt.ylabel(\"probabilities\")\n",
    "plt.show()"
   ]
  },
  {
   "cell_type": "markdown",
   "metadata": {
    "id": "WCCpsINxcjAY"
   },
   "source": [
    "##Q4. [7 points]\n",
    "\n",
    "Let's evaluate the efficiency of our algorithm:\n",
    "\n",
    "* when using $r=2$ and generating the samples one by one, how many samples from a geometric distribution do we need on average to generate 10000 samples from our target distribution? \n",
    "* When using $r=2$ and generating the samples in parallel based on the formula provided in the lecture, how many samples from a geometric distribution do we need on average to generate 10000 samples from our target distribution? [Since the probability of having a final sample size less than 10000 is extremely small, you can assume you always get at least 10000 samples]\n",
    "* If we change the value of $r$ to 3 and use the same method to get $p$, how does the value of $c$ change? If we generate samples on by one, how many samples from a geometric distribution do we need on average to generate 10000 samples from our target distribution? \n",
    "* If we change the value of $r$ to 40 and use the same method to get $p$, how does the value of $c$ change? If we generate samples on by one, how many  samples from a geometric distribution do we need on average to generate 10000 samples from our target distribution? \n"
   ]
  },
  {
   "cell_type": "code",
   "execution_count": 19,
   "metadata": {
    "colab": {
     "base_uri": "https://localhost:8080/",
     "height": 37
    },
    "executionInfo": {
     "elapsed": 12258,
     "status": "ok",
     "timestamp": 1604029249960,
     "user": {
      "displayName": "Austin Christopher Palmer",
      "photoUrl": "",
      "userId": "02367868314616538485"
     },
     "user_tz": 240
    },
    "id": "ajSi0UWiczs5",
    "outputId": "ac24e500-8cc4-4277-e043-6a766a478c40"
   },
   "outputs": [
    {
     "data": {
      "image/png": "[encoded data removed]",
      "text/latex": [
       "$\\displaystyle 95330.52835544171$"
      ],
      "text/plain": [
       "95330.52835544171"
      ]
     },
     "execution_count": 19,
     "metadata": {},
     "output_type": "execute_result"
    }
   ],
   "source": [
    "# When r=2, c=4.766526417772085, on average, we need 10000*c proposals from Negative Binomial Distribution.\n",
    "# For each proposal from Negative Binomial Distribution, we need to generate 2 samples from a Geometric Distribution\n",
    "# Therefore, on average, we need 10000*c*2 samples from a Geometric Distribution to generate 10000 samples one by one from our target distribution\n",
    "\n",
    "\n",
    "10000*c*2"
   ]
  },
  {
   "cell_type": "code",
   "execution_count": 20,
   "metadata": {
    "colab": {
     "base_uri": "https://localhost:8080/",
     "height": 37
    },
    "executionInfo": {
     "elapsed": 12251,
     "status": "ok",
     "timestamp": 1604029249962,
     "user": {
      "displayName": "Austin Christopher Palmer",
      "photoUrl": "",
      "userId": "02367868314616538485"
     },
     "user_tz": 240
    },
    "id": "y3MfJxfXdGJ0",
    "outputId": "421cb878-c322-490e-ed37-d7975f48ca06"
   },
   "outputs": [
    {
     "data": {
      "image/png": "[encoded data removed]",
      "text/latex": [
       "$\\displaystyle 98720.2301876196$"
      ],
      "text/plain": [
       "98720.2301876196"
      ]
     },
     "execution_count": 20,
     "metadata": {},
     "output_type": "execute_result"
    }
   ],
   "source": [
    "# When r=2, c=4.766526417772085, on average, we need (10000*c+4*(10000*c*(c-1))**0.5) proposals from Negative Binomial Distribution.\n",
    "# For each proposal from Negative Binomial Distribution, we need to generate 2 samples from a Geometric Distribution\n",
    "# Therefore, on average, we need (10000*c+4*(10000*c*(c-1))**0.5)*2 samples from a Geometric Distribution to generate 10000 samples in parallel from our target distribution\n",
    "\n",
    "(10000*c+4*(10000*c*(c-1))**0.5)*r_2"
   ]
  },
  {
   "cell_type": "code",
   "execution_count": 21,
   "metadata": {
    "colab": {
     "base_uri": "https://localhost:8080/",
     "height": 265
    },
    "executionInfo": {
     "elapsed": 12657,
     "status": "ok",
     "timestamp": 1604029250379,
     "user": {
      "displayName": "Austin Christopher Palmer",
      "photoUrl": "",
      "userId": "02367868314616538485"
     },
     "user_tz": 240
    },
    "id": "j74VO3zkdUNA",
    "outputId": "c6585128-9468-455c-c776-703bc311e977"
   },
   "outputs": [
    {
     "data": {
      "image/png": "[encoded data removed]",
      "text/plain": [
       "<Figure size 432x288 with 1 Axes>"
      ]
     },
     "metadata": {
      "needs_background": "light"
     },
     "output_type": "display_data"
    }
   ],
   "source": [
    "# change r to 3\n",
    "r_4_3 = 3\n",
    "p_4_3 = lm/(r_4_3+lm)\n",
    "x_4_3=np.arange(101)\n",
    "PMF_t_4_3=spst.poisson.pmf(x_4_3,lm)\n",
    "PMF_p_4_3=spsp.comb(x_4_3+r_4_3-1, x_4_3)*(p_4_3**x_4_3)*((1-p_4_3)**r_4_3)\n",
    "plt.bar(x_4_3,PMF_t_4_3/PMF_p_4_3)\n",
    "plt.show()"
   ]
  },
  {
   "cell_type": "code",
   "execution_count": 22,
   "metadata": {
    "colab": {
     "base_uri": "https://localhost:8080/",
     "height": 37
    },
    "executionInfo": {
     "elapsed": 12650,
     "status": "ok",
     "timestamp": 1604029250381,
     "user": {
      "displayName": "Austin Christopher Palmer",
      "photoUrl": "",
      "userId": "02367868314616538485"
     },
     "user_tz": 240
    },
    "id": "KxVpeeOHdXMI",
    "outputId": "a6d6c273-aa58-4c33-9f32-f361845843b1"
   },
   "outputs": [
    {
     "data": {
      "image/png": "[encoded data removed]",
      "text/latex": [
       "$\\displaystyle 3.8846538845065135$"
      ],
      "text/plain": [
       "3.8846538845065135"
      ]
     },
     "execution_count": 22,
     "metadata": {},
     "output_type": "execute_result"
    }
   ],
   "source": [
    "#find out the NEW c value\n",
    "c_4_3=np.max(PMF_t_4_3/PMF_p_4_3)\n",
    "c_4_3"
   ]
  },
  {
   "cell_type": "code",
   "execution_count": 23,
   "metadata": {
    "colab": {
     "base_uri": "https://localhost:8080/",
     "height": 37
    },
    "executionInfo": {
     "elapsed": 12642,
     "status": "ok",
     "timestamp": 1604029250383,
     "user": {
      "displayName": "Austin Christopher Palmer",
      "photoUrl": "",
      "userId": "02367868314616538485"
     },
     "user_tz": 240
    },
    "id": "gd_E6dngCZYY",
    "outputId": "6c92813b-6d78-4e12-bbd6-98109e2472eb"
   },
   "outputs": [
    {
     "data": {
      "image/png": "[encoded data removed]",
      "text/latex": [
       "$\\displaystyle 116539.61653519541$"
      ],
      "text/plain": [
       "116539.61653519541"
      ]
     },
     "execution_count": 23,
     "metadata": {},
     "output_type": "execute_result"
    }
   ],
   "source": [
    "# When r=3, c=3.8846538845065135, on average, we need 10000*c proposals from Negative Binomial Distribution.\n",
    "# For each proposal from Negative Binomial Distribution, we need to generate 3 samples from a Geometric Distribution\n",
    "# Therefore, on average, we need 10000*c*3 samples from a Geometric Distribution to generate 10000 samples one by one from our target distribution\n",
    "\n",
    "\n",
    "10000*c_4_3*3"
   ]
  },
  {
   "cell_type": "code",
   "execution_count": 24,
   "metadata": {
    "colab": {
     "base_uri": "https://localhost:8080/",
     "height": 265
    },
    "executionInfo": {
     "elapsed": 12635,
     "status": "ok",
     "timestamp": 1604029250385,
     "user": {
      "displayName": "Austin Christopher Palmer",
      "photoUrl": "",
      "userId": "02367868314616538485"
     },
     "user_tz": 240
    },
    "id": "bWY8IdpuCXk6",
    "outputId": "f4107a01-8dc9-4fe3-a36b-3f40ced491f7"
   },
   "outputs": [
    {
     "data": {
      "image/png": "[encoded data removed]",
      "text/plain": [
       "<Figure size 432x288 with 1 Axes>"
      ]
     },
     "metadata": {
      "needs_background": "light"
     },
     "output_type": "display_data"
    }
   ],
   "source": [
    "# change r to 40\n",
    "r_4_40 = 40\n",
    "p_4_40 = lm/(r_4_40+lm)\n",
    "x_4_40=np.arange(101)\n",
    "PMF_t_4_40=spst.poisson.pmf(x_4_40,lm)\n",
    "PMF_p_4_40=spsp.comb(x_4_40+r_4_40-1, x_4_40)*(p_4_40**x_4_40)*((1-p_4_40)**r_4_40)\n",
    "plt.bar(x_4_40,PMF_t_4_40/PMF_p_4_40)\n",
    "plt.show()"
   ]
  },
  {
   "cell_type": "code",
   "execution_count": 25,
   "metadata": {
    "colab": {
     "base_uri": "https://localhost:8080/",
     "height": 37
    },
    "executionInfo": {
     "elapsed": 12626,
     "status": "ok",
     "timestamp": 1604029250386,
     "user": {
      "displayName": "Austin Christopher Palmer",
      "photoUrl": "",
      "userId": "02367868314616538485"
     },
     "user_tz": 240
    },
    "id": "2mrwV9vbCe8m",
    "outputId": "36c8c1d4-422f-4023-e175-cac13c50f53b"
   },
   "outputs": [
    {
     "data": {
      "image/png": "[encoded data removed]",
      "text/latex": [
       "$\\displaystyle 1.4156874152734606$"
      ],
      "text/plain": [
       "1.4156874152734606"
      ]
     },
     "execution_count": 25,
     "metadata": {},
     "output_type": "execute_result"
    }
   ],
   "source": [
    "#find out the NEW c value\n",
    "c_4_40=np.max(PMF_t_4_40/PMF_p_4_40)\n",
    "c_4_40"
   ]
  },
  {
   "cell_type": "code",
   "execution_count": 26,
   "metadata": {
    "colab": {
     "base_uri": "https://localhost:8080/",
     "height": 37
    },
    "executionInfo": {
     "elapsed": 12619,
     "status": "ok",
     "timestamp": 1604029250388,
     "user": {
      "displayName": "Austin Christopher Palmer",
      "photoUrl": "",
      "userId": "02367868314616538485"
     },
     "user_tz": 240
    },
    "id": "Dck7drmo57vz",
    "outputId": "e231a6be-b6c5-4b7c-a22d-473a55a0405f"
   },
   "outputs": [
    {
     "data": {
      "image/png": "[encoded data removed]",
      "text/latex": [
       "$\\displaystyle 566274.9661093843$"
      ],
      "text/plain": [
       "566274.9661093843"
      ]
     },
     "execution_count": 26,
     "metadata": {},
     "output_type": "execute_result"
    }
   ],
   "source": [
    "# When r=40, c=1.4156874152734606, on average, we need 10000*c proposals from Negative Binomial Distribution.\n",
    "# For each proposal from Negative Binomial Distribution, we need to generate 40 samples from a Geometric Distribution\n",
    "# Therefore, on average, we need 10000*c*40 samples from a Geometric Distribution to generate 10000 samples one by one from our target distribution\n",
    "\n",
    "\n",
    "10000*c_4_40*40"
   ]
  },
  {
   "cell_type": "markdown",
   "metadata": {
    "id": "u3w0jxGu4DzP"
   },
   "source": [
    "##Q5. [15 points]\n",
    "\n",
    "Let's work on an extension of the Pokemon Go example we saw in HW1. Let's assume that a random player can only belong to one of the three following segments:\n",
    "\n",
    "* Segment 1: Players will keep on playing until they see 1 shiny pokemon\n",
    "* Segment 2: Players will keep on playing until they see 2 shiny pokemon\n",
    "* Segment 3: Players will only check up to 30 pokemon. However, if they get one shiny pokemon during the process, they will stop.\n",
    "\n",
    "\n",
    "Let's assume that a player has a 0.25 probability of belonging to segment 1 and a 0.1 probability of belonging to segment 2. \n",
    "\n",
    "Again, let's assume the probability of encountering a shiny pokemon is 0.1. \n",
    "\n",
    "We are interested in getting 10000 samples of $x$, where $x$ is a variable that represents the number of non-shiny pokemon encountered before a random player stops.\n",
    "\n",
    "* Construct a function that will generate one sample of $x$ based on the composition method.\n",
    "* Visualize the sample distribution (using a scatter plot) and the corresponding theoretical distribution (using a bar chart) in the same graph."
   ]
  },
  {
   "cell_type": "code",
   "execution_count": 27,
   "metadata": {
    "colab": {
     "base_uri": "https://localhost:8080/",
     "height": 279
    },
    "executionInfo": {
     "elapsed": 13286,
     "status": "ok",
     "timestamp": 1604029251062,
     "user": {
      "displayName": "Austin Christopher Palmer",
      "photoUrl": "",
      "userId": "02367868314616538485"
     },
     "user_tz": 240
    },
    "id": "aXVA3a_4d3bC",
    "outputId": "5c815cdf-1357-4d95-946c-3399965de992"
   },
   "outputs": [
    {
     "data": {
      "image/png": "[encoded data removed]",
      "text/plain": [
       "<Figure size 432x288 with 1 Axes>"
      ]
     },
     "metadata": {
      "needs_background": "light"
     },
     "output_type": "display_data"
    }
   ],
   "source": [
    "#Composition Method\n",
    "p=0.9\n",
    "#sampling one by one\n",
    "def composition():\n",
    "    if np.random.rand()<0.25:\n",
    "        u=np.random.rand()\n",
    "        #r=1\n",
    "        x=np.floor(np.log(1-u)/np.log(p)).astype(int)\n",
    "        return x\n",
    "    elif np.random.rand()<0.35:\n",
    "        u=np.random.rand()\n",
    "        #r=2\n",
    "        x=np.floor(np.log(1-u)/np.log(p)).astype(int)+np.floor(np.log(1-u)/np.log(p)).astype(int)\n",
    "        return x\n",
    "    else:\n",
    "        u=np.random.rand()\n",
    "        x=np.floor(np.log(1-u)/np.log(p)).astype(int)\n",
    "        if x<=30:\n",
    "          return x\n",
    "        else:\n",
    "          return 30\n",
    "\n",
    "samples=np.array([composition() for i in range(10000)])\n",
    "\n",
    "#visualization\n",
    "values,counts=np.unique(samples,return_counts=True)\n",
    "plt.scatter(values,counts/np.sum(counts),label=\"sample\",zorder=2)\n",
    "x=np.arange(np.max(values)+1)\n",
    "pmf_1=spsp.comb(x+1-1, x)*(p**x)*((1-p)**1)\n",
    "pmf_2=spsp.comb(x+2-1, x)*(p**x)*((1-p)**2)\n",
    "pmf_3=np.empty(len(x))\n",
    "seg1=x<30\n",
    "pmf_3[seg1]=spsp.comb(x[x<30]+1-1, x[x<30])*(p**x[x<30])*((1-p)**1)\n",
    "pmf_3[30]=1-np.sum(pmf_3[seg1])\n",
    "pmf_3[31:]=0\n",
    "pmf=pmf_1*0.25+pmf_2*0.1+pmf_3*0.65\n",
    "plt.bar(x,pmf,label=\"theory\")\n",
    "plt.legend(loc=\"best\")\n",
    "plt.xlabel(\"outcomes\")\n",
    "plt.ylabel(\"probabilities\")\n",
    "plt.show()"
   ]
  },
  {
   "cell_type": "markdown",
   "metadata": {
    "id": "65vcYhRf5cwL"
   },
   "source": [
    "##Q6. [10 points]\n",
    "\n",
    "* Rewrite your algorithm in Q5 to generate 10000 samples in a parallel way. [No loops allowed]\n",
    "\n",
    "* Visualize the sample distribution (using a scatter plot) and the corresponding theoretical distribution (using a bar chart) in the same graph."
   ]
  },
  {
   "cell_type": "code",
   "execution_count": 28,
   "metadata": {
    "colab": {
     "base_uri": "https://localhost:8080/",
     "height": 279
    },
    "executionInfo": {
     "elapsed": 13615,
     "status": "ok",
     "timestamp": 1604029251399,
     "user": {
      "displayName": "Austin Christopher Palmer",
      "photoUrl": "",
      "userId": "02367868314616538485"
     },
     "user_tz": 240
    },
    "id": "q0CAa8lE-Xze",
    "outputId": "b879e629-5612-45b9-8306-7a459f7598c7"
   },
   "outputs": [
    {
     "data": {
      "image/png": "[encoded data removed]",
      "text/plain": [
       "<Figure size 432x288 with 1 Axes>"
      ]
     },
     "metadata": {
      "needs_background": "light"
     },
     "output_type": "display_data"
    }
   ],
   "source": [
    "#sampling in parallel\n",
    "p=0.9\n",
    "u=np.random.rand(10000)\n",
    "sample_1=np.floor(np.log(1-np.random.rand(10000))/np.log(p)).astype(int)  *  (u<0.25)\n",
    "sample_2=(np.floor(np.log(1-np.random.rand(10000))/np.log(p)).astype(int)+np.floor(np.log(1-np.random.rand(10000))/np.log(p)).astype(int))  *  ((u>=0.25)*(u<0.35))\n",
    "sample_3=np.floor(np.log(1-np.random.rand(10000))/np.log(p)).astype(int)  *  ((u>=0.35)*(u<1))\n",
    "seg1=sample_3>30\n",
    "sample_3[seg1]=30\n",
    "samples=sample_1+sample_2+sample_3\n",
    "\n",
    "#visualization\n",
    "values,counts=np.unique(samples,return_counts=True)\n",
    "plt.scatter(values,counts/np.sum(counts),label=\"sample\",zorder=2)\n",
    "x=np.arange(np.max(values)+1)\n",
    "pmf_1=spsp.comb(x+1-1, x)*(p**x)*((1-p)**1)\n",
    "pmf_2=spsp.comb(x+2-1, x)*(p**x)*((1-p)**2)\n",
    "pmf_3=np.empty(len(x))\n",
    "seg1=x<30\n",
    "pmf_3[seg1]=spsp.comb(x[x<30]+1-1, x[x<30])*(p**x[x<30])*((1-p)**1)\n",
    "pmf_3[30]=1-np.sum(pmf_3[seg1])\n",
    "pmf_3[31:]=0\n",
    "pmf=pmf_1*0.25+pmf_2*0.1+pmf_3*0.65\n",
    "plt.bar(x,pmf,label=\"theory\")\n",
    "plt.legend(loc=\"best\")\n",
    "plt.xlabel(\"outcomes\")\n",
    "plt.ylabel(\"probabilities\")\n",
    "plt.show()"
   ]
  },
  {
   "cell_type": "markdown",
   "metadata": {
    "id": "TOOAEhx1wodN"
   },
   "source": [
    "#Exercise 2 [10 points]\n",
    "\n"
   ]
  },
  {
   "cell_type": "markdown",
   "metadata": {
    "id": "e-c3rmhSwrQ4"
   },
   "source": [
    "##Q1. [3 points]\n",
    "\n",
    "* Use np.random.rand() to generate 10000 samples and  visualize the distribution of the samples.\n",
    "* In the same plot, plot the corresponding target theoretical distribution.\n"
   ]
  },
  {
   "cell_type": "code",
   "execution_count": 29,
   "metadata": {
    "colab": {
     "base_uri": "https://localhost:8080/"
    },
    "executionInfo": {
     "elapsed": 13610,
     "status": "ok",
     "timestamp": 1604029251401,
     "user": {
      "displayName": "Austin Christopher Palmer",
      "photoUrl": "",
      "userId": "02367868314616538485"
     },
     "user_tz": 240
    },
    "id": "KVI-ssIXwtn2",
    "outputId": "6b82bb14-a762-45ad-d3f4-5bb211ca0f06"
   },
   "outputs": [
    {
     "data": {
      "text/plain": [
       "array([0.04186486, 0.89384129, 0.40024228, ..., 0.19024321, 0.76160792,\n",
       "       0.23327003])"
      ]
     },
     "execution_count": 29,
     "metadata": {},
     "output_type": "execute_result"
    }
   ],
   "source": [
    "#10000 samples from standard Uniform Distribution\n",
    "samples=np.array([np.random.rand() for i in range(10000)])\n",
    "samples"
   ]
  },
  {
   "cell_type": "code",
   "execution_count": 30,
   "metadata": {
    "executionInfo": {
     "elapsed": 13610,
     "status": "ok",
     "timestamp": 1604029251403,
     "user": {
      "displayName": "Austin Christopher Palmer",
      "photoUrl": "",
      "userId": "02367868314616538485"
     },
     "user_tz": 240
    },
    "id": "tvf3gRtMvAID"
   },
   "outputs": [],
   "source": [
    "#compute the PDF of standard Uniform Distribution\n",
    "a=0\n",
    "b=1\n",
    "x=np.linspace(a-1,b+1,1000)\n",
    "pdf=np.repeat(0.0, 1000)\n",
    "pdf[(x>=a) * (x<=b)]=1/(b-a)"
   ]
  },
  {
   "cell_type": "code",
   "execution_count": 31,
   "metadata": {
    "colab": {
     "base_uri": "https://localhost:8080/",
     "height": 265
    },
    "executionInfo": {
     "elapsed": 13977,
     "status": "ok",
     "timestamp": 1604029251777,
     "user": {
      "displayName": "Austin Christopher Palmer",
      "photoUrl": "",
      "userId": "02367868314616538485"
     },
     "user_tz": 240
    },
    "id": "6Abu4Bv6qhOy",
    "outputId": "07a469be-5a86-4158-c009-8c514dafdf2a"
   },
   "outputs": [
    {
     "data": {
      "image/png": "[encoded data removed]",
      "text/plain": [
       "<Figure size 432x288 with 1 Axes>"
      ]
     },
     "metadata": {
      "needs_background": "light"
     },
     "output_type": "display_data"
    }
   ],
   "source": [
    "#visualization\n",
    "plt.hist(samples,density=True,bins=int(10000**0.5),label='samples')\n",
    "plt.plot(x,pdf,label='theory')\n",
    "plt.legend(loc=\"best\")\n",
    "plt.show()"
   ]
  },
  {
   "cell_type": "markdown",
   "metadata": {
    "id": "3Bw0TCEzwfJl"
   },
   "source": [
    "## Q2. [7 points]\n",
    "\n",
    "* Based on the 10000 samples, we can get a sample mean. Repeat the process 1000 times to get 1000 sample means.\n",
    "* Plot the sample distribution of these 1000 sample means.\n",
    "* Based on the central limit theorem, plot the theoretical distribution of the sample mean in the same plot."
   ]
  },
  {
   "cell_type": "code",
   "execution_count": 32,
   "metadata": {
    "executionInfo": {
     "elapsed": 14295,
     "status": "ok",
     "timestamp": 1604029252098,
     "user": {
      "displayName": "Austin Christopher Palmer",
      "photoUrl": "",
      "userId": "02367868314616538485"
     },
     "user_tz": 240
    },
    "id": "T9BDb6JKDmdK"
   },
   "outputs": [],
   "source": [
    "#generate 1000 sample means\n",
    "sample_mean=np.array([np.mean(np.random.rand(10000)) for i in range(1000)])"
   ]
  },
  {
   "cell_type": "markdown",
   "metadata": {
    "id": "zluBzxu39jKk"
   },
   "source": [
    "\n",
    "\n",
    "Calling \"np.random.rand()\" generates a sample from a Uniform Distribution with $a=0$ and $b=1$. The mean of this Uniform Distribution is $\\frac{(a+b)}{2} = 1/2$ and the variance is $\\frac{(b-a)^2}{12} = 1/12$\n",
    "\n",
    "According to the central limit theorem, when $N$ is large, such as $N = 10000$ here, the sample mean of the 10000 samples from Uniform Distribution with $a=0$ and $b=1$ above follows a Normal Distribution with mean of $\\frac{1}{2}$  and variance of $\\frac{\\frac{1}{12}}{N} = \\frac{\\frac{1}{12}}{10000}$.\n",
    "\n"
   ]
  },
  {
   "cell_type": "code",
   "execution_count": 33,
   "metadata": {
    "colab": {
     "base_uri": "https://localhost:8080/",
     "height": 265
    },
    "executionInfo": {
     "elapsed": 14290,
     "status": "ok",
     "timestamp": 1604029252100,
     "user": {
      "displayName": "Austin Christopher Palmer",
      "photoUrl": "",
      "userId": "02367868314616538485"
     },
     "user_tz": 240
    },
    "id": "jK3a6o62wVka",
    "outputId": "108fc7f4-b19f-4066-de36-f2b735ee8a20"
   },
   "outputs": [
    {
     "data": {
      "image/png": "[encoded data removed]",
      "text/plain": [
       "<Figure size 432x288 with 1 Axes>"
      ]
     },
     "metadata": {
      "needs_background": "light"
     },
     "output_type": "display_data"
    }
   ],
   "source": [
    "#visualization of the distribution of sample means\n",
    "plt.hist(sample_mean,density=True,bins=int(1000**0.5),label='samples')\n",
    "mu,sigma=(1/2),((1/12)/10000)**0.5\n",
    "x=np.linspace(mu-3*sigma,mu+3*sigma)\n",
    "pdf=1/(2*np.pi*sigma**2)**0.5*np.exp(-(x-mu)**2/(2*sigma**2))\n",
    "plt.plot(x,pdf,label='theory')\n",
    "plt.legend(loc='best')\n",
    "plt.show()"
   ]
  },
  {
   "cell_type": "code",
   "execution_count": null,
   "metadata": {
    "executionInfo": {
     "elapsed": 14290,
     "status": "ok",
     "timestamp": 1604029252103,
     "user": {
      "displayName": "Austin Christopher Palmer",
      "photoUrl": "",
      "userId": "02367868314616538485"
     },
     "user_tz": 240
    },
    "id": "0sAPUtmMA555"
   },
   "outputs": [],
   "source": []
  }
 ],
 "metadata": {
  "colab": {
   "collapsed_sections": [],
   "name": "Ziyang Zhang - HW2 (IEOR 4404 Fall2020).ipynb",
   "provenance": [
    {
     "file_id": "1g5wPw6a1ckHuoZ3b0d91uSzkMd7sfOr_",
     "timestamp": 1602110646951
    },
    {
     "file_id": "10eNh8jOXhYKildnaAlSQ7VmSTaEsYoOd",
     "timestamp": 1601668726340
    },
    {
     "file_id": "1mhrc71zWTPBW1cAhXr0NnsankfXQ3P-L",
     "timestamp": 1591674249524
    },
    {
     "file_id": "1o5LYJZ8szf3ApBGxVY3U5Mg43sT5Pzsi",
     "timestamp": 1591119395501
    },
    {
     "file_id": "17YLUsT-simPwfyR7mYEZ9e7OqzQW1VL_",
     "timestamp": 1590691770956
    },
    {
     "file_id": "1DYv26GtKZ5f1h2rbYZVmvUIccWZjW3Qk",
     "timestamp": 1549497534304
    },
    {
     "file_id": "12B6WLNx31YfdQag4H4FGZg2O4DrGb_N1",
     "timestamp": 1549239662993
    },
    {
     "file_id": "1VR0VuBL54zLs_v_aZbs7JQKZIjGCxoYD",
     "timestamp": 1549229853314
    },
    {
     "file_id": "10kad7PI06HTqi0LYhH8D5iJ3yFeE9tz7",
     "timestamp": 1549207913345
    },
    {
     "file_id": "1ZJGrNPXqrJPePGKEGREVuotNdktPnM0s",
     "timestamp": 1549167839980
    },
    {
     "file_id": "1n2WSdLvSAMVsyZMVkHXR90R4xVO1UCsf",
     "timestamp": 1549063297268
    },
    {
     "file_id": "1VkAyLTUNvewUt-1UvPwd9TTzczqm9X0n",
     "timestamp": 1549041495799
    },
    {
     "file_id": "13w5uwJ_JvGGG7ZF7A70lcZGIv7PCeUfy",
     "timestamp": 1537056142521
    },
    {
     "file_id": "12uzysTelaiWo3tWY3PFotxCtfTex2fUN",
     "timestamp": 1536904108342
    },
    {
     "file_id": "1nBXmHj005sCfd0bu6KqToieWu7N1i3n2",
     "timestamp": 1536794585369
    }
   ],
   "toc_visible": true
  },
  "kernelspec": {
   "display_name": "Python 3",
   "language": "python",
   "name": "python3"
  },
  "language_info": {
   "codemirror_mode": {
    "name": "ipython",
    "version": 3
   },
   "file_extension": ".py",
   "mimetype": "text/x-python",
   "name": "python",
   "nbconvert_exporter": "python",
   "pygments_lexer": "ipython3",
   "version": "3.7.6"
  }
 },
 "nbformat": 4,
 "nbformat_minor": 1
}
