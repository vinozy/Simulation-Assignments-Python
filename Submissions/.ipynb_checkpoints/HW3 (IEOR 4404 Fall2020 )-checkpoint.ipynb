{
 "cells": [
  {
   "cell_type": "markdown",
   "metadata": {
    "id": "4s5izpSul0F9"
   },
   "source": [
    "# **IEOR 4404  Simulation (Fall 2020)**\n",
    "\n",
    "**Homework 3   [Total points: 80 Points]**\n",
    "\n",
    "\n",
    "**Due 11:59 PM, Nov 1**\n",
    "\n",
    "Homework 3 consists of application-oriented exercises focusing on different sampling techniques for a continuous distribution\n",
    "\n",
    "The steps to finish the homework:\n",
    "\n",
    "*   Step 1: Answer your homework on Google Colab.\n",
    "*   Step 2: Submit the copy on Google Assignment\n",
    "\n",
    "Before you submit your assignment, make sure to re-run your code from the beginning. (You can do so by first clicking Runtime/Reset All Runtimes and then clicking Runtime/Run all)\n",
    "\n"
   ]
  },
  {
   "cell_type": "code",
   "execution_count": 1,
   "metadata": {
    "executionInfo": {
     "elapsed": 491,
     "status": "ok",
     "timestamp": 1605133641309,
     "user": {
      "displayName": "Austin Christopher Palmer",
      "photoUrl": "",
      "userId": "02367868314616538485"
     },
     "user_tz": 300
    },
    "id": "f3BPfGhTQSbE"
   },
   "outputs": [],
   "source": [
    "#Your Name: Ziyang Zhang\n",
    "#Your UNI: zz2732"
   ]
  },
  {
   "cell_type": "code",
   "execution_count": 2,
   "metadata": {
    "colab": {
     "base_uri": "https://localhost:8080/"
    },
    "executionInfo": {
     "elapsed": 8616,
     "status": "ok",
     "timestamp": 1605133649459,
     "user": {
      "displayName": "Austin Christopher Palmer",
      "photoUrl": "",
      "userId": "02367868314616538485"
     },
     "user_tz": 300
    },
    "id": "x4lR3IqNGLmD",
    "outputId": "1f5ee088-fe25-4a53-88e8-52396140371b"
   },
   "outputs": [
    {
     "name": "stdout",
     "output_type": "stream",
     "text": [
      "Collecting pynverse\n",
      "  Downloading https://files.pythonhosted.org/packages/88/f8/fb90087055b1502def9b6e835e80fa548996bf1439a81583e592f388f4c9/pynverse-0.1.4.4.tar.gz\n",
      "Requirement already satisfied: scipy>=0.11 in /usr/local/lib/python3.6/dist-packages (from pynverse) (1.4.1)\n",
      "Requirement already satisfied: numpy>=1.6 in /usr/local/lib/python3.6/dist-packages (from pynverse) (1.18.5)\n",
      "Building wheels for collected packages: pynverse\n",
      "  Building wheel for pynverse (setup.py) ... \u001b[?25l\u001b[?25hdone\n",
      "  Created wheel for pynverse: filename=pynverse-0.1.4.4-cp36-none-any.whl size=6350 sha256=066f0578100b707f7b46be23b87763d0876bd66bceeea06a6dcca906f7b2a8d7\n",
      "  Stored in directory: /root/.cache/pip/wheels/80/ab/86/ec93f37613f012ba3e65c2bbd67e5c54cbc00d237574100c24\n",
      "Successfully built pynverse\n",
      "Installing collected packages: pynverse\n",
      "Successfully installed pynverse-0.1.4.4\n"
     ]
    }
   ],
   "source": [
    "#This imports all the packages you need for the homework\n",
    "#Please run this first\n",
    "import numpy as np\n",
    "\n",
    "import scipy.special as spsp\n",
    "\n",
    "import matplotlib.pyplot as plt\n",
    "\n",
    "%matplotlib inline\n",
    "\n",
    "\n",
    "import scipy.stats as spst\n",
    " \n",
    "import sympy\n",
    "!pip install pynverse\n",
    "import pynverse\n"
   ]
  },
  {
   "cell_type": "markdown",
   "metadata": {
    "id": "qiNT9NPSYuo_"
   },
   "source": [
    "#Exercise 1 [25 Points]\n",
    "##Setting\n",
    "\n",
    "The three-point-estimate is commonly used in the industry for project management, risk management, etc. For example, team members can provide their optimistic ($A$), pessimistic ($B$), and best guess ($C$) estimates for their deliverables. A distribution will then be constructed based on those three values. \n",
    "\n",
    "The triangular distribution is a **continuous** distribution that follows a triangular shape. It is commonly used to construct the distribution following the three-point-estimate. \n",
    "\n",
    "For example, a team might be asked to give an estimation of the time it would take to finish the project. The team might come up with the pessimistic guess of 30 days, the optimistic guess of 10 days, and their best guess of 25 days. Then, a distribution of the number of days (treated as continuous) $x$ will be constructed as follows\n",
    "\n",
    "$f(x)=\n",
    "  \\begin{cases}\n",
    "    \\frac{2(x-A)}{(B-A)(C-A)}, & \\text{for } A \\leq x < C \\\\\n",
    "    \\frac{2(B-x)}{(B-A)(B-C)}, & \\text{for } C \\leq x < B \\\\\n",
    "    0, & \\text{otherwise}\n",
    "  \\end{cases}\n",
    "$\n",
    "\n",
    "\n",
    "We will have $A<C<B$. In our case, $A$ will correspond to the optimistic value, $C$ will correspond to the best guess, and $B$ will correspond to the pessimistic value. \n",
    "\n"
   ]
  },
  {
   "cell_type": "markdown",
   "metadata": {
    "id": "9FM5P5Qhzahi"
   },
   "source": [
    "## Q1. [5 points]\n",
    "Plot the pdf of the number of days based on the information provided by the team. Choose 0 to 40 for the range of $x$ axis.\n",
    "\n",
    "[`loop` and `if` statements are NOT allowed in your answer. When you want to use a loop or if condition, think about if you can use comparison operations to make your code efficient]\n",
    "\n",
    "[You cannot use `scipy` package for this question]\n",
    "\n"
   ]
  },
  {
   "cell_type": "code",
   "execution_count": 3,
   "metadata": {
    "colab": {
     "base_uri": "https://localhost:8080/",
     "height": 279
    },
    "executionInfo": {
     "elapsed": 8608,
     "status": "ok",
     "timestamp": 1605133649464,
     "user": {
      "displayName": "Austin Christopher Palmer",
      "photoUrl": "",
      "userId": "02367868314616538485"
     },
     "user_tz": 300
    },
    "id": "WHvxSCRQFx6E",
    "outputId": "60f9df7e-98bb-4d7f-9aab-2d7050c62593"
   },
   "outputs": [
    {
     "data": {
      "image/png": "[encoded data removed]",
      "text/plain": [
       "<Figure size 432x288 with 1 Axes>"
      ]
     },
     "metadata": {
      "needs_background": "light",
      "tags": []
     },
     "output_type": "display_data"
    }
   ],
   "source": [
    "#Visualization\n",
    "\n",
    "def triangular_pdf(x,A,B,C):\n",
    "  pdf=np.repeat(0.0, len(x))       # initialized zeroes array\n",
    "  pdf[(x>=A) * (x<C)]=(2*(x[(x>=A) * (x<C)]-A))/((B-A)*(C-A))   # for A<=x<C\n",
    "  pdf[(x>=C) * (x<B)]=(2*(B-x[(x>=C) * (x<B)]))/((B-A)*(B-C))   # for C<=x<B\n",
    "  return pdf\n",
    "\n",
    "x=np.linspace(0,40,1000)         # range of x axis\n",
    "pdf=triangular_pdf(x,10,30,25)   # A=10, B=30, C=25\n",
    "plt.plot(x,pdf)\n",
    "plt.xlabel('Days')\n",
    "plt.ylabel('Density')\n",
    "plt.show()\n",
    "\n"
   ]
  },
  {
   "cell_type": "markdown",
   "metadata": {
    "id": "e61X5MVnYdWn"
   },
   "source": [
    "## Q2. [15 points]\n",
    "\n",
    "We can use the inverse transform method to directly sample from the target distribution. \n",
    "\n",
    "* Generate 10000 samples using the inverse transform method. Use `sympy` (Especially `simpy.lambdify()`) to show the derivation.  \n",
    "\n",
    "* After generating the samples, plot the distribution of the samples.\n",
    "\n",
    "Hint: When doing the inverse transform method, you should derive the formula for $(A,C)$ interval and $(C,B)$ interval separately. Think about what the CDF function is for $x$ in range $(A,C)$ and in range $(C,B)$. The same idea applies to the stage when you draw $u \\sim Unif(0,1)$ and convert it to $x$ using the inverse CDF function.\n",
    "\n",
    "[`loop` and `if` statements are NOT allowed in your answer. When you want to use a loop or if condition, think about if you can use comparison operations to make your code efficient]\n",
    "\n",
    "[You cannot use `scipy` package for this question]"
   ]
  },
  {
   "cell_type": "code",
   "execution_count": 4,
   "metadata": {
    "executionInfo": {
     "elapsed": 8799,
     "status": "ok",
     "timestamp": 1605133649659,
     "user": {
      "displayName": "Austin Christopher Palmer",
      "photoUrl": "",
      "userId": "02367868314616538485"
     },
     "user_tz": 300
    },
    "id": "uP0pDzzi3tpC"
   },
   "outputs": [],
   "source": [
    "#show your derivation here\n",
    "\n",
    "# define symbols first\n",
    "A=sympy.Symbol(\"A\")\n",
    "B=sympy.Symbol(\"B\")\n",
    "C=sympy.Symbol(\"C\")\n",
    "u=sympy.Symbol(\"u\")\n",
    "x=sympy.Symbol(\"x\")"
   ]
  },
  {
   "cell_type": "markdown",
   "metadata": {
    "id": "VQx01lRk1ZxX"
   },
   "source": [
    "Step 1: Get the inverse CDF function for $A\\leq x<C$"
   ]
  },
  {
   "cell_type": "code",
   "execution_count": 5,
   "metadata": {
    "colab": {
     "base_uri": "https://localhost:8080/"
    },
    "executionInfo": {
     "elapsed": 8792,
     "status": "ok",
     "timestamp": 1605133649661,
     "user": {
      "displayName": "Austin Christopher Palmer",
      "photoUrl": "",
      "userId": "02367868314616538485"
     },
     "user_tz": 300
    },
    "id": "OoE4xO_bXXnV",
    "outputId": "12524601-ccbb-405f-f187-ebee685e2436"
   },
   "outputs": [
    {
     "data": {
      "text/plain": [
       "(A**2 - 2*A*x + x**2)/(A**2 - A*B - A*C + B*C)"
      ]
     },
     "execution_count": 5,
     "metadata": {
      "tags": []
     },
     "output_type": "execute_result"
    }
   ],
   "source": [
    "# CDF for (A,C) interval\n",
    "pdf_ac=(2*(x-A))/((B-A)*(C-A))\n",
    "cdf_ac=sympy.integrate(pdf_ac,(x,A,x))\n",
    "cdf_ac.simplify()"
   ]
  },
  {
   "cell_type": "code",
   "execution_count": 6,
   "metadata": {
    "colab": {
     "base_uri": "https://localhost:8080/"
    },
    "executionInfo": {
     "elapsed": 8785,
     "status": "ok",
     "timestamp": 1605133649661,
     "user": {
      "displayName": "Austin Christopher Palmer",
      "photoUrl": "",
      "userId": "02367868314616538485"
     },
     "user_tz": 300
    },
    "id": "K7CGQ9Iug_cn",
    "outputId": "656293a4-4b93-4920-f0f5-3716d61a01fe"
   },
   "outputs": [
    {
     "data": {
      "text/plain": [
       "0.75"
      ]
     },
     "execution_count": 6,
     "metadata": {
      "tags": []
     },
     "output_type": "execute_result"
    }
   ],
   "source": [
    "A,B,C=10,30,25\n",
    "x=C\n",
    "# find the CDF value when x=C\n",
    "(A**2 - 2*A*x + x**2)/(A**2 - A*B - A*C + B*C)"
   ]
  },
  {
   "cell_type": "code",
   "execution_count": 7,
   "metadata": {
    "colab": {
     "base_uri": "https://localhost:8080/"
    },
    "executionInfo": {
     "elapsed": 8978,
     "status": "ok",
     "timestamp": 1605133649863,
     "user": {
      "displayName": "Austin Christopher Palmer",
      "photoUrl": "",
      "userId": "02367868314616538485"
     },
     "user_tz": 300
    },
    "id": "zE_o0frQY1pX",
    "outputId": "eda8beb3-4f56-44b6-b3a4-1659dfb7a000"
   },
   "outputs": [
    {
     "data": {
      "text/plain": [
       "[A - sqrt(u*(A - B)*(A - C)), A + sqrt(u*(A - B)*(A - C))]"
      ]
     },
     "execution_count": 7,
     "metadata": {
      "tags": []
     },
     "output_type": "execute_result"
    }
   ],
   "source": [
    "A=sympy.Symbol(\"A\")\n",
    "B=sympy.Symbol(\"B\")\n",
    "C=sympy.Symbol(\"C\")\n",
    "u=sympy.Symbol(\"u\")\n",
    "x=sympy.Symbol(\"x\")\n",
    "# inverse CDF for (A,C) interval\n",
    "inv_cdf_ac=sympy.solve(cdf_ac-u,x)   #solve for x\n",
    "inv_cdf_ac"
   ]
  },
  {
   "cell_type": "code",
   "execution_count": 8,
   "metadata": {
    "executionInfo": {
     "elapsed": 8998,
     "status": "ok",
     "timestamp": 1605133649885,
     "user": {
      "displayName": "Austin Christopher Palmer",
      "photoUrl": "",
      "userId": "02367868314616538485"
     },
     "user_tz": 300
    },
    "id": "Hu8931y-0PfZ"
   },
   "outputs": [],
   "source": [
    "inv_cdf_ac=inv_cdf_ac[1]\n",
    "sampling_ac=sympy.lambdify((A,B,C,u),inv_cdf_ac,\"numpy\")   # convert it into a function"
   ]
  },
  {
   "cell_type": "markdown",
   "metadata": {
    "id": "9I27gTJ72_zD"
   },
   "source": [
    "Step 2: Get the inverse CDF function for $C\\leq x<B$"
   ]
  },
  {
   "cell_type": "code",
   "execution_count": 9,
   "metadata": {
    "colab": {
     "base_uri": "https://localhost:8080/"
    },
    "executionInfo": {
     "elapsed": 9123,
     "status": "ok",
     "timestamp": 1605133650018,
     "user": {
      "displayName": "Austin Christopher Palmer",
      "photoUrl": "",
      "userId": "02367868314616538485"
     },
     "user_tz": 300
    },
    "id": "1F0U8bl7XXTl",
    "outputId": "bb3ca4ae-5720-4b2d-f1e6-9d0fba978d23"
   },
   "outputs": [
    {
     "data": {
      "text/plain": [
       "(0.75*A*B - 0.75*A*C - 0.75*B**2 + 2.75*B*C - 2*B*x - C**2 + x**2)/(A*B - A*C - B**2 + B*C)"
      ]
     },
     "execution_count": 9,
     "metadata": {
      "tags": []
     },
     "output_type": "execute_result"
    }
   ],
   "source": [
    "# CDF for (C,B) interval\n",
    "pdf_cb=(2*(B-x))/((B-A)*(B-C))\n",
    "cdf_cb=sympy.integrate(pdf_cb,(x,C,x))+0.75          # the result of the integration plus 0.75, \n",
    "                                                     # because CDF here starts from x=C, the value of CDF at x=C is 0.75\n",
    "cdf_cb.simplify()"
   ]
  },
  {
   "cell_type": "code",
   "execution_count": 10,
   "metadata": {
    "colab": {
     "base_uri": "https://localhost:8080/"
    },
    "executionInfo": {
     "elapsed": 9354,
     "status": "ok",
     "timestamp": 1605133650258,
     "user": {
      "displayName": "Austin Christopher Palmer",
      "photoUrl": "",
      "userId": "02367868314616538485"
     },
     "user_tz": 300
    },
    "id": "BJ7419sWX-u8",
    "outputId": "b1873b9b-6c3f-47b3-960b-61f679b67df3"
   },
   "outputs": [
    {
     "data": {
      "text/plain": [
       "[B - 0.5*sqrt(-(B - C)*(-4.0*A*u + 3.0*A + 4.0*B*u - 7.0*B + 4.0*C)),\n",
       " B + 0.5*sqrt(-(B - C)*(-4.0*A*u + 3.0*A + 4.0*B*u - 7.0*B + 4.0*C))]"
      ]
     },
     "execution_count": 10,
     "metadata": {
      "tags": []
     },
     "output_type": "execute_result"
    }
   ],
   "source": [
    "# inverse CDF for (C,B) interval\n",
    "inv_cdf_cb=sympy.solve(cdf_cb-u,x)   #solve for x\n",
    "inv_cdf_cb"
   ]
  },
  {
   "cell_type": "code",
   "execution_count": 11,
   "metadata": {
    "executionInfo": {
     "elapsed": 9356,
     "status": "ok",
     "timestamp": 1605133650263,
     "user": {
      "displayName": "Austin Christopher Palmer",
      "photoUrl": "",
      "userId": "02367868314616538485"
     },
     "user_tz": 300
    },
    "id": "SlzQsnuL2-dN"
   },
   "outputs": [],
   "source": [
    "inv_cdf_cb=inv_cdf_cb[0]\n",
    "sampling_cb=sympy.lambdify((A,B,C,u),inv_cdf_cb,\"numpy\")   # convert it into a function"
   ]
  },
  {
   "cell_type": "markdown",
   "metadata": {
    "id": "VpK_oZ8p3Yum"
   },
   "source": [
    "Now, we can use a function to generate samples using the 2 inverse CDF functions above."
   ]
  },
  {
   "cell_type": "code",
   "execution_count": 12,
   "metadata": {
    "colab": {
     "base_uri": "https://localhost:8080/",
     "height": 279
    },
    "executionInfo": {
     "elapsed": 9822,
     "status": "ok",
     "timestamp": 1605133650738,
     "user": {
      "displayName": "Austin Christopher Palmer",
      "photoUrl": "",
      "userId": "02367868314616538485"
     },
     "user_tz": 300
    },
    "id": "T9ReCVksHuMZ",
    "outputId": "4762b281-af8b-44b8-9a9a-a96a19d3805e"
   },
   "outputs": [
    {
     "data": {
      "image/png": "[encoded data removed]",
      "text/plain": [
       "<Figure size 432x288 with 1 Axes>"
      ]
     },
     "metadata": {
      "needs_background": "light",
      "tags": []
     },
     "output_type": "display_data"
    }
   ],
   "source": [
    "#define a function used to generate the samples using inverse method. \n",
    "#No loops should be used\n",
    "\n",
    "def triangle_inverse(N,A,B,C):\n",
    "  u=np.random.rand(N)\n",
    "  samples=np.zeros(N)\n",
    "  u1=u[u<0.75]     # u for (A,C) interval\n",
    "  u2=u[u>=0.75]    # u for (C,B) interval\n",
    "  samples[u<0.75]=sampling_ac(A,B,C,u1)\n",
    "  samples[u>=0.75]=sampling_cb(A,B,C,u2)\n",
    "  return samples\n",
    "\n",
    "#generate the samples \n",
    "samples=triangle_inverse(10000,10,30,25)\n",
    "\n",
    "\n",
    "#visualize the distribution of samples \n",
    "plt.hist(samples,bins=100,density=True,label='samples')\n",
    "x=np.linspace(0,40,1000)         # range of x axis\n",
    "pdf=triangular_pdf(x,10,30,25)   # A=10, B=30, C=25\n",
    "plt.plot(x,pdf,label='theory')\n",
    "plt.xlabel('Days')\n",
    "plt.ylabel('Density')\n",
    "plt.legend(loc='best')\n",
    "plt.show()"
   ]
  },
  {
   "cell_type": "markdown",
   "metadata": {
    "id": "4c3mYD3EZDGn"
   },
   "source": [
    "## Q3. [5 points]\n",
    "\n",
    "The team estimated that the profit that they will get from the project follows the following formula.\n",
    "\n",
    "$Profit=18000-20 days^2$\n",
    "\n",
    "* Plot the sample distribution of the profit based on 10000 samples.\n",
    "* Based on the samples, give the probability of profit being lower than 5000.\n",
    "\n",
    "[`loop` and `if` statements are NOT allowed in your answer. When you want to use a loop or if condition, think about if you can use comparison operations to make your code efficient]\n",
    "\n",
    "[You cannot use `scipy` package for this question]"
   ]
  },
  {
   "cell_type": "code",
   "execution_count": 13,
   "metadata": {
    "colab": {
     "base_uri": "https://localhost:8080/",
     "height": 279
    },
    "executionInfo": {
     "elapsed": 10033,
     "status": "ok",
     "timestamp": 1605133650958,
     "user": {
      "displayName": "Austin Christopher Palmer",
      "photoUrl": "",
      "userId": "02367868314616538485"
     },
     "user_tz": 300
    },
    "id": "jScrh9isAs-r",
    "outputId": "9fc9c02a-2e7a-4743-c41f-213373a26eb3"
   },
   "outputs": [
    {
     "data": {
      "image/png": "[encoded data removed]",
      "text/plain": [
       "<Figure size 432x288 with 1 Axes>"
      ]
     },
     "metadata": {
      "needs_background": "light",
      "tags": []
     },
     "output_type": "display_data"
    }
   ],
   "source": [
    "#pot a histagram showing distribution of profit \n",
    "profit=18000-20*samples**2\n",
    "plt.hist(profit,bins=100,density=True)\n",
    "plt.xlabel('Profit')\n",
    "plt.ylabel('Density')\n",
    "plt.show()"
   ]
  },
  {
   "cell_type": "code",
   "execution_count": 14,
   "metadata": {
    "colab": {
     "base_uri": "https://localhost:8080/"
    },
    "executionInfo": {
     "elapsed": 10025,
     "status": "ok",
     "timestamp": 1605133650959,
     "user": {
      "displayName": "Austin Christopher Palmer",
      "photoUrl": "",
      "userId": "02367868314616538485"
     },
     "user_tz": 300
    },
    "id": "AukaAxAcv94N",
    "outputId": "cdf4e8eb-f53b-42ac-f457-76f514eec974"
   },
   "outputs": [
    {
     "data": {
      "text/plain": [
       "0.1998"
      ]
     },
     "execution_count": 14,
     "metadata": {
      "tags": []
     },
     "output_type": "execute_result"
    }
   ],
   "source": [
    "prob=np.sum(profit<5000)/10000\n",
    "prob"
   ]
  },
  {
   "cell_type": "code",
   "execution_count": 15,
   "metadata": {
    "colab": {
     "base_uri": "https://localhost:8080/"
    },
    "executionInfo": {
     "elapsed": 10020,
     "status": "ok",
     "timestamp": 1605133650961,
     "user": {
      "displayName": "Austin Christopher Palmer",
      "photoUrl": "",
      "userId": "02367868314616538485"
     },
     "user_tz": 300
    },
    "id": "Pw7-PGCT-8C0",
    "outputId": "cf3694d4-6520-4063-b5d7-a1aab75f6f74"
   },
   "outputs": [
    {
     "name": "stdout",
     "output_type": "stream",
     "text": [
      "The probability of the 'Profit' being lower than 5000 is 0.1998\n"
     ]
    }
   ],
   "source": [
    "print(\"The probability of the 'Profit' being lower than 5000 is \"+str(prob))"
   ]
  },
  {
   "cell_type": "markdown",
   "metadata": {
    "id": "ui4shDg11VDe"
   },
   "source": [
    "#Exercise 2 [30 Points]\n",
    "##Setting \n",
    "\n",
    "In this exercise, let's sample from a [truncated normal distribution](https://en.wikipedia.org/wiki/Truncated_normal_distribution) between $x_l$ and $x_u$.\n",
    "\n",
    "A truncated normal distribution between $x_l$ and $x_u$ means $x$ should have followed a normal distribution if truncation did not happen. However, $x<x_l$ and $x>x_u$ will simply never appear or never be observed. As a result, the support of a truncated normal distribution is between $x_l$ and $x_u$.\n",
    "\n",
    "The PDF of a truncated normal distribution follows:\n",
    "$g(x|\\mu,\\sigma,x_l,x_u)=\\begin{cases} \\frac{f(x|\\mu,\\sigma)}{F(x_u|\\mu,\\sigma)-F(x_l|\\mu,\\sigma)} &\\text{, if } x_l\\leq x \\leq x_u  \\\\ 0 & \\text{,otherwise}\\end{cases}$\n",
    "\n",
    "Where, $f(x|\\mu,\\sigma)$ is the PDF of the original untruncated normal distribution, $F(x_l|\\mu,\\sigma)$ is the CDF of the original untruncated normal distribution evaluated at $x_l$, and $F(x_u|\\mu,\\sigma)$ is the CDF of the original normal distribution evaluated at $x_u$. To compute PDF and CDF of a normal distribution, you can use `scipy.stats.norm.pdf(x,loc,scale)`  and `scipy.stats.norm.cdf(x,loc,scale)`, where `loc` is the mean of the untruncated normal distribution, `scale` is the standard deviation of the untruncated normal distribution.\n",
    "\n",
    "For this exercise, let's assume that $\\mu=10$, $\\sigma=3$, $x_l=8$, $x_u=12$ for all parts of the question.\n",
    "\n"
   ]
  },
  {
   "cell_type": "markdown",
   "metadata": {
    "id": "-4oJL8U_e3Uf"
   },
   "source": [
    "## Q1. [10 Points]\n",
    "\n",
    "* Visualize the pdf of a truncated normal distribution based on 1000 evenly spaced x values between 5 and 15.  \n",
    "* In the same plot, plot the triangular distribution with $A=x_l$, $C=\\mu$, $B=x_u$\n",
    "* Is it a good idea to use the triangular distribution with $A=x_l$, $C=\\mu$, $B=x_u$ as our proposal distribution? Explain based on visualizing the ratio between $pdf_t$ and $pdf_p$ and provide your reasoning.  \n",
    "\n",
    "\n",
    "[`loop` and `if` statements are NOT allowed in your answer. When you want to use a loop or if condition, think about if you can use comparison operations to make your code efficient]\n",
    "\n",
    "[You can only use `scipy` package to get pdf and cdf of a normal distribution]"
   ]
  },
  {
   "cell_type": "code",
   "execution_count": 16,
   "metadata": {
    "colab": {
     "base_uri": "https://localhost:8080/",
     "height": 279
    },
    "executionInfo": {
     "elapsed": 10203,
     "status": "ok",
     "timestamp": 1605133651152,
     "user": {
      "displayName": "Austin Christopher Palmer",
      "photoUrl": "",
      "userId": "02367868314616538485"
     },
     "user_tz": 300
    },
    "id": "bv3QnXGXf4VD",
    "outputId": "6f03cbba-9e26-414d-97c4-0b994d41000f"
   },
   "outputs": [
    {
     "data": {
      "image/png": "[encoded data removed]",
      "text/plain": [
       "<Figure size 432x288 with 1 Axes>"
      ]
     },
     "metadata": {
      "needs_background": "light",
      "tags": []
     },
     "output_type": "display_data"
    }
   ],
   "source": [
    "#visulization of PDFs\n",
    "\n",
    "x=np.linspace(5,15,1000)\n",
    "\n",
    "def trun_normal_pdf(x,mu,sigma,x_l,x_u):\n",
    "  tr_pdf=np.repeat(0.0, len(x))          # initialized zeroes array\n",
    "  un_pdf=spst.norm.pdf(x[(x>=x_l) * (x<=x_u)],mu,sigma)\n",
    "  un_cdf_upper=spst.norm.cdf(x_u,mu,sigma)\n",
    "  un_cdf_lower=spst.norm.cdf(x_l,mu,sigma)\n",
    "  tr_pdf[(x>=x_l) * (x<=x_u)]=un_pdf/(un_cdf_upper-un_cdf_lower)\n",
    "  return tr_pdf\n",
    "\n",
    "tr_pdf=trun_normal_pdf(x,10,3,8,12)\n",
    "triangle_pdf=triangular_pdf(x,8,12,10)\n",
    "plt.plot(x,tr_pdf,label='Truncated Normal Dist.')\n",
    "plt.plot(x,triangle_pdf,label='Triangle Dist.')\n",
    "plt.xlabel('x')\n",
    "plt.ylabel('Density')\n",
    "plt.legend(loc='center left', bbox_to_anchor=(1, 0.5))\n",
    "plt.show()"
   ]
  },
  {
   "cell_type": "code",
   "execution_count": 17,
   "metadata": {
    "colab": {
     "base_uri": "https://localhost:8080/",
     "height": 286
    },
    "executionInfo": {
     "elapsed": 10634,
     "status": "ok",
     "timestamp": 1605133651591,
     "user": {
      "displayName": "Austin Christopher Palmer",
      "photoUrl": "",
      "userId": "02367868314616538485"
     },
     "user_tz": 300
    },
    "id": "pstT_u2ZOlkW",
    "outputId": "d5f67139-20f5-4862-de27-d20f966cd2a6"
   },
   "outputs": [
    {
     "data": {
      "image/png": "[encoded data removed]",
      "text/plain": [
       "<Figure size 432x288 with 1 Axes>"
      ]
     },
     "metadata": {
      "needs_background": "light",
      "tags": []
     },
     "output_type": "display_data"
    },
    {
     "name": "stdout",
     "output_type": "stream",
     "text": [
      "The c value is 286.71767062757283\n"
     ]
    }
   ],
   "source": [
    "#visualization of the ratio between Truncated Normal Distribution's PDF and Triangle Distribution's PDF\n",
    "\n",
    "ratios=tr_pdf[tr_pdf!=0]/triangle_pdf[tr_pdf!=0]\n",
    "plt.plot(x[(x>=8) * (x<=12)],ratios)\n",
    "plt.show()\n",
    "c=np.max(ratios)\n",
    "print(\"The c value is \"+str(c))"
   ]
  },
  {
   "cell_type": "markdown",
   "metadata": {
    "id": "CCuSwhnGOfM4"
   },
   "source": [
    "Based on the result above, the c value will be $286.71767$, which is too high for rejection sampling. It means for any random sample from the proposal distribution, the probability for it to be accepted is $\\frac{1}{286.71767}$. We would have to generate a very large number of proposals to get enough target distribution samples.\n",
    "\n",
    "Therefore, it is NOT a good idea to use the triangular distribution with $A=x_l$, $C=\\mu$, $B=x_u$ as our proposal distribution"
   ]
  },
  {
   "cell_type": "markdown",
   "metadata": {
    "id": "ePX6R1I9D2XZ"
   },
   "source": [
    "##Q2. [10 Point]\n",
    "* Based on the numerical method, find out the set of $A$, $B$, and $C$ that gives the highest acceptance rate by searching different parameter values of the proposal distribution. [hint: since our target distribution is symmetric, you can also use a triangular distribution that is symmetric as your proposal distribution]\n",
    "* In the same graph, plot both the pdf of truncated normal distribution and also the pdf of  triangular distribution with the optimal $A$, $B$, $C$ value you chose.\n",
    "\n",
    "[`loop` and `if` statements are NOT allowed in your answer. When you want to use a loop or if condition, think about if you can use comparison operations to make your code efficient]\n",
    "\n",
    "[You can only use `scipy` package to get pdf and cdf of a normal distribution]\n"
   ]
  },
  {
   "cell_type": "code",
   "execution_count": 18,
   "metadata": {
    "executionInfo": {
     "elapsed": 10636,
     "status": "ok",
     "timestamp": 1605133651595,
     "user": {
      "displayName": "Austin Christopher Palmer",
      "photoUrl": "",
      "userId": "02367868314616538485"
     },
     "user_tz": 300
    },
    "id": "Kly1sN3Apv90"
   },
   "outputs": [],
   "source": [
    "#correction: \"loop\" and \"if\" statements are ALLOWED in this question !!!"
   ]
  },
  {
   "cell_type": "code",
   "execution_count": 19,
   "metadata": {
    "executionInfo": {
     "elapsed": 10636,
     "status": "ok",
     "timestamp": 1605133651598,
     "user": {
      "displayName": "Austin Christopher Palmer",
      "photoUrl": "",
      "userId": "02367868314616538485"
     },
     "user_tz": 300
    },
    "id": "TKI4RQEVy03B"
   },
   "outputs": [],
   "source": [
    "#no need to explore A, B, C below 5 or above 15.\n",
    "\n",
    "#numerical method !!\n",
    "x=np.linspace(5,15,1000)\n",
    "diff=np.linspace(2,5,10000)\n",
    "\n",
    "\n",
    "def find_c(x,d):\n",
    "  C=10\n",
    "  A=C-d\n",
    "  B=C+d\n",
    "  pdf_p=triangular_pdf(x,A,B,C)\n",
    "  if d<2:\n",
    "    ratios=tr_pdf[pdf_p!=0]/pdf_p[pdf_p!=0]\n",
    "  else:\n",
    "    ratios=tr_pdf[tr_pdf!=0]/pdf_p[tr_pdf!=0]\n",
    "  c=np.max(ratios)\n",
    "  return c\n"
   ]
  },
  {
   "cell_type": "code",
   "execution_count": 20,
   "metadata": {
    "colab": {
     "base_uri": "https://localhost:8080/"
    },
    "executionInfo": {
     "elapsed": 11120,
     "status": "ok",
     "timestamp": 1605133652088,
     "user": {
      "displayName": "Austin Christopher Palmer",
      "photoUrl": "",
      "userId": "02367868314616538485"
     },
     "user_tz": 300
    },
    "id": "9mm1nBpQiTFN",
    "outputId": "9d7f2e89-c8c1-48ba-9296-febc67383a93"
   },
   "outputs": [
    {
     "name": "stdout",
     "output_type": "stream",
     "text": [
      "The best c value is 1.719442424114363\n",
      "The symmetrical difference is 3.993999399939994\n"
     ]
    }
   ],
   "source": [
    "result=np.array([find_c(x,d) for d in diff])\n",
    "c_array=result[result>1]        # filter out c values that are less or equal to 1\n",
    "c_diff=diff[result>1]\n",
    "\n",
    "d=c_diff[np.argmin(c_array)]\n",
    "c=np.min(c_array)\n",
    "print(\"The best c value is \"+str(c))\n",
    "print(\"The symmetrical difference is \"+str(d))"
   ]
  },
  {
   "cell_type": "code",
   "execution_count": 21,
   "metadata": {
    "colab": {
     "base_uri": "https://localhost:8080/",
     "height": 279
    },
    "executionInfo": {
     "elapsed": 11299,
     "status": "ok",
     "timestamp": 1605133652274,
     "user": {
      "displayName": "Austin Christopher Palmer",
      "photoUrl": "",
      "userId": "02367868314616538485"
     },
     "user_tz": 300
    },
    "id": "7HR3DkYXuLEc",
    "outputId": "87d2736d-4edc-4782-8807-26bc5f70fb6e"
   },
   "outputs": [
    {
     "data": {
      "image/png": "[encoded data removed]",
      "text/plain": [
       "<Figure size 432x288 with 1 Axes>"
      ]
     },
     "metadata": {
      "needs_background": "light",
      "tags": []
     },
     "output_type": "display_data"
    }
   ],
   "source": [
    "plt.plot(x,tr_pdf,label='Truncated Normal Dist.')\n",
    "plt.plot(x,triangular_pdf(x,10-d,10+d,10),label='Triangle Dist.')\n",
    "plt.xlabel('x')\n",
    "plt.ylabel('Density')\n",
    "plt.legend(loc='center left', bbox_to_anchor=(1, 0.5))\n",
    "plt.show()"
   ]
  },
  {
   "cell_type": "markdown",
   "metadata": {
    "id": "2hkvUaoDs1BU"
   },
   "source": [
    "##Q3. [10 points]\n",
    "\n",
    "* Use rejection sampling to generate 10000 samples. When generating the samples use the parallel method. [That is, no loop or list comprehension is allowed]\n",
    "* In the same graph, plot the sample distribution and the corresponding theoretical distribution.\n",
    "\n",
    "[`loop` and `if` statements are NOT allowed in your answer. When you want to use a loop or if condition, think about if you can use comparison operations to make your code efficient]\n",
    "\n",
    "[You can only use `scipy` package to get pdf and cdf of a normal distribution]\n"
   ]
  },
  {
   "cell_type": "code",
   "execution_count": 22,
   "metadata": {
    "colab": {
     "base_uri": "https://localhost:8080/",
     "height": 279
    },
    "executionInfo": {
     "elapsed": 12066,
     "status": "ok",
     "timestamp": 1605133653048,
     "user": {
      "displayName": "Austin Christopher Palmer",
      "photoUrl": "",
      "userId": "02367868314616538485"
     },
     "user_tz": 300
    },
    "id": "pvNQNM4wylxw",
    "outputId": "70cef328-4832-48dc-8ef8-95bf393aeb45"
   },
   "outputs": [
    {
     "data": {
      "image/png": "[encoded data removed]",
      "text/plain": [
       "<Figure size 432x288 with 1 Axes>"
      ]
     },
     "metadata": {
      "needs_background": "light",
      "tags": []
     },
     "output_type": "display_data"
    }
   ],
   "source": [
    "# rejection sampling in parallel\n",
    "\n",
    "# need a new function 'triangle_proposal' to generate proposals\n",
    "# because A, B, C changed here, compared to those in Exercise 1.\n",
    "A=sympy.Symbol(\"A\")\n",
    "B=sympy.Symbol(\"B\")\n",
    "C=sympy.Symbol(\"C\")\n",
    "u=sympy.Symbol(\"u\")\n",
    "x=sympy.Symbol(\"x\")\n",
    "pdf_cb=(2*(B-x))/((B-A)*(B-C))\n",
    "cdf_cb=sympy.integrate(pdf_cb,(x,C,x))+0.5\n",
    "inv_cdf_cb=sympy.solve(cdf_cb-u,x)\n",
    "inv_cdf_cb=inv_cdf_cb[0]\n",
    "sampling_cb=sympy.lambdify((A,B,C,u),inv_cdf_cb,\"numpy\")\n",
    "def triangle_proposal(N,A,B,C):\n",
    "  u=np.random.rand(N)\n",
    "  samples=np.zeros(N)\n",
    "  u1=u[u<0.5]     # u for (A,C) interval\n",
    "  u2=u[u>=0.5]    # u for (C,B) interval\n",
    "  samples[u<0.5]=sampling_ac(A,B,C,u1)\n",
    "  samples[u>=0.5]=sampling_cb(A,B,C,u2)\n",
    "  return samples\n",
    "\n",
    "#perform Rejection Sampling\n",
    "def rej_sample(N):\n",
    "    N_p=int(N*c+4*np.sqrt(N*(c**2-c)))\n",
    "    proposals=triangle_proposal(N_p,10-d,10+d,10)\n",
    "    AR=trun_normal_pdf(proposals,10,3,8,12)/triangular_pdf(proposals,10-d,10+d,10)/c\n",
    "    samples=proposals[np.random.rand(N_p)<AR]\n",
    "    return samples[0:N]\n",
    "samples=rej_sample(10000)\n",
    "\n",
    "#visulization of samples and theoretical distribution\n",
    "plt.hist(samples,bins=100,density=True,label=\"samples\")\n",
    "x=np.linspace(5,15,1000)\n",
    "plt.plot(x,tr_pdf,label='theory')\n",
    "plt.xlabel('x')\n",
    "plt.ylabel('Density')\n",
    "plt.legend(loc='best')\n",
    "plt.show()"
   ]
  },
  {
   "cell_type": "markdown",
   "metadata": {
    "id": "tRlKKN4F17rQ"
   },
   "source": [
    "#Exercise 3 [25 Points]\n",
    "\n",
    "##Setting \n",
    "Beta distribution is a distribution with support between 0 and 1. It is very commonly used to model the distribution of probabilities. Its un-normalized PDF follows:\n",
    "\n",
    "$f_u(x)=\\begin{cases} x^{a-1}(1-x)^{b-1} & \\text{if } 0 \\leq x < 1 \\\\ 0 &  \\text{otherwise} \\end{cases}$\n",
    "\n",
    "In this exercise, we will find a way to evaluate the expected value of a variable following this distribution without touching on the normalizing constant.\n",
    "\n",
    "For this exercise, let's assume $a=2, b=3$."
   ]
  },
  {
   "cell_type": "markdown",
   "metadata": {
    "id": "vWPHkr0Pst8z"
   },
   "source": [
    "## Q1. [6 Points]\n",
    "\n",
    "* Plot $f_u(x)$ for x between 0 and 1.  \n",
    "* Based on `sympy`, prove that this pdf is not normalized.\n",
    "\n",
    " \n",
    "\n",
    "[You can not use `scipy` package for this question]\n",
    "\n"
   ]
  },
  {
   "cell_type": "code",
   "execution_count": 23,
   "metadata": {
    "colab": {
     "base_uri": "https://localhost:8080/",
     "height": 295
    },
    "executionInfo": {
     "elapsed": 12064,
     "status": "ok",
     "timestamp": 1605133653052,
     "user": {
      "displayName": "Austin Christopher Palmer",
      "photoUrl": "",
      "userId": "02367868314616538485"
     },
     "user_tz": 300
    },
    "id": "FQE44lqas627",
    "outputId": "73da215b-142f-437a-fd5a-698a15bfcf27"
   },
   "outputs": [
    {
     "data": {
      "image/png": "[encoded data removed]",
      "text/plain": [
       "<Figure size 432x288 with 1 Axes>"
      ]
     },
     "metadata": {
      "needs_background": "light",
      "tags": []
     },
     "output_type": "display_data"
    }
   ],
   "source": [
    "#plot the PDF\n",
    "a=2\n",
    "b=3\n",
    "x=np.linspace(0,1,1000)\n",
    "pdf=x**(a-1)*(1-x)**(b-1)\n",
    "plt.plot(x,pdf)\n",
    "plt.xlabel('x')\n",
    "plt.ylabel('Density')\n",
    "plt.title('Unnormalized Beta Distribution')\n",
    "plt.show()"
   ]
  },
  {
   "cell_type": "code",
   "execution_count": 24,
   "metadata": {
    "colab": {
     "base_uri": "https://localhost:8080/"
    },
    "executionInfo": {
     "elapsed": 12060,
     "status": "ok",
     "timestamp": 1605133653054,
     "user": {
      "displayName": "Austin Christopher Palmer",
      "photoUrl": "",
      "userId": "02367868314616538485"
     },
     "user_tz": 300
    },
    "id": "50I3ZYkKydo5",
    "outputId": "aac9fab4-17ea-4250-894c-16b829ec7423"
   },
   "outputs": [
    {
     "data": {
      "text/plain": [
       "1/12"
      ]
     },
     "execution_count": 24,
     "metadata": {
      "tags": []
     },
     "output_type": "execute_result"
    }
   ],
   "source": [
    "#prove that this PDF is not normalized\n",
    "f=sympy.Symbol(\"f\")\n",
    "x=sympy.Symbol(\"x\")\n",
    "f=x**(a-1)*(1-x)**(b-1)\n",
    "sympy.integrate(f,(x,0,1))"
   ]
  },
  {
   "cell_type": "markdown",
   "metadata": {
    "id": "wz2zCXy_GwOq"
   },
   "source": [
    "Because$\\int f_u(x)dx=\\frac{1}{12}\\neq1$, this PDF is not normalized.\n",
    "\n",
    "Also, it means that the Normalizing Constant for this unnormalized distribution to be normalzied is $12$."
   ]
  },
  {
   "cell_type": "markdown",
   "metadata": {
    "id": "AzZLZHySNlmZ"
   },
   "source": [
    "##Q2. [12 Points]\n",
    "\n",
    "Use a uniform distribution as the proposal distribution to perform rejection sampling that will help you generate one sample from the beta distribution. When doing the rejection sampling, use the unnormalized pdf defined in the setting for the beta distribution.\n",
    "* Find out the unnormalized $c$ based on `sympy` using the analytical method. Make sure that both the first-order condition and the second-order condition are checked. [Additionally, you can also use visualization to further confirm your answer] \n",
    "* Construct a function that returns one sample.\n",
    "* Construct a function that will return N samples by calling the function you constructed in the last step.  \n",
    "* Generate the 10000 samples and plot the sample distribution.\n",
    "\n",
    "\n",
    "[You can not use `scipy` package for this question]\n",
    "\n"
   ]
  },
  {
   "cell_type": "code",
   "execution_count": 25,
   "metadata": {
    "colab": {
     "base_uri": "https://localhost:8080/"
    },
    "executionInfo": {
     "elapsed": 12194,
     "status": "ok",
     "timestamp": 1605133653193,
     "user": {
      "displayName": "Austin Christopher Palmer",
      "photoUrl": "",
      "userId": "02367868314616538485"
     },
     "user_tz": 300
    },
    "id": "Rq10xahT_Jox",
    "outputId": "42cc986f-d723-4260-d1cb-3c93b0fa8278"
   },
   "outputs": [
    {
     "data": {
      "text/plain": [
       "x*(-x + 1)**2"
      ]
     },
     "execution_count": 25,
     "metadata": {
      "tags": []
     },
     "output_type": "execute_result"
    }
   ],
   "source": [
    "#use analytical method to find the best c value !!\n",
    "a=2\n",
    "b=3\n",
    "x=sympy.Symbol(\"x\")\n",
    "l=sympy.Symbol(\"l\")\n",
    "pdf_t=x**(a-1)*(1-x)**(b-1)\n",
    "pdf_p=1\n",
    "fx=pdf_t/pdf_p\n",
    "fx"
   ]
  },
  {
   "cell_type": "code",
   "execution_count": 26,
   "metadata": {
    "colab": {
     "base_uri": "https://localhost:8080/"
    },
    "executionInfo": {
     "elapsed": 12193,
     "status": "ok",
     "timestamp": 1605133653197,
     "user": {
      "displayName": "Austin Christopher Palmer",
      "photoUrl": "",
      "userId": "02367868314616538485"
     },
     "user_tz": 300
    },
    "id": "9ONBOsqcG1UL",
    "outputId": "111b7d6e-1b34-4280-cf04-45489936ea55"
   },
   "outputs": [
    {
     "data": {
      "text/plain": [
       "1/3"
      ]
     },
     "execution_count": 26,
     "metadata": {
      "tags": []
     },
     "output_type": "execute_result"
    }
   ],
   "source": [
    "#first order\n",
    "order1=sympy.diff(fx,x)\n",
    "#set first order of f(x) to 0, solve for x_best\n",
    "x_best=sympy.solve(order1,x)[0]\n",
    "x_best"
   ]
  },
  {
   "cell_type": "code",
   "execution_count": 27,
   "metadata": {
    "colab": {
     "base_uri": "https://localhost:8080/"
    },
    "executionInfo": {
     "elapsed": 12189,
     "status": "ok",
     "timestamp": 1605133653198,
     "user": {
      "displayName": "Austin Christopher Palmer",
      "photoUrl": "",
      "userId": "02367868314616538485"
     },
     "user_tz": 300
    },
    "id": "VQ34Z5vBTNUp",
    "outputId": "988f9814-cc2f-40af-abd4-0270b41313a7"
   },
   "outputs": [
    {
     "data": {
      "text/plain": [
       "-2"
      ]
     },
     "execution_count": 27,
     "metadata": {
      "tags": []
     },
     "output_type": "execute_result"
    }
   ],
   "source": [
    "#second order\n",
    "order2=sympy.diff(fx,x,x)\n",
    "order2.subs({x:x_best}).simplify()\n",
    "\n",
    "#second order is negative, then x_best is the value that MAX the ratio f(x)"
   ]
  },
  {
   "cell_type": "code",
   "execution_count": 28,
   "metadata": {
    "colab": {
     "base_uri": "https://localhost:8080/"
    },
    "executionInfo": {
     "elapsed": 12182,
     "status": "ok",
     "timestamp": 1605133653199,
     "user": {
      "displayName": "Austin Christopher Palmer",
      "photoUrl": "",
      "userId": "02367868314616538485"
     },
     "user_tz": 300
    },
    "id": "LlBktdr9VXK6",
    "outputId": "6a7c7401-0e78-4637-a6bd-e7d1cd8d785c"
   },
   "outputs": [
    {
     "data": {
      "text/plain": [
       "0.148148148148148"
      ]
     },
     "execution_count": 28,
     "metadata": {
      "tags": []
     },
     "output_type": "execute_result"
    }
   ],
   "source": [
    "#compute best c value using x_best above\n",
    "c=fx.subs({x:x_best})    # substitute x_best into f(x)\n",
    "sympy.N(c)               # Unnormalized c value"
   ]
  },
  {
   "cell_type": "code",
   "execution_count": 29,
   "metadata": {
    "executionInfo": {
     "elapsed": 12182,
     "status": "ok",
     "timestamp": 1605133653201,
     "user": {
      "displayName": "Austin Christopher Palmer",
      "photoUrl": "",
      "userId": "02367868314616538485"
     },
     "user_tz": 300
    },
    "id": "Hk32dJtpVc3F"
   },
   "outputs": [],
   "source": [
    "def rejection():\n",
    "  a=2\n",
    "  b=3\n",
    "  proposal=np.random.rand()\n",
    "  while (np.random.rand()>proposal**(a-1)*(1-proposal)**(b-1)/(1)/c):\n",
    "    proposal=np.random.rand()\n",
    "  return proposal\n",
    "\n",
    "def rejectionN(N):\n",
    "  samples=np.array([rejection()  for i in range(N)])\n",
    "  return samples"
   ]
  },
  {
   "cell_type": "code",
   "execution_count": 30,
   "metadata": {
    "colab": {
     "base_uri": "https://localhost:8080/",
     "height": 269
    },
    "executionInfo": {
     "elapsed": 14055,
     "status": "ok",
     "timestamp": 1605133655081,
     "user": {
      "displayName": "Austin Christopher Palmer",
      "photoUrl": "",
      "userId": "02367868314616538485"
     },
     "user_tz": 300
    },
    "id": "xR7DbDdfrDQP",
    "outputId": "2ac092e0-fb83-440f-ac86-0874a95c678c"
   },
   "outputs": [
    {
     "data": {
      "image/png": "[encoded data removed]",
      "text/plain": [
       "<Figure size 432x288 with 1 Axes>"
      ]
     },
     "metadata": {
      "needs_background": "light",
      "tags": []
     },
     "output_type": "display_data"
    }
   ],
   "source": [
    "#generate samples\n",
    "samples=rejectionN(10000)\n",
    "\n",
    "#visulization\n",
    "plt.hist(samples,bins=100,density=True,label=\"Samples\")\n",
    "a=2\n",
    "b=3\n",
    "x=np.linspace(0,1,1000)\n",
    "pdf_t=x**(a-1)*(1-x)**(b-1)*12                  # 12 is the Normalizing Constant for the Beta distribution in Q1\n",
    "plt.plot(x,pdf_t,label='Normalized Target')\n",
    "plt.legend(loc=\"best\")\n",
    "plt.show()"
   ]
  },
  {
   "cell_type": "markdown",
   "metadata": {
    "id": "gCgE6PTy2fQn"
   },
   "source": [
    "The samples generated above using an Unnormalized Target Distribution and a Normalized Propsal Distribution through Rejection Sampling follows a Normalized Target Distribution."
   ]
  },
  {
   "cell_type": "markdown",
   "metadata": {
    "id": "i3vqdiktPR8L"
   },
   "source": [
    "##Q3. [7 Points]\n",
    "\n",
    "The expected value of a variable following a beta distribution is $\\frac{a}{a+b}$.\n",
    "\n",
    "In the graph, demonstrate how the sample mean estimation will approach the expected value when we increase the sample size. [use sample size 1,2,3, $\\dots$, 200]\n",
    "\n",
    "To place a horizontal line to the plot, us [`plt.hlines()`](https://matplotlib.org/3.3.2/api/_as_gen/matplotlib.pyplot.hlines.html)\n",
    "\n",
    "[You can not use `scipy` package for this question]\n"
   ]
  },
  {
   "cell_type": "code",
   "execution_count": 31,
   "metadata": {
    "colab": {
     "base_uri": "https://localhost:8080/",
     "height": 279
    },
    "executionInfo": {
     "elapsed": 17428,
     "status": "ok",
     "timestamp": 1605133658461,
     "user": {
      "displayName": "Austin Christopher Palmer",
      "photoUrl": "",
      "userId": "02367868314616538485"
     },
     "user_tz": 300
    },
    "id": "4P4nJY1zWMt_",
    "outputId": "32b69ff4-567f-4224-a24b-f899fa1d7de5"
   },
   "outputs": [
    {
     "data": {
      "image/png": "[encoded data removed]",
      "text/plain": [
       "<Figure size 432x288 with 1 Axes>"
      ]
     },
     "metadata": {
      "needs_background": "light",
      "tags": []
     },
     "output_type": "display_data"
    }
   ],
   "source": [
    "#generate sample means for sample size from 1 to 200\n",
    "a=2\n",
    "b=3\n",
    "ex=a/(a+b)\n",
    "sample_sizes=np.arange(1,201)\n",
    "sample_means=[np.mean(rejectionN(size)) for size in sample_sizes]\n",
    "#visulization comparing samples means and expected value\n",
    "plt.hlines(ex,1,200,label='Expected Value',colors='red')\n",
    "plt.plot(sample_sizes,sample_means,label='Sample Means')\n",
    "plt.xlabel('Sample Size')\n",
    "plt.legend(loc='best')\n",
    "plt.show()"
   ]
  },
  {
   "cell_type": "markdown",
   "metadata": {
    "id": "2CrE2NHj84-b"
   },
   "source": [
    "Based on the graph above, the red horizontal line represents the expected value that is $0.40$, and we can see that the samples mean gets closer and closer to the expected value as we increase the sample size from 1 to 200."
   ]
  }
 ],
 "metadata": {
  "colab": {
   "collapsed_sections": [],
   "name": "Ziyang Zhang - HW3 (IEOR 4404 Fall2020 ).ipynb",
   "provenance": [
    {
     "file_id": "1PjiZfaUcD-Encvl0YXZeTEAmomRA0Ge9",
     "timestamp": 1603251089306
    },
    {
     "file_id": "1g5wPw6a1ckHuoZ3b0d91uSzkMd7sfOr_",
     "timestamp": 1603070548850
    },
    {
     "file_id": "10eNh8jOXhYKildnaAlSQ7VmSTaEsYoOd",
     "timestamp": 1601668726340
    },
    {
     "file_id": "1mhrc71zWTPBW1cAhXr0NnsankfXQ3P-L",
     "timestamp": 1591674249524
    },
    {
     "file_id": "1o5LYJZ8szf3ApBGxVY3U5Mg43sT5Pzsi",
     "timestamp": 1591119395501
    },
    {
     "file_id": "17YLUsT-simPwfyR7mYEZ9e7OqzQW1VL_",
     "timestamp": 1590691770956
    },
    {
     "file_id": "1DYv26GtKZ5f1h2rbYZVmvUIccWZjW3Qk",
     "timestamp": 1549497534304
    },
    {
     "file_id": "12B6WLNx31YfdQag4H4FGZg2O4DrGb_N1",
     "timestamp": 1549239662993
    },
    {
     "file_id": "1VR0VuBL54zLs_v_aZbs7JQKZIjGCxoYD",
     "timestamp": 1549229853314
    },
    {
     "file_id": "10kad7PI06HTqi0LYhH8D5iJ3yFeE9tz7",
     "timestamp": 1549207913345
    },
    {
     "file_id": "1ZJGrNPXqrJPePGKEGREVuotNdktPnM0s",
     "timestamp": 1549167839980
    },
    {
     "file_id": "1n2WSdLvSAMVsyZMVkHXR90R4xVO1UCsf",
     "timestamp": 1549063297268
    },
    {
     "file_id": "1VkAyLTUNvewUt-1UvPwd9TTzczqm9X0n",
     "timestamp": 1549041495799
    },
    {
     "file_id": "13w5uwJ_JvGGG7ZF7A70lcZGIv7PCeUfy",
     "timestamp": 1537056142521
    },
    {
     "file_id": "12uzysTelaiWo3tWY3PFotxCtfTex2fUN",
     "timestamp": 1536904108342
    },
    {
     "file_id": "1nBXmHj005sCfd0bu6KqToieWu7N1i3n2",
     "timestamp": 1536794585369
    }
   ],
   "toc_visible": true
  },
  "kernelspec": {
   "display_name": "Python 3",
   "language": "python",
   "name": "python3"
  },
  "language_info": {
   "codemirror_mode": {
    "name": "ipython",
    "version": 3
   },
   "file_extension": ".py",
   "mimetype": "text/x-python",
   "name": "python",
   "nbconvert_exporter": "python",
   "pygments_lexer": "ipython3",
   "version": "3.7.6"
  }
 },
 "nbformat": 4,
 "nbformat_minor": 1
}
