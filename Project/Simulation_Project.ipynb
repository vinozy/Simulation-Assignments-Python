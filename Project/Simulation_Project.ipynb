{
  "nbformat": 4,
  "nbformat_minor": 0,
  "metadata": {
    "colab": {
      "name": "Simulation Project.ipynb",
      "provenance": [],
      "collapsed_sections": [],
      "toc_visible": true
    },
    "kernelspec": {
      "name": "python3",
      "display_name": "Python 3"
    }
  },
  "cells": [
    {
      "cell_type": "markdown",
      "metadata": {
        "id": "7MHurfk-tYLS"
      },
      "source": [
        "# Simulation of a Volleyball Game\r\n",
        "By Gong Cheng, Ziyang Zhang, Michael Grandel\r\n",
        "\r\n",
        "### Problem Statement \r\n",
        "Given a roster of 12 real life players, determine which combination of 6 players will maximize your chances of winning the volleyball game. Let's assume\r\n",
        "this is not an adversarial simulation; the opponent has a known and fixed set of 6 players.\r\n",
        "\r\n",
        "### Players\r\n",
        "Each player will be rated on their skills. Skills include:\r\n",
        "\r\n",
        "1. Digging / Passing / Bumping\r\n",
        "2. Setting\r\n",
        "3. Spiking / Hitting / Attacking\r\n",
        "4. Serving\r\n",
        "5. Blocking\r\n",
        "\r\n",
        "Therefore, composing a team of 6 will involve figuring out which combination\r\n",
        "of skills and ratings are optimal based on the opponents combination of 6.\r\n",
        "\r\n",
        "---\r\n",
        "TEAM NOTES:\r\n",
        "We should first just start with getting 12 players (6 for us and 6 for the\r\n",
        "opponent) and then simulate the game. So, we need to figure out:\r\n",
        "1. How to get the data / ratings \\\r\n",
        "  a. Players have real data on their performance. We should somehow convert that\r\n",
        "  data to a rating. Or figure out how to work with the raw data.\r\n",
        "--- \r\n",
        "# Rules of the Game\r\n",
        "Before diving into the details of the skills and simulation, it is first important to lay out the basic rules of the game, and also the rules we will be using for this simulation. This simulation can expand greatly by invoking more and more rules, so not every single rule is involved. \r\n",
        "\r\n",
        "### Basics of points\r\n",
        "\r\n",
        "1. The main idea is, if the ball is on your side of the court - you must NOT let it touch the ground. If it does, the you lose the round. However, if the other team gets the ball over the net and into your side of the court, and the ball lands outside of the court boundaries, then you win the round. \r\n",
        "\r\n",
        "2. If the ball was indeed going outside the court, but you still chose to touch the ball (on accident or not), then the ball is now considered yours and you must get it over the net. \r\n",
        "\r\n",
        "3. Your team has 3 touches to get the ball over the net. If on the 3rd touch the ball does not make it over the net and into the other team's court, you lose the point. Note, you can get it over on the first, second, or third. Generally though, the game flows by using all three touches. \r\n",
        "\r\n",
        "4. If you touch the ball, you may not touch the ball again until someone else on your team touches it. So if you're the first touch, you cannot be the second. But, you can be the third. Another example is if you're the second touch, you cannot touch the ball again (because that mean you either touched the 3rd time, which is a consecutive touch, or you touched the 4th time, which is over the touch limit). If you do happen to touch it a second time, your team loses the round.\r\n",
        "\r\n",
        "5. The net cannot be touched by any player. If you touch the net, you lose the point. However, the ball is allowed to touch the net. Say your team uses the first touch to pass the ball and accidentally passes it into the net. You still are allowed to use a second touch to pass the ball, but you must be careful to not touch the net. If you used the third touch and got the ball into the net, you ran out of touches so you cannot save the ball with a fourth touch, and so it'll fall down onto your side and you lose the round.\r\n",
        "\r\n",
        "### Positioning\r\n",
        "A court is a rectangle with a net down the middle, so the court is split in half\r\n",
        "for two teams. Before each round (when the person serves), players will have to start on the x-marked positions. \r\n",
        "\r\n",
        "_Note: In a real game, players are actually able to start off in slightly more perturbed positions._\r\n",
        "\r\n",
        "https://drive.google.com/file/d/1QAmxTEsGvlFppOs0TPLzxv9KMnrzha6V/view?usp=sharing\r\n",
        "\r\n",
        "When a round ends, if the team serving is a new team serving, then that team rotates one position clockwise. \r\n",
        "\r\n",
        "Ex: If team 1 serves and get's the point at the end of the round, then they are serve again. So, the team DOES NOT rotate. If the next serve they lose the point, team 2 is the new serving team. So team 2 rotates and then proceeds to serve. \r\n",
        "\r\n",
        "### Service\r\n",
        "Pick a team and face the net. The player in the bottom right corner is the person who will serve. They are to step behind the line and serve the ball across the net. There are many different ways to serve, but we will be assuming that all players serve the same way. If the ball lands on your side of the court, then you lose the point. If the ball lands inside the opponents court, then you win the point (this is called an ace).\r\n",
        "\r\n",
        "During this time, the opponents are NOT allowed to jump (hence no blocking). In volleyball, a jump is considered jumping high enough that your arm could reach over the net. Yes, this does mean that for shorter people, there is more leeway.\r\n",
        "This rule is more subjective to the referee, since the main idea is the opponent cannot block or use an attack on the first hit. \r\n",
        "\r\n",
        "<b> For our simulation, we will assume that the the players will only be allowed to pass as the first touch after a service. </b>\r\n",
        "\r\n",
        "### Passing\r\n",
        "Passing is what people typically imagine is a volleyball move. This is when you bring your forearms together to 'bump' the ball up. Typically, the first touch a team makes is from recieving a powerful attack / serve. Therefore, passing is aimed to absorb a lot of the power, bring the ball up in the air, and pass it to one of your teammates (typically the setter). \r\n",
        "\r\n",
        "Sometimes, the technique is bad or the attack is so powerful, that the pass fails. Either no one on the team gets to the ball fast enough, or they manage to touch the ball, but it bounces off into a completely wrong direction. This is called a 'shank'. It is really difficult to save a shank via the second touch.\r\n",
        "\r\n",
        "<b> For our simulation, if a person shanks the ball, we will assume no teammate is able to save it and the point is lost. </b>\r\n",
        "\r\n",
        "\r\n",
        "### Setting \r\n",
        "If the pass is successful, then the second touch is typically a set. This is when the person uses their fingers to pass the ball with much more control. This ball is passed to a teammate who is ready to attack. Hence, the setter sets their team up for a strong attack. \r\n",
        "\r\n",
        "Sometimes, the technique is bad. The ball can fall through the hands/finger tips and touch the floor or body (hence either you lost the point, or the person touched the ball twice and lost the point). Also, sometimes the person may set poorly and use what's called a double touch (so touching the ball twice, very rapidly). This is when the person may push one hand a little faster than the other. This is easy to see when the ball spins in the air after a set for more than 1.5 rotations. Lastly, the person may end up holding the ball for a bit too long rather than a quick pass/touch off the hands. Holding the ball is illegal and also losses the point.\r\n",
        "\r\n",
        "<b> For our simulation, we assume that a bad set will be caught by the referee always and the team will lose a point. </b>\r\n",
        "\r\n",
        "Technically, setters can also be offensive and get 'kills' - the same kind, by name, as the attackers get. Sometimes a setter can trick the opponents into thinking the setter will set, but do a very quick and light attack at the very last second (sometimes just tipping the ball over the net). It is challenging to get a successful tip/kill as a setter, but it is still done enough to be statistically valid. However....\r\n",
        "\r\n",
        "<b> For our simulation, we will assume setters can only set the ball </b>\r\n",
        "### Attacking\r\n",
        "Attacking / Spiking is typically the 3rd touch of the ball. Players who are designated to attack typically get in strategic positions right after or before the first touch. These positions allow them to ramp up speed and momentum, in order to jump high and hit the ball very fast over the net. The setter typically sets the ball up to the attacker, and the attacker rushes in and has to swat the ball down midair over the net. \r\n",
        "\r\n",
        "Attackers are typically always at the front side of their team (near the net), since that makes it easier to swat the ball down and over the net. The ball needs to go fast, so it can't go upwards - otherwise it'll land outside the bounds of the opponents court. So it must go downwards, hence the closer to the net, the less of a jump is expected. Rarely, a person is able to attack from the back side of the court. There is another line on the court that represents this division. These players are not allowed to jump after the line, but they are allowed to jump before and over the line. Making such an attack isn't easy though since you must jump much higher. \r\n",
        "\r\n",
        "<b> For our simulation, we will assume that only the front players are going to attack. </b>\r\n",
        "\r\n",
        "Attacks are typically expected to be smart. They are expected to win the point for your team by making the opponents shank, have difficulty recieving the ball, or just not being able to get the first touch. So a 'bad' attack is one that is weak or not smart. However, it does not lose the point.\r\n",
        "\r\n",
        "Sometimes, however, the attacker can hit the ball into the net (or out of bounds). If it hits the net, your teammates cannot pick it up as the 4th touch and so it must land on your side of the court and hence lose the point. \r\n",
        "\r\n",
        "Or, due to how close the attackers are to the net to accomodate jump height, sometimes the attackers can fly into the net or touch the net as they swing the ball down. As such, they touched the net and lose the point. \r\n",
        "\r\n",
        "<b> For our simulation, we will assume a 'bad' attack results in this and the team loses the point. </b>\r\n",
        "\r\n",
        "\r\n",
        "### Blocking\r\n",
        "Blocking is done by the team that will be recieving the attack. So, suppose the opponent is attacking the ball. Your front-players are allowed to jump and block the attack with their arms/hands. Imagine them raising a fence. Blocks create a lot of flexibility in the game. Typically, if your block is successful, the attacker will hit the ball into your block and then the ball lands back in their court. Note, however, this means you technically touched the ball, and used your first touch to pass the ball back over. As such, when you block, the three touches for your opponents reset. Hence, they can use their first touch again to try to pick up the ball you blocked. \r\n",
        "\r\n",
        "Sometimes however, the block will fail. Say you did block, but your block made the ball land out of bounds of the opponents court - hence you lost the point.\r\n",
        "\r\n",
        "Either the block did not touch the ball at all, or the ball touched the block but rolled off the fingers or somehow bounced onto your side of the court. _If a block touches a ball, but the ball still is on your side of the court, your team still has 3 touches_. Hence, blocks do not count as a touch towards the count.\r\n",
        "\r\n",
        "Sometimes, the positioning of your arms and hands is not great during a block, and so the ball can ricochet so far that your teammates cannot catch up to it and use the first touch to recieve the ball. Or it can ricochet entirely downward onto your side of the court, and hence you lose the point.\r\n",
        "\r\n",
        "<b> For our simulation, we will assume a 'bad' block results in your block landing out of bounds or inside your own court, and hence you lose the point. \r\n",
        "\r\n",
        "We will also assume a 'successful' block does result in a point. Note, a block can be neither bad nor successful, if the block misses the ball or ball goes over the block. Hence, the ball continues to play normally (the blocking team will be expected to recieve the ball). </b>\r\n",
        "\r\n",
        "----\r\n",
        "# Simulation and Probabilities\r\n",
        "\r\n",
        "We need to now determine the probabilities of success and fail, by each player, for each action. This probability can start of uniform, but could transform into something more realistic (a function of the players position, the ball's position, the players stamina, and skill rating). This is how the project can evolve over time - by minimizing assumptions made above, incorporating more rules and plays, and producing more realistic distributions.\r\n",
        "\r\n",
        "\r\n",
        "### The Players\r\n",
        "The players we will use are players participating in NCAA Division 1 over the past years. Their statistics are presented here: \r\n",
        "http://www.ncaa.org/championships/statistics/mens-volleyball-statistics\r\n",
        "\r\n",
        "(Another example: http://stats.ncaa.org/rankings/change_sport_year_div)\r\n",
        "\r\n",
        "In order to make things interesting, we want players with various skills or a uniqueness to their abilities. Since we will be building a roster of 12, we want about 2 players who are 'masters' in each skill (5 skills, so 10 players), and 2 more players who are more well rounded or have a unique skill distribution.\r\n",
        "\r\n",
        "In real life volleyball, each player often has a designated role. \r\n",
        "\r\n",
        "  1. Middles focus on attacking and blocking, and so often a middle is best at this and not so great at the other skills. They play at the middle front of the net.\r\n",
        "\r\n",
        "  2. Outsides focus on attacking, and have a little bit of defense (digging), so often an outside is best at attacking. They play at the upper left corner of the net.\r\n",
        "\r\n",
        "  3. Setters focus on setting, and have little to no offense (attacking), so often a setter is best at setting. They play between the upper right corner and middle of the net. Though they are expected to also play defense when the opponent will attack, so setters often have to run around the court a lot. \r\n",
        "\r\n",
        "  4. Opposites are usually more averaged out players. They are used often to surprise the opponent with unusual tactics. They are generally well averaged players, who focus mainly on attacking, but are often the second line of defense or the second setters incase something happens to the main setter (say he trips or can't make it to the ball). They play at the upper right corner of the net.\r\n",
        "\r\n",
        "  5. Liberos are purely defensive and cannot attack. We did not incorporate these players into our assumptions because the rules for them are a bit different. But, we will assume that there are defensive specialists (often opposites) who are weaker at hitting but really good at digging/defense. Liberos often play at the middle back. \r\n",
        "\r\n",
        "The idea of the above is to show that each player's stats will generally be a representation of their position. So each player will often be 'masters' in one skill set. Those that seem to be averaged out are likely to be opposites or so. \r\n",
        "\r\n",
        "As for the probabilities, these initial data sets only feature the probabilities IF everything goes right. If the player is ready, at the right place, at the right time, etc. We will incorporate a lot of other factors, such as position of the player, to the true probability of success or fail of an action.\r\n",
        "\r\n",
        "The final probability will be:\r\n",
        "\r\n",
        "$$ P(Success) = \\sum_n\\alpha_np_n(success)$$\r\n",
        "\r\n",
        "So it will be a weighted sum of some hyper parameters for each probability of success for a specific condition. \r\n",
        "\r\n",
        "Upload this zip file for the code cell below. It currently has a list of players and extrapolates their stats.\r\n",
        "\r\n",
        "https://drive.google.com/file/d/1itj7Kllfn_YwAMisEsYUsgCPlhBAEs7v/view?usp=sharing"
      ]
    },
    {
      "cell_type": "markdown",
      "metadata": {
        "id": "xFk-dun-6Ign"
      },
      "source": [
        "# All Necessary Imports\n"
      ]
    },
    {
      "cell_type": "code",
      "metadata": {
        "colab": {
          "base_uri": "https://localhost:8080/"
        },
        "id": "EEfateCs6VrP",
        "outputId": "eee97b93-ce97-401c-c1a4-9efae1a119b7"
      },
      "source": [
        "import numpy as np\n",
        "\n",
        "\n",
        "import scipy.special as spsp\n",
        "import scipy.stats as spst\n",
        "\n",
        "import matplotlib.pyplot as plt\n",
        "\n",
        "%matplotlib inline\n",
        "\n",
        "import sympy\n",
        "\n",
        "!pip install simpy\n",
        "import simpy\n",
        "\n",
        "import copy\n",
        "\n",
        "import pandas as pd\n",
        "import zipfile\n",
        "import os"
      ],
      "execution_count": null,
      "outputs": [
        {
          "output_type": "stream",
          "text": [
            "Requirement already satisfied: simpy in /usr/local/lib/python3.6/dist-packages (4.0.1)\n"
          ],
          "name": "stdout"
        }
      ]
    },
    {
      "cell_type": "markdown",
      "metadata": {
        "id": "m0_nKeDI5slz"
      },
      "source": [
        "# Data Collection Step\n",
        "\n",
        "Michael Grandel, Dec 20"
      ]
    },
    {
      "cell_type": "code",
      "metadata": {
        "id": "bwcxWBd9WVvR"
      },
      "source": [
        "# Upload the zip file, players.zip, and run this to extract the data\r\n",
        "with zipfile.ZipFile(\"players.zip\",\"r\") as zip_ref:\r\n",
        "    zip_ref.extractall(\"players\")\r\n",
        "\r\n",
        "files = [f for f in os.listdir('./players') if os.path.isfile('./players/'+f)]\r\n",
        "\r\n",
        "player_data = {}\r\n",
        "for f in files:\r\n",
        "  player_name = f[:len(f)-4] # Get rid of the .csv tag\r\n",
        "  player_data[player_name] = pd.read_csv('players/' + f).fillna(0)\r\n",
        "\r\n",
        "\r\n",
        "''' Some Assumptions \r\n",
        "1) For serves. The data does not show the total number of serves done. Let's \r\n",
        "assume that for each set (game to 25 points), each player three times. Hence,\r\n",
        "the total serves are 3*S. This assumption comes from:\r\n",
        "  a) Some sets are really close, and so a total of ~50 serves must happen. So \r\n",
        "  if there are 12 players, it may seem like a good idea to do 4 serves each. \r\n",
        "  b) But some sets are not that close, so the average should be a little less \r\n",
        "  than 4. \r\n",
        "  c) Sometimes if a team reaches 24-24, then the game enters a different phase.\r\n",
        "  The first team to score a 2 point lead wins. So, say team A scores. They now\r\n",
        "  have 25-24. But the game is not over. They must score again, getting 26-24. \r\n",
        "  Sometimes the score just keeps going back and forth and winning scores in this\r\n",
        "  situation reach 27-30 points. \r\n",
        "  -- Putting these together, 3 serves each seems like a fair assumption, on\r\n",
        "  average.\r\n",
        "\r\n",
        "\r\n",
        "Error rate: SErr/3*S\r\n",
        "Ace rate: Ace/3*S\r\n",
        "Non-Error : 1 - Error Rate - Ace Rate\r\n",
        "\r\n",
        "\r\n",
        "2) For setting. The data does not show the total number of setting errors. \r\n",
        "Successful sets are shown as 'Assists', which is another word for sets. \r\n",
        "We will determine set success rate by a reference point. We will find the best\r\n",
        "setter (the one with the most assists) and assume they have a 5% setting error\r\n",
        "rate (It is common that for good setters, every 20 sets, there will be \r\n",
        "1 setting error).  The rest of the setters/assists will be compared to this \r\n",
        "reference point to determine the setting success rate. Indeed, lots of people \r\n",
        "will be bad at setting. This isn't an easy skill unless trained intensly.\r\n",
        "\r\n",
        "3) For blocks, we will assume that:\r\n",
        "  - Block Solos is considered a successful block (one where the blockign team gets\r\n",
        "  the point)\r\n",
        "  - Block Assists is considered a block that still results in the ball being in play\r\n",
        "  on the blocking-teams side. \r\n",
        "  - Sometimes the block can fail in a way that the ball goes out of bounds. We\r\n",
        "  will consider this scenerio happens 10% of the block-assists. This isn't recorded,\r\n",
        "  but can be simulated by removing some assumptions we are making and producing\r\n",
        "  a more realistic game (by factoring in that the ball may still end up on the \r\n",
        "  enemies' side and can still be in play).\r\n",
        "  - Block Err is considered a fail block due to error such as touching the net\r\n",
        "  and the blocking team loses the point.\r\n",
        "'''\r\n",
        "\r\n",
        "player_skills = {}\r\n",
        "\r\n",
        "best_set_num = 0\r\n",
        "best_setter = \"\"\r\n",
        "\r\n",
        "for player in player_data:\r\n",
        "  skills = \\\r\n",
        "  {\r\n",
        "      \"Service\": \r\n",
        "      { \r\n",
        "          'Error Rate': 0,\r\n",
        "          'Ace Rate': 0,\r\n",
        "          'Success Rate': 0,  \r\n",
        "      },\r\n",
        "      'Attack':\r\n",
        "      {\r\n",
        "          'Success Rate': 0,\r\n",
        "          'Kill Rate': 0,\r\n",
        "          'Error Rate': 0,\r\n",
        "      },\r\n",
        "      'Pass':\r\n",
        "      {\r\n",
        "          'Success Rate': 0,\r\n",
        "          'Error Rate': 0,\r\n",
        "      },\r\n",
        "      'Block':\r\n",
        "      {\r\n",
        "          \"Success Rate\": 0,\r\n",
        "          \"Error Rate\": 0,\r\n",
        "          \"Assist Rate\": 0,\r\n",
        "      },\r\n",
        "      \"Set\":\r\n",
        "      {\r\n",
        "          \"Success Rate\": 0,\r\n",
        "          \"Error Rate\": 0,\r\n",
        "      }\r\n",
        "  }\r\n",
        "\r\n",
        "  player_info = player_data[player]\r\n",
        "  # Last row features the total values\r\n",
        "  l_index = len(player_info.axes[0]) - 1\r\n",
        "  row = player_info.loc[l_index]\r\n",
        "\r\n",
        "  ########### Services ############\r\n",
        "  total_services = row[\"S\"]*3\r\n",
        "  ser_err = row[\"SErr\"]/total_services\r\n",
        "  ace = row[\"Aces\"]/total_services\r\n",
        "\r\n",
        "  skills[\"Service\"][\"Error Rate\"] = ser_err\r\n",
        "  skills[\"Service\"][\"Ace Rate\"] = ace\r\n",
        "  skills[\"Service\"][\"Success Rate\"] = 1 - ser_err - ace\r\n",
        "  \r\n",
        "  ########### Attacks ############\r\n",
        "  total_attacks = int(row[\"Total Attacks\"])\r\n",
        "  kill_rate = row[\"Kills\"] / total_attacks\r\n",
        "  error_rate = row[\"Errors\"] / total_attacks\r\n",
        "  success_rate = 1 - kill_rate - error_rate\r\n",
        "\r\n",
        "  skills[\"Attack\"][\"Success Rate\"] = success_rate\r\n",
        "  skills[\"Attack\"][\"Kill Rate\"] = kill_rate\r\n",
        "  skills[\"Attack\"][\"Error Rate\"] = error_rate\r\n",
        "\r\n",
        "  ########### Passing #############\r\n",
        "  digs = row[\"Digs\"]\r\n",
        "  dig_errors = row[\"RErr\"]\r\n",
        "  total = digs + dig_errors\r\n",
        "  dig_rate = digs/total\r\n",
        "  dig_err_rate = dig_errors/total\r\n",
        "\r\n",
        "  skills[\"Pass\"]['Success Rate'] = dig_rate\r\n",
        "  skills[\"Pass\"]['Error Rate'] = dig_err_rate\r\n",
        "\r\n",
        "  ########### Blocking ##########\r\n",
        "  solo_blocks = row[\"Block Solos\"]\r\n",
        "  block_assists = row[\"Block Assists\"]\r\n",
        "  block_err = row[\"BErr\"]\r\n",
        "  total = solo_blocks + block_assists + (int)(0.1*block_assists) + block_err\r\n",
        "  block_success_rate = solo_blocks/total\r\n",
        "  block_error_rate = (block_err + (int)(0.1*block_assists)) / total\r\n",
        "  block_assist_rate = block_assists/total\r\n",
        "\r\n",
        "  skills[\"Block\"][\"Success Rate\"] = block_success_rate\r\n",
        "  skills[\"Block\"][\"Error Rate\"] = block_error_rate\r\n",
        "  skills[\"Block\"][\"Assist Rate\"] = block_assist_rate\r\n",
        "\r\n",
        "  ########## Sets ############\r\n",
        "  # Final calculation happens at the end\r\n",
        "  assists = row[\"Assists\"]\r\n",
        "  if assists > best_set_num:\r\n",
        "     best_set_num = assists\r\n",
        "     best_setter = player\r\n",
        "\r\n",
        "  skills[\"Set\"][\"Success Rate\"] = assists\r\n",
        "\r\n",
        "  ### Set skills for each player ###\r\n",
        "  player_skills[player] = skills\r\n",
        "\r\n",
        "# Now we calculate the setting\r\n",
        "for player in player_skills:\r\n",
        "  \r\n",
        "  if player == best_setter:\r\n",
        "    player_skills[player][\"Set\"][\"Success Rate\"] = 0.95\r\n",
        "    player_skills[player][\"Set\"][\"Error Rate\"] = 0.05\r\n",
        "  else:\r\n",
        "    player_skills[player][\"Set\"][\"Success Rate\"] = player_skills[player][\"Set\"]['Success Rate'] / best_set_num\r\n",
        "    player_skills[player][\"Set\"][\"Error Rate\"] = 1 - player_skills[player][\"Set\"][\"Success Rate\"]"
      ],
      "execution_count": null,
      "outputs": []
    },
    {
      "cell_type": "code",
      "metadata": {
        "id": "zrSdheCwXWoj",
        "colab": {
          "base_uri": "https://localhost:8080/"
        },
        "outputId": "e70e8e31-a57b-44ed-82e0-d8c64d06cf28"
      },
      "source": [
        "### If you'd like to see the data\r\n",
        "for player in player_skills:\r\n",
        "  print(player)\r\n",
        "  print(player_skills[player])"
      ],
      "execution_count": null,
      "outputs": [
        {
          "output_type": "stream",
          "text": [
            "Kyle Piekarski\n",
            "{'Service': {'Error Rate': 0.09895833333333333, 'Ace Rate': 0.03819444444444445, 'Success Rate': 0.8628472222222222}, 'Attack': {'Success Rate': 0.3015151515151515, 'Kill Rate': 0.5727272727272728, 'Error Rate': 0.12575757575757576}, 'Pass': {'Success Rate': 0.9642857142857143, 'Error Rate': 0.03571428571428571}, 'Block': {'Success Rate': 0.04678362573099415, 'Error Rate': 0.15204678362573099, 'Assist Rate': 0.8011695906432749}, 'Set': {'Success Rate': 0.003946329913180742, 'Error Rate': 0.9960536700868192}}\n",
            "Quinn Isaacson\n",
            "{'Service': {'Error Rate': 0.12698412698412698, 'Ace Rate': 0.03968253968253968, 'Success Rate': 0.8333333333333334}, 'Attack': {'Success Rate': 0.4032258064516129, 'Kill Rate': 0.5, 'Error Rate': 0.0967741935483871}, 'Pass': {'Success Rate': 1.0, 'Error Rate': 0.0}, 'Block': {'Success Rate': 0.14285714285714285, 'Error Rate': 0.12857142857142856, 'Assist Rate': 0.7285714285714285}, 'Set': {'Success Rate': 0.531965272296764, 'Error Rate': 0.46803472770323595}}\n",
            "Rado Parapunov\n",
            "{'Service': {'Error Rate': 0.18719806763285024, 'Ace Rate': 0.10990338164251208, 'Success Rate': 0.7028985507246377}, 'Attack': {'Success Rate': 0.27638737758433074, 'Kill Rate': 0.5364526659412405, 'Error Rate': 0.18715995647442873}, 'Pass': {'Success Rate': 0.9927007299270073, 'Error Rate': 0.0072992700729927005}, 'Block': {'Success Rate': 0.09328358208955224, 'Error Rate': 0.208955223880597, 'Assist Rate': 0.6977611940298507}, 'Set': {'Success Rate': 0.011049723756906077, 'Error Rate': 0.988950276243094}}\n",
            "Oscar Fiorentino\n",
            "{'Service': {'Error Rate': 0.06284153005464481, 'Ace Rate': 0.04918032786885246, 'Success Rate': 0.8879781420765027}, 'Attack': {'Success Rate': 0.36526946107784425, 'Kill Rate': 0.5269461077844312, 'Error Rate': 0.10778443113772455}, 'Pass': {'Success Rate': 0.9883720930232558, 'Error Rate': 0.011627906976744186}, 'Block': {'Success Rate': 0.07692307692307693, 'Error Rate': 0.15384615384615385, 'Assist Rate': 0.7692307692307693}, 'Set': {'Success Rate': 0.95, 'Error Rate': 0.05}}\n",
            "George Huhmann\n",
            "{'Service': {'Error Rate': 0.2749778956675508, 'Ace Rate': 0.10786914235190097, 'Success Rate': 0.6171529619805483}, 'Attack': {'Success Rate': 0.3557731538147695, 'Kill Rate': 0.48021215830273356, 'Error Rate': 0.16401468788249693}, 'Pass': {'Success Rate': 0.9887218045112782, 'Error Rate': 0.011278195488721804}, 'Block': {'Success Rate': 0.1412037037037037, 'Error Rate': 0.17592592592592593, 'Assist Rate': 0.6828703703703703}, 'Set': {'Success Rate': 0.017758484609313337, 'Error Rate': 0.9822415153906867}}\n",
            "Casey McGarry\n",
            "{'Service': {'Error Rate': 0.24150943396226415, 'Ace Rate': 0.07044025157232704, 'Success Rate': 0.6880503144654089}, 'Attack': {'Success Rate': 0.3851851851851852, 'Kill Rate': 0.45925925925925926, 'Error Rate': 0.15555555555555556}, 'Pass': {'Success Rate': 0.9948051948051948, 'Error Rate': 0.005194805194805195}, 'Block': {'Success Rate': 0.05333333333333334, 'Error Rate': 0.22666666666666666, 'Assist Rate': 0.72}, 'Set': {'Success Rate': 0.7541436464088398, 'Error Rate': 0.2458563535911602}}\n",
            "Timothy McIntosh\n",
            "{'Service': {'Error Rate': 0.03819444444444445, 'Ace Rate': 0.024305555555555556, 'Success Rate': 0.9375}, 'Attack': {'Success Rate': 0.4666666666666667, 'Kill Rate': 0.32592592592592595, 'Error Rate': 0.2074074074074074}, 'Pass': {'Success Rate': 0.8937007874015748, 'Error Rate': 0.1062992125984252}, 'Block': {'Success Rate': 0.1111111111111111, 'Error Rate': 0.0, 'Assist Rate': 0.8888888888888888}, 'Set': {'Success Rate': 0.010655090765588003, 'Error Rate': 0.989344909234412}}\n",
            "Pedro Carvalho\n",
            "{'Service': {'Error Rate': 0.2485207100591716, 'Ace Rate': 0.09664694280078895, 'Success Rate': 0.6548323471400395}, 'Attack': {'Success Rate': 0.33127753303964763, 'Kill Rate': 0.5251101321585903, 'Error Rate': 0.1436123348017621}, 'Pass': {'Success Rate': 0.972027972027972, 'Error Rate': 0.027972027972027972}, 'Block': {'Success Rate': 0.18181818181818182, 'Error Rate': 0.16827852998065765, 'Assist Rate': 0.6499032882011605}, 'Set': {'Success Rate': 0.011838989739542225, 'Error Rate': 0.9881610102604578}}\n",
            "Frederico Santos\n",
            "{'Service': {'Error Rate': 0.051490514905149054, 'Ace Rate': 0.02168021680216802, 'Success Rate': 0.926829268292683}, 'Attack': {'Success Rate': 0.41025641025641024, 'Kill Rate': 0.4358974358974359, 'Error Rate': 0.15384615384615385}, 'Pass': {'Success Rate': 0.9946236559139785, 'Error Rate': 0.005376344086021506}, 'Block': {'Success Rate': 0.09333333333333334, 'Error Rate': 0.16, 'Assist Rate': 0.7466666666666667}, 'Set': {'Success Rate': 0.35122336227308604, 'Error Rate': 0.648776637726914}}\n",
            "Kennan Sanders\n",
            "{'Service': {'Error Rate': 0.13763440860215054, 'Ace Rate': 0.046236559139784944, 'Success Rate': 0.8161290322580644}, 'Attack': {'Success Rate': 0.3366690493209435, 'Kill Rate': 0.511794138670479, 'Error Rate': 0.15153681200857755}, 'Pass': {'Success Rate': 0.9629629629629629, 'Error Rate': 0.037037037037037035}, 'Block': {'Success Rate': 0.05017921146953405, 'Error Rate': 0.17921146953405018, 'Assist Rate': 0.7706093189964157}, 'Set': {'Success Rate': 0.006708760852407261, 'Error Rate': 0.9932912391475928}}\n",
            "Liam Maxwell\n",
            "{'Service': {'Error Rate': 0.21886446886446886, 'Ace Rate': 0.12637362637362637, 'Success Rate': 0.6547619047619048}, 'Attack': {'Success Rate': 0.4310192023633678, 'Kill Rate': 0.42836041358936483, 'Error Rate': 0.14062038404726734}, 'Pass': {'Success Rate': 0.8349514563106796, 'Error Rate': 0.1650485436893204}, 'Block': {'Success Rate': 0.09090909090909091, 'Error Rate': 0.1534090909090909, 'Assist Rate': 0.7556818181818182}, 'Set': {'Success Rate': 0.038279400157853194, 'Error Rate': 0.9617205998421468}}\n",
            "Evan Cory\n",
            "{'Service': {'Error Rate': 0.23943661971830985, 'Ace Rate': 0.14553990610328638, 'Success Rate': 0.6150234741784038}, 'Attack': {'Success Rate': 0.4094998200791652, 'Kill Rate': 0.4494422454120187, 'Error Rate': 0.14105793450881612}, 'Pass': {'Success Rate': 0.9435483870967742, 'Error Rate': 0.056451612903225805}, 'Block': {'Success Rate': 0.1059190031152648, 'Error Rate': 0.12461059190031153, 'Assist Rate': 0.7694704049844237}, 'Set': {'Success Rate': 0.056827150749802685, 'Error Rate': 0.9431728492501973}}\n"
          ],
          "name": "stdout"
        }
      ]
    },
    {
      "cell_type": "markdown",
      "metadata": {
        "id": "4wJMJGu87Qqg"
      },
      "source": [
        "# Initial Model Set Up\n",
        "\n",
        "Ziyang Zhang, DEC 27\n",
        "\n",
        "I tried to build a round of simulation of the game in terms of ONLY `ACTIONS` from each team below:\n",
        "`Block` is a tricky one that needs to be defined more carefully, since a successful block may change the sequence of the actions\n",
        "\n",
        "A round of simulation will END whenever `LOST` happens.\n",
        "\n",
        "All five actions can directly lead to `LOST` on their own during the simulation.\n",
        "\n",
        "This system below is only meant to simulate the sequence of 5 actions for one round of a game. The simulation stops when one of the team scored/lost."
      ]
    },
    {
      "cell_type": "code",
      "metadata": {
        "id": "lZrbBvruF4gm"
      },
      "source": [
        "# treat 6 players' ratings only as the SUCCESS RATES of the actions\r\n",
        "# ONLY 10 ratings as INPUTS of the system for 1 round of simulation\r\n",
        "    # however, we have 12 players... \r\n",
        "    # maybe set each player into only 1 role? \r\n",
        "    # for a position that has more than two players, take the average of their ratings?\r\n",
        "\r\n",
        "def serving(env,stop,start_team,serve_1,pass_1,set_1,attack_1,block_1,serve_2,pass_2,set_2,attack_2,block_2):\r\n",
        "  t=start_team\r\n",
        "  print('team: ', t, 'serving')\r\n",
        "  u=np.random.rand()\r\n",
        "  print(u)\r\n",
        "  # team 1 is serving\r\n",
        "  if t==1:\r\n",
        "    if u>serve_1:\r\n",
        "      print('serving out of bounds')\r\n",
        "      print('team ',t,' LOST!')\r\n",
        "      stop.succeed()\r\n",
        "      yield stop\r\n",
        "    else:\r\n",
        "      print('serving in bounds')\r\n",
        "      t=2\r\n",
        "      print('ball goes to team ',t,' for passing')\r\n",
        "      yield env.process(passing(env,stop,t,serve_1,pass_1,set_1,attack_1,block_1,serve_2,pass_2,set_2,attack_2,block_2))\r\n",
        "  \r\n",
        "  # team 2 is serving\r\n",
        "  else:\r\n",
        "    if u>serve_2:\r\n",
        "      print('serving out of bounds')\r\n",
        "      print('team ',t,' LOST!')\r\n",
        "      stop.succeed()\r\n",
        "      yield stop\r\n",
        "    else:\r\n",
        "      print('serving in bounds')\r\n",
        "      t=1\r\n",
        "      print('ball goes to team ',t,' for passing')\r\n",
        "      yield env.process(passing(env,stop,t,serve_1,pass_1,set_1,attack_1,block_1,serve_2,pass_2,set_2,attack_2,block_2))\r\n",
        "\r\n",
        "def passing(env,stop,t,serve_1,pass_1,set_1,attack_1,block_1,serve_2,pass_2,set_2,attack_2,block_2):\r\n",
        "  print('team: ', t, 'passing')\r\n",
        "  u=np.random.rand()\r\n",
        "  print(u)\r\n",
        "\r\n",
        "  # team 1 is passing\r\n",
        "  if t==1:\r\n",
        "    if u>pass_1:\r\n",
        "      print('passing failed')\r\n",
        "      print('team ',t,' LOST!')\r\n",
        "      stop.succeed()\r\n",
        "      yield stop\r\n",
        "    else:\r\n",
        "      print('passing successful')\r\n",
        "      print('ball goes to team',t,' for setting')\r\n",
        "      yield env.process(setting(env,stop,t,serve_1,pass_1,set_1,attack_1,block_1,serve_2,pass_2,set_2,attack_2,block_2))\r\n",
        "\r\n",
        "  # team 2 is passing\r\n",
        "  else:\r\n",
        "    if u>pass_2:\r\n",
        "      print('passing failed')\r\n",
        "      print('team ',t,' LOST!')\r\n",
        "      stop.succeed()\r\n",
        "      yield stop\r\n",
        "    else:\r\n",
        "      print('passing successful')\r\n",
        "      print('ball goes to team',t,' for setting')\r\n",
        "      yield env.process(setting(env,stop,t,serve_1,pass_1,set_1,attack_1,block_1,serve_2,pass_2,set_2,attack_2,block_2))\r\n",
        "\r\n",
        "def setting(env,stop,t,serve_1,pass_1,set_1,attack_1,block_1,serve_2,pass_2,set_2,attack_2,block_2):\r\n",
        "  print('team: ', t, 'setting')\r\n",
        "  u=np.random.rand()\r\n",
        "  print(u)\r\n",
        "\r\n",
        "  # team 1 is setting\r\n",
        "  if t==1:\r\n",
        "    if u>set_1:\r\n",
        "      print('setting failed')\r\n",
        "      print('team ',t,' LOST!')\r\n",
        "      stop.succeed()\r\n",
        "      yield stop\r\n",
        "    else:\r\n",
        "      print('setting successful')\r\n",
        "      print('ball goes to team',t,' for attacking')\r\n",
        "      yield env.process(attacking(env,stop,t,serve_1,pass_1,set_1,attack_1,block_1,serve_2,pass_2,set_2,attack_2,block_2))\r\n",
        "\r\n",
        "  # team 2 is setting\r\n",
        "  else:\r\n",
        "    if u>set_2:\r\n",
        "      print('setting failed')\r\n",
        "      print('team ',t,' LOST!')\r\n",
        "      stop.succeed()\r\n",
        "      yield stop\r\n",
        "    else:\r\n",
        "      print('setting successful')\r\n",
        "      print('ball goes to team',t,' for attacking')\r\n",
        "      yield env.process(attacking(env,stop,t,serve_1,pass_1,set_1,attack_1,block_1,serve_2,pass_2,set_2,attack_2,block_2))\r\n",
        "\r\n",
        "def attacking(env,stop,t,serve_1,pass_1,set_1,attack_1,block_1,serve_2,pass_2,set_2,attack_2,block_2):\r\n",
        "  print('team: ', t, ' attacking')\r\n",
        "  u=np.random.rand()\r\n",
        "  print(u)\r\n",
        "\r\n",
        "  # team 1 is attacking\r\n",
        "  if t==1:\r\n",
        "    if u>attack_1:\r\n",
        "      print('attacking out of bounds')\r\n",
        "      print('team ',t,'LOST!')\r\n",
        "      stop.succeed()\r\n",
        "      yield stop\r\n",
        "    else:\r\n",
        "      t=2\r\n",
        "      print('attacking in bounds')\r\n",
        "      print('ball goes to team',t,' for blocking')\r\n",
        "      yield env.process(blocking(env,stop,t,serve_1,pass_1,set_1,attack_1,block_1,serve_2,pass_2,set_2,attack_2,block_2))\r\n",
        "\r\n",
        "  # team 2 is attacking\r\n",
        "  else:\r\n",
        "    if u>attack_2:\r\n",
        "      print('attacking out of bounds')\r\n",
        "      print('team ',t,'LOST!')\r\n",
        "      stop.succeed()\r\n",
        "      yield stop\r\n",
        "    else:\r\n",
        "      t=1\r\n",
        "      print('attacking in bounds')\r\n",
        "      print('ball goes to team',t,' for blocking')\r\n",
        "      yield env.process(blocking(env,stop,t,serve_1,pass_1,set_1,attack_1,block_1,serve_2,pass_2,set_2,attack_2,block_2))\r\n",
        "\r\n",
        "\r\n",
        "\r\n",
        "# in the process of `blocking`:\r\n",
        "    # the block rating: block_1/block_2 is being compared to `np.random.rand()` twice\r\n",
        "        # 1st time: to determine if the block goes out of bounds, thus LOST immediately\r\n",
        "        # 2nd time: once the block goes in bounds, to determine if the block successfully block back the ball\r\n",
        "\r\n",
        "def blocking(env,stop,t,serve_1,pass_1,set_1,attack_1,block_1,serve_2,pass_2,set_2,attack_2,block_2):\r\n",
        "  print('team: ',t,' blocking')\r\n",
        "  u=np.random.rand()\r\n",
        "  print(u)\r\n",
        "\r\n",
        "  # team 1 is blocking:\r\n",
        "  if t==1:\r\n",
        "    if u>block_1:\r\n",
        "      print('blocking out of bounds')\r\n",
        "      print('team ',t,' LOST!')\r\n",
        "      stop.succeed()\r\n",
        "      yield stop\r\n",
        "    else:\r\n",
        "      print('blocking in bounds')\r\n",
        "      v=np.random.rand()\r\n",
        "      print(v)\r\n",
        "      if v>block_1:\r\n",
        "        print('block back failed')\r\n",
        "        print('ball goes to team ',t,' for passing')\r\n",
        "        yield env.process(passing(env,stop,t,serve_1,pass_1,set_1,attack_1,block_1,serve_2,pass_2,set_2,attack_2,block_2))\r\n",
        "      else:\r\n",
        "        print('block back successful')\r\n",
        "        t=2\r\n",
        "        print('ball goes to team', t, ' for passing')\r\n",
        "        yield env.process(passing(env,stop,t,serve_1,pass_1,set_1,attack_1,block_1,serve_2,pass_2,set_2,attack_2,block_2))\r\n",
        "\r\n",
        "  # team 2 is blocking:\r\n",
        "  else:\r\n",
        "    if u>block_2:\r\n",
        "      print('blocking out of bounds')\r\n",
        "      print('team ',t,' LOST!')\r\n",
        "      stop.succeed()\r\n",
        "      yield stop\r\n",
        "    else:\r\n",
        "      print('blocking in bounds')\r\n",
        "      v=np.random.rand()\r\n",
        "      print(v)\r\n",
        "      if v>block_2:\r\n",
        "        print('block back failed')\r\n",
        "        print('ball goes to team ',t,' for passing')\r\n",
        "        yield env.process(passing(env,stop,t,serve_1,pass_1,set_1,attack_1,block_1,serve_2,pass_2,set_2,attack_2,block_2))\r\n",
        "      else:\r\n",
        "        print('block back successful')\r\n",
        "        t=1\r\n",
        "        print('ball goes to team', t, ' for passing')\r\n",
        "        yield env.process(passing(env,stop,t,serve_1,pass_1,set_1,attack_1,block_1,serve_2,pass_2,set_2,attack_2,block_2))\r\n",
        "\r\n",
        "\r\n",
        "def system(start_team,serve_1,pass_1,set_1,attack_1,block_1,serve_2,pass_2,set_2,attack_2,block_2):\r\n",
        "  env=simpy.Environment()\r\n",
        "  stop=env.event()\r\n",
        "  env.process(serving(env,stop,start_team,serve_1,pass_1,set_1,attack_1,block_1,serve_2,pass_2,set_2,attack_2,block_2))\r\n",
        "  env.run(stop)"
      ],
      "execution_count": null,
      "outputs": []
    },
    {
      "cell_type": "code",
      "metadata": {
        "colab": {
          "base_uri": "https://localhost:8080/"
        },
        "id": "bh0502YSgdGB",
        "outputId": "e1c9586e-2192-4f0f-e636-6d0b15bc5277"
      },
      "source": [
        "# again, these 10 ratings below are randomly generated for testing the simulation above\r\n",
        "# each rating is for the team overall, not a specific player, \r\n",
        "# since we haven't defined how a player is selected to perform each action during the process of the game\r\n",
        "    \r\n",
        "    # to further complete the simulation of 1 round of a game\r\n",
        "    # Either: we need to find a way to transform players' real statistics into these 10 ratings\r\n",
        "    # OR: we use players' detailed statistics separately to replace these 10 ratings to determine the result of each action and add complexity\r\n",
        "\r\n",
        "# 5 random ratings for each team, two team have different mean and std\r\n",
        "serve_1=np.random.normal(70,10)/100\r\n",
        "serve_2=np.random.normal(60,15)/100\r\n",
        "pass_1=np.random.normal(70,10)/100\r\n",
        "pass_2=np.random.normal(60,15)/100\r\n",
        "set_1=np.random.normal(70,10)/100\r\n",
        "set_2=np.random.normal(60,15)/100\r\n",
        "attack_1=np.random.normal(70,10)/100\r\n",
        "attack_2=np.random.normal(60,15)/100\r\n",
        "block_1=np.random.normal(70,10)/100\r\n",
        "block_2=np.random.normal(60,15)/100\r\n",
        "\r\n",
        "# 5 ratings for each team\r\n",
        "print('team 1:')\r\n",
        "print(serve_1,pass_1,set_1,attack_1,block_1)\r\n",
        "print('team 2:')\r\n",
        "print(serve_2,pass_2,set_2,attack_2,block_2)"
      ],
      "execution_count": null,
      "outputs": [
        {
          "output_type": "stream",
          "text": [
            "team 1:\n",
            "0.6251293535987894 0.6243671074963711 0.9000191280158621 0.6568405615164872 0.729918548731927\n",
            "team 2:\n",
            "0.6871889173425089 0.4593415148544451 0.7945169992562896 0.5313384409993954 0.5772727814638023\n"
          ],
          "name": "stdout"
        }
      ]
    },
    {
      "cell_type": "markdown",
      "metadata": {
        "id": "paH2fd5v79xU"
      },
      "source": [
        "Testing of the initial model"
      ]
    },
    {
      "cell_type": "code",
      "metadata": {
        "id": "Ap1K-ZAgGOE0",
        "colab": {
          "base_uri": "https://localhost:8080/"
        },
        "outputId": "cd22e899-97f2-4fdf-a4c5-e079702d270a"
      },
      "source": [
        "# Start with team 1 \r\n",
        "system(1,serve_1,pass_1,set_1,attack_1,block_1,serve_2,pass_2,set_2,attack_2,block_2)"
      ],
      "execution_count": null,
      "outputs": [
        {
          "output_type": "stream",
          "text": [
            "team:  1 serving\n",
            "0.24553248790377658\n",
            "serving in bounds\n",
            "ball goes to team  2  for passing\n",
            "team:  2 passing\n",
            "0.40697570345417633\n",
            "passing successful\n",
            "ball goes to team 2  for setting\n",
            "team:  2 setting\n",
            "0.9368336532364594\n",
            "setting failed\n",
            "team  2  LOST!\n"
          ],
          "name": "stdout"
        }
      ]
    },
    {
      "cell_type": "code",
      "metadata": {
        "colab": {
          "base_uri": "https://localhost:8080/"
        },
        "id": "AI14HNd8Bs9K",
        "outputId": "5cfada91-6a82-4ec5-94c9-b2a6437360fc"
      },
      "source": [
        "# Start with team 2\r\n",
        "system(2,serve_1,pass_1,set_1,attack_1,block_1,serve_2,pass_2,set_2,attack_2,block_2)"
      ],
      "execution_count": null,
      "outputs": [
        {
          "output_type": "stream",
          "text": [
            "team:  2 serving\n",
            "0.6733497793060225\n",
            "serving in bounds\n",
            "ball goes to team  1  for passing\n",
            "team:  1 passing\n",
            "0.6189136430518211\n",
            "passing successful\n",
            "ball goes to team 1  for setting\n",
            "team:  1 setting\n",
            "0.5060760399710154\n",
            "setting successful\n",
            "ball goes to team 1  for attacking\n",
            "team:  1  attacking\n",
            "0.2092077413644554\n",
            "attacking in bounds\n",
            "ball goes to team 2  for blocking\n",
            "team:  2  blocking\n",
            "0.8307042341168063\n",
            "blocking out of bounds\n",
            "team  2  LOST!\n"
          ],
          "name": "stdout"
        }
      ]
    },
    {
      "cell_type": "markdown",
      "metadata": {
        "id": "mxTLwSJV8Exy"
      },
      "source": [
        "# Final Simulation Model\n",
        "\n",
        "Gong Cheng, Dec 28\n",
        "\n",
        "The model below can simulate a whole game of volleyball. Whenever a team scored/lost a point, either the winning team keeps serving or the losing team gives away the serving right and the game continues until a team hits 25 points and leads by at least 2 points.\n",
        "\n",
        "The model is still based on the simulation of the sequence of 5 actions, but much more complete.\n",
        "\n",
        "Also, this model will return the 2 system outputs: winning rate of team 2 for 100 25-point games and average game length in seconds."
      ]
    },
    {
      "cell_type": "code",
      "metadata": {
        "id": "6HHnsM3QBzjS"
      },
      "source": [
        "### This part of code simulates the whole set up to 25 points and decide which team finally wins, the code\r\n",
        "### allows for:\r\n",
        "#   1)Rotation of players' position to decide setter within the team;\r\n",
        "#   2)In each passing (attacking) process, passer (attacker) is randomly chosen from 5 players excluding the setter\r\n",
        "#   3)Simulate for multiple times and calculate average rate to win for a specific team\r\n",
        "\r\n",
        "### However, this system still suffers from several caveats and the following points need more attention:\r\n",
        "#   1)Setter is assumed to never pass or attack, which during the real rally is not realisitc, setters sometimes do pass\r\n",
        "#   2)Attackers are not discriminated according to whether they are in the front court, usually, the 2 or 3\r\n",
        "#   attckers in the front usually get more chances to attack. Here I assume all five attackers are equally likely\r\n",
        "#   3)Blocking is a too complicated process influenced by who are allowed to block, who actually blocks and \r\n",
        "#   how many blocks(could be 1 to 3), therefore, I used team average blocking data for each blocking process, \r\n",
        "#   that is, I leave out all the details except which team is blocking.\r\n",
        "#   4) Team players' data have to be manually set up and changed, the process yet to be automated (but still \r\n",
        "#   good to use if our problem is not too complicated). \r\n",
        "#   5) When manaually constructing the team data, setter have to be the first in the strucutre according to my\r\n",
        "#   construction and each team is assumed to start serving with setter\r\n",
        "\r\n",
        "### If no further significant parts are added, I suggest we reduce the question to \"Should the team change a setter or not\" \r\n",
        "### instead of \"Optimal combination\" as the latter would involve much more times of simulation while the former is still worthy \r\n",
        "### of studying as setter is considered to be the most crucial part of a team during the rally. We could select setters with \r\n",
        "### different features,eg,one with excellent setting skill, one with good blocking and the other more balanced, and\r\n",
        "### choose from the best of them with simulation. This is a very significant decision in the real game and our\r\n",
        "### program could help in the decision-making process.\r\n"
      ],
      "execution_count": null,
      "outputs": []
    },
    {
      "cell_type": "code",
      "metadata": {
        "id": "ZX8GADOmPn1G"
      },
      "source": [
        "# First I construct each player's data as a dictionary, here only 6 of them are used for testing\r\n",
        "TM={'Service': {'Error Rate': 0.03819444444444445, 'Ace Rate': 0.024305555555555556, 'Success Rate': 0.9375}, 'Attack': {'Success Rate': 0.4666666666666667, 'Kill Rate': 0.32592592592592595, 'Error Rate': 0.2074074074074074}, 'Pass': {'Success Rate': 0.8937007874015748, 'Error Rate': 0.1062992125984252}, 'Block': {'Success Rate': 0.3, 'Error Rate': 0.3, 'Assist Rate': 0.4}, 'Set': {'Success Rate': 0.010655090765588003, 'Error Rate': 0.989344909234412}}\r\n",
        "EC={'Service': {'Error Rate': 0.23943661971830985, 'Ace Rate': 0.14553990610328638, 'Success Rate': 0.6150234741784038}, 'Attack': {'Success Rate': 0.4094998200791652, 'Kill Rate': 0.4494422454120187, 'Error Rate': 0.14105793450881612}, 'Pass': {'Success Rate': 0.9435483870967742, 'Error Rate': 0.056451612903225805}, 'Block': {'Success Rate': 0.1059190031152648, 'Error Rate': 0.12461059190031153, 'Assist Rate': 0.7694704049844237}, 'Set': {'Success Rate': 0.056827150749802685, 'Error Rate': 0.9431728492501973}}\r\n",
        "PC={'Service': {'Error Rate': 0.2485207100591716, 'Ace Rate': 0.09664694280078895, 'Success Rate': 0.6548323471400395}, 'Attack': {'Success Rate': 0.33127753303964763, 'Kill Rate': 0.5251101321585903, 'Error Rate': 0.1436123348017621}, 'Pass': {'Success Rate': 0.972027972027972, 'Error Rate': 0.027972027972027972}, 'Block': {'Success Rate': 0.18181818181818182, 'Error Rate': 0.16827852998065765, 'Assist Rate': 0.6499032882011605}, 'Set': {'Success Rate': 0.011838989739542225, 'Error Rate': 0.9881610102604578}}\r\n",
        "LM={'Service': {'Error Rate': 0.21886446886446886, 'Ace Rate': 0.12637362637362637, 'Success Rate': 0.6547619047619048}, 'Attack': {'Success Rate': 0.4310192023633678, 'Kill Rate': 0.42836041358936483, 'Error Rate': 0.14062038404726734}, 'Pass': {'Success Rate': 0.8349514563106796, 'Error Rate': 0.1650485436893204}, 'Block': {'Success Rate': 0.09090909090909091, 'Error Rate': 0.1534090909090909, 'Assist Rate': 0.7556818181818182}, 'Set': {'Success Rate': 0.038279400157853194, 'Error Rate': 0.9617205998421468}}\r\n",
        "OF={'Service': {'Error Rate': 0.06284153005464481, 'Ace Rate': 0.04918032786885246, 'Success Rate': 0.8879781420765027}, 'Attack': {'Success Rate': 0.36526946107784425, 'Kill Rate': 0.5269461077844312, 'Error Rate': 0.10778443113772455}, 'Pass': {'Success Rate': 0.9883720930232558, 'Error Rate': 0.011627906976744186}, 'Block': {'Success Rate': 0.07692307692307693, 'Error Rate': 0.15384615384615385, 'Assist Rate': 0.7692307692307693}, 'Set': {'Success Rate': 0.95, 'Error Rate': 0.05}}\r\n",
        "RP={'Service': {'Error Rate': 0.18719806763285024, 'Ace Rate': 0.10990338164251208, 'Success Rate': 0.7028985507246377}, 'Attack': {'Success Rate': 0.27638737758433074, 'Kill Rate': 0.5364526659412405, 'Error Rate': 0.18715995647442873}, 'Pass': {'Success Rate': 0.9927007299270073, 'Error Rate': 0.0072992700729927005}, 'Block': {'Success Rate': 0.09328358208955224, 'Error Rate': 0.208955223880597, 'Assist Rate': 0.6977611940298507}, 'Set': {'Success Rate': 0.011049723756906077, 'Error Rate': 0.988950276243094}}\r\n",
        "#.........More player is expected here\r\n",
        "\r\n",
        "\r\n",
        "# Construct the team (to make the construction consistent with functions built later setter shall be placed first)\r\n",
        "Team1=[TM,EC,PC,LM,OF,RP]\r\n",
        "Team2=[TM,EC,PC,LM,OF,RP]\r\n",
        "Team = [Team1,Team2]\r\n",
        "\r\n",
        "# Blocking is much too complicated which envoles identifying players in the front, number of blockers etc, so here I tend to use team average data\r\n",
        "# for each block.This function is built accordingly. \r\n",
        "def get_blocking_rate(Team):\r\n",
        "    Blocking_rate = {'Assist':0,'Error':0,'Success':0}\r\n",
        "    for people in Team:\r\n",
        "        Blocking_rate['Assist']= Blocking_rate['Assist'] + people['Block']['Assist Rate']\r\n",
        "        Blocking_rate['Error']= Blocking_rate['Error'] + people['Block']['Error Rate']\r\n",
        "        Blocking_rate['Success']= Blocking_rate['Success'] + people['Block']['Success Rate']\r\n",
        "    Blocking_rate['Assist']=Blocking_rate['Assist']/6\r\n",
        "    Blocking_rate['Error']= Blocking_rate['Error']/6\r\n",
        "    Blocking_rate['Success']= Blocking_rate['Success']/6\r\n",
        "    return Blocking_rate\r\n",
        "\r\n",
        "#Determine when to end the game, specifically, one team goes to 25 points and at least 2 points ahead of the other\r\n",
        "def end_game(Score):\r\n",
        "    maximum=np.max(Score)\r\n",
        "    difference=np.abs(Score[0]-Score[1])\r\n",
        "    if maximum>=25 and difference>=2:\r\n",
        "        return True\r\n",
        "    else:\r\n",
        "        return False\r\n",
        "    \r\n",
        "def game(Team):\r\n",
        "    env=simpy.Environment()\r\n",
        "    #This records the current serving person of each team\r\n",
        "    Serving_person=[0,0]\r\n",
        "    Blocking_rate = [get_blocking_rate(i) for i in Team]\r\n",
        "    #This records current score of each team\r\n",
        "    Score=[0,0]\r\n",
        "    stop=env.event()\r\n",
        "    serving_team=np.random.randint(0,2)\r\n",
        "    #0 in the last means Team1 serves, (if 1 means Team2 serves)\r\n",
        "    env.process(serving(env,stop,serving_team,Team,Serving_person,Blocking_rate,Score))\r\n",
        "    env.run(stop)\r\n",
        "    return np.argmax(Score),env.now"
      ],
      "execution_count": null,
      "outputs": []
    },
    {
      "cell_type": "code",
      "metadata": {
        "id": "QRRUoGurTw5Q"
      },
      "source": [
        "# Here 'team' can only take 2 values: 0 and 1. If team=0,then it mean Team1 serves, otherwise Team2 serves\r\n",
        "def serving(env,stop,serving_team,Team,Serving_person,Blocking_rate,Score):\r\n",
        "    yield env.timeout(np.random.rand())\r\n",
        "    #Use random number u to determine the serving result \r\n",
        "    u=np.random.rand()\r\n",
        "    server=Team[serving_team][Serving_person[serving_team]]\r\n",
        "    error_rate = server['Service']['Error Rate']\r\n",
        "    ace_rate= server['Service']['Ace Rate']\r\n",
        "    #Serving error, the other side earns one point, roate and start a new serving process\r\n",
        "    if u<error_rate:\r\n",
        "        Score[1-serving_team]=Score[1-serving_team]+1\r\n",
        "        if end_game(Score):\r\n",
        "            stop.succeed()\r\n",
        "            yield stop\r\n",
        "        Serving_person[1-serving_team] = (Serving_person[1-serving_team]+1)%6\r\n",
        "        env.process(serving(env,stop,1-serving_team,Team,Serving_person,Blocking_rate,Score))\r\n",
        "    #Serving ace, serving side earns one point and start a new serving process\r\n",
        "    elif u<error_rate+ace_rate:\r\n",
        "        Score[serving_team]=Score[serving_team]+1\r\n",
        "        if end_game(Score):\r\n",
        "            stop.succeed()\r\n",
        "            yield stop\r\n",
        "        env.process(serving(env,stop,serving_team,Team,Serving_person,Blocking_rate,Score))\r\n",
        "    #Good serve and pass to the other side, start a new passing process\r\n",
        "    else:\r\n",
        "        env.process(passing(env,stop,1-serving_team,serving_team,Team,Serving_person,Blocking_rate,Score))"
      ],
      "execution_count": null,
      "outputs": []
    },
    {
      "cell_type": "code",
      "metadata": {
        "id": "BsRyqv6ZT1o4"
      },
      "source": [
        "# Here 'team' can only take 2 values: 0 and 1. If team=0,then it mean Team1 serves, otherwise Team2 serves\r\n",
        "def passing(env,stop,passing_team,serving_team,Team,Serving_person,Blocking_rate,Score):\r\n",
        "    yield env.timeout(np.random.rand())\r\n",
        "    #Use random number u to decide result of passing\r\n",
        "    u=np.random.rand()\r\n",
        "    #Choose the one who receives passing(HERE I SUPER SIMPLIFIED THAT SETTER WOULDN'T PASS, IT'S TRUE DURING RECEPTION BUT NOT NECESSARILY DURING THE RALLY)\r\n",
        "    passer = choose_passer(Team[passing_team])\r\n",
        "    error_rate=passer['Pass']['Error Rate']\r\n",
        "    #Passing error, the other side earns a score, MIGHT rotate and start a new process\r\n",
        "    if u<error_rate:\r\n",
        "        Score[1-passing_team]=Score[1-passing_team]+1\r\n",
        "        if end_game(Score):\r\n",
        "            stop.succeed()\r\n",
        "            yield stop\r\n",
        "    #Decide if a rotate should happen as pass could be in reception or during the rally\r\n",
        "        if passing_team==serving_team:\r\n",
        "            Serving_person[1-passing_team] = (Serving_person[1-passing_team]+1)%6\r\n",
        "    #Start a new serving process from the other side\r\n",
        "        env.process(serving(env,stop,1-passing_team,Team,Serving_person,Blocking_rate,Score))\r\n",
        "    else:\r\n",
        "    #Successful pass then process to set\r\n",
        "        env.process(setting(env,stop,passing_team,serving_team,Team,Serving_person,Blocking_rate,Score))\r\n",
        "\r\n",
        "# Choose the player who passes, HERE ASSUME SETTER DON'T PASS       \r\n",
        "def choose_passer(Team):\r\n",
        "    passer_number=np.random.randint(1,6)\r\n",
        "    return Team[passer_number]"
      ],
      "execution_count": null,
      "outputs": []
    },
    {
      "cell_type": "code",
      "metadata": {
        "id": "AYWcfHtqT3bJ"
      },
      "source": [
        "def setting(env,stop,setting_team,serving_team,Team,Serving_person,Blocking_rate,Score):\r\n",
        "    yield env.timeout(np.random.rand())\r\n",
        "    #Use random number u to determine results of setting\r\n",
        "    u=np.random.rand()\r\n",
        "    #Assume setter is in the first of team list and she always manages to set\r\n",
        "    setter=Team[setting_team][0]\r\n",
        "    error_rate=setter['Set']['Error Rate']\r\n",
        "    #Setting error\r\n",
        "    if u<error_rate:\r\n",
        "        Score[1-setting_team]=Score[1-setting_team]+1\r\n",
        "        if end_game(Score):\r\n",
        "            stop.succeed()\r\n",
        "            yield stop\r\n",
        "        #Decide if a rotate should happen as setting could be in reception or during the rally\r\n",
        "        if setting_team==serving_team:\r\n",
        "            Serving_person[1-setting_team] = (Serving_person[1-setting_team]+1)%6\r\n",
        "        #Start a new serving process from the other side\r\n",
        "        env.process(serving(env,stop,1-setting_team,Team,Serving_person,Blocking_rate,Score))\r\n",
        "    else:\r\n",
        "    #Good set then proceed to attacking process\r\n",
        "        env.process(attacking(env,stop,setting_team,serving_team,Team,Serving_person,Blocking_rate,Score))"
      ],
      "execution_count": null,
      "outputs": []
    },
    {
      "cell_type": "code",
      "metadata": {
        "id": "PeeCHTf_T5fH"
      },
      "source": [
        "def attacking(env,stop,attacking_team,serving_team,Team,Serving_person,Blocking_rate,Score):\r\n",
        "    yield env.timeout(np.random.rand())\r\n",
        "    #Use random number u to determine results of setting\r\n",
        "    u=np.random.rand()\r\n",
        "    #Choose attacker from the players(ASSUME SETTER DON'T ATTACK)\r\n",
        "    attacker = choose_attacker(Team[attacking_team])\r\n",
        "    error_rate = attacker['Attack']['Error Rate']\r\n",
        "    kill_rate = attacker['Attack']['Kill Rate']\r\n",
        "    #Attack error,\r\n",
        "    if u<error_rate:\r\n",
        "        Score[1-attacking_team]=Score[1-attacking_team]+1\r\n",
        "        if end_game(Score):\r\n",
        "            stop.succeed()\r\n",
        "            yield stop\r\n",
        "        #Decide if a rotate should happen as attacking could be in reception or during the rally\r\n",
        "        if attacking_team==serving_team:\r\n",
        "            Serving_person[1-attacking_team] = (Serving_person[1-attacking_team]+1)%6\r\n",
        "        #Start a new serving process from the other side\r\n",
        "        env.process(serving(env,stop,1-attacking_team,Team,Serving_person,Blocking_rate,Score))\r\n",
        "        \r\n",
        "    #The attack scores, this side earns a score,MIGHT rotate and start a new serving process from this side\r\n",
        "    elif u<error_rate+kill_rate:\r\n",
        "        Score[attacking_team]=Score[attacking_team]+1\r\n",
        "        if end_game(Score):\r\n",
        "            stop.succeed()\r\n",
        "            yield stop\r\n",
        "        #Decide if a rotate should happen as attacking could be in reception or during the rally\r\n",
        "        if attacking_team!=serving_team:\r\n",
        "            Serving_person[attacking_team] = (Serving_person[attacking_team]+1)%6\r\n",
        "        #Start a new serving process from the other side\r\n",
        "        env.process(serving(env,stop,attacking_team,Team,Serving_person,Blocking_rate,Score))\r\n",
        "    #Effective attack then proceed to block\r\n",
        "    else:\r\n",
        "        env.process(blocking(env,stop,1-attacking_team,serving_team,Team,Serving_person,Blocking_rate,Score))\r\n",
        "\r\n",
        "#Choose attacker from the players(ASSUME SETTER DON'T ATTACK)           \r\n",
        "def choose_attacker(Team):\r\n",
        "    attacker_number=np.random.randint(1,6)\r\n",
        "    return Team[attacker_number]"
      ],
      "execution_count": null,
      "outputs": []
    },
    {
      "cell_type": "code",
      "metadata": {
        "id": "uaImBlldT8qw"
      },
      "source": [
        "# In the process of `blocking`:\r\n",
        "    # the block rating: block_1/block_2 is being compared to `np.random.rand()` twice\r\n",
        "        # 1st time: to determine if the block goes out of bounds, thus LOST immediately\r\n",
        "        # 2nd time: once the block goes in bounds, to determine if the block successfully block back the ball\r\n",
        "\r\n",
        "def blocking(env,stop,blocking_team,serving_team,Team,Serving_person,Blocking_rate,Score):\r\n",
        "    yield env.timeout(np.random.rand())\r\n",
        "    #Use random number u to determine results of block\r\n",
        "    u=np.random.rand()\r\n",
        "    #Get team average blocking data\r\n",
        "    error=Blocking_rate[blocking_team]['Error']\r\n",
        "    success=Blocking_rate[blocking_team]['Success']\r\n",
        "    if u<error:\r\n",
        "    #Block error\r\n",
        "        Score[1-blocking_team]=Score[1-blocking_team]+1\r\n",
        "        if end_game(Score):\r\n",
        "            stop.succeed()\r\n",
        "            yield stop\r\n",
        "        #Decide if a rotate should happen as blocking could be in differents rounds of rally\r\n",
        "        if blocking_team==serving_team:\r\n",
        "            Serving_person[1-blocking_team] = (Serving_person[1-blocking_team]+1)%6\r\n",
        "        #Start a new serving process from the other side\r\n",
        "        env.process(serving(env,stop,1-blocking_team,Team,Serving_person,Blocking_rate,Score))\r\n",
        "    elif u<error+success:\r\n",
        "    #Block success\r\n",
        "        Score[blocking_team]=Score[blocking_team]+1\r\n",
        "        if end_game(Score):\r\n",
        "            stop.succeed()\r\n",
        "            yield stop\r\n",
        "        #Decide if a rotate should happen as blocking could be in differents rounds of rally\r\n",
        "        if blocking_team!=serving_team:\r\n",
        "            Serving_person[blocking_team] = (Serving_person[blocking_team_team]+1)%6\r\n",
        "        #Start a new serving process from the same side\r\n",
        "        env.process(serving(env,stop,blocking_team,Team,Serving_person,Blocking_rate,Score))\r\n",
        "    else:\r\n",
        "    #Block assists, the ball goes into a new passing process but need to decide which side it goes, HERE I ASSUME the ball has 50% chance going to each side\r\n",
        "        if np.random.rand()>0.5:\r\n",
        "        #The ball goes to the side of blocking team\r\n",
        "            env.process(passing(env,stop,blocking_team,serving_team,Team,Serving_person,Blocking_rate,Score))\r\n",
        "        else:\r\n",
        "        #The ball goes back to the attacking team\r\n",
        "            env.process(passing(env,stop,1-blocking_team,serving_team,Team,Serving_person,Blocking_rate,Score))"
      ],
      "execution_count": null,
      "outputs": []
    },
    {
      "cell_type": "code",
      "metadata": {
        "id": "KuBT0DBMT-nn"
      },
      "source": [
        "#Construct the function to simulate for N times, return the simulatd probability that Team 2 wins and average duration of game\r\n",
        "def simulation(Team,N):\r\n",
        "    result= np.array([game(Team) for i in range(N)])\r\n",
        "    return (sum(result)[0])/N, (sum(result)[1])/N"
      ],
      "execution_count": null,
      "outputs": []
    },
    {
      "cell_type": "code",
      "metadata": {
        "id": "Qt-wmFN7UDDn",
        "colab": {
          "base_uri": "https://localhost:8080/"
        },
        "outputId": "c7197db1-2349-479e-9a46-c914060159e3"
      },
      "source": [
        "#Simluate for 100 times\r\n",
        "simulation(Team,100)"
      ],
      "execution_count": null,
      "outputs": [
        {
          "output_type": "execute_result",
          "data": {
            "text/plain": [
              "(0.56, 44.48359731981814)"
            ]
          },
          "metadata": {
            "tags": []
          },
          "execution_count": 251
        }
      ]
    },
    {
      "cell_type": "markdown",
      "metadata": {
        "id": "rq819Hs_88ME"
      },
      "source": [
        "# Optimization Step\n",
        "\n",
        "Ziyang Zhang, Dec 28\n",
        "\n",
        "Run the opimization step using the Final Model above to find the best combination of 6 players to win the game and hopefully play as long as possible for a game."
      ]
    },
    {
      "cell_type": "code",
      "metadata": {
        "id": "CEQLJUGlBIWW"
      },
      "source": [
        "# Different opponent teams have different 6 players, \n",
        "# but given that we know which opponent's 6 players are playing ahead of a game\n",
        "# We can quickly run our simulation \n",
        "# (assuming we are the only team applying this technique)\n",
        "# to pick our best combination of 6 players that fits our best interests\n",
        "\n",
        "# Business Value/Interests recommendation:\n",
        "# Target Audience: coach and sponsor\n",
        "# 1. The coach values the winning percentage the most\n",
        "# 2. The sponsor values the length of a game time the most\n",
        "\n",
        "# Ideal Optimal solution:\n",
        "# Maybe put the winning percentage as the priority, but doesn't have to be always the highest\n",
        "# Given a lower bound for the winning percentage that is required by the coach,\n",
        "# we pick the team combination that plays the game to the longest duration.\n",
        "\n",
        "from itertools import combinations\n",
        "\n",
        "# 12 players on our roster\n",
        "KyleP={'Name':'Kyle Piekarski','Service': {'Error Rate': 0.09895833333333333, 'Ace Rate': 0.03819444444444445, 'Success Rate': 0.8628472222222222}, 'Attack': {'Success Rate': 0.3015151515151515, 'Kill Rate': 0.5727272727272728, 'Error Rate': 0.12575757575757576}, 'Pass': {'Success Rate': 0.9642857142857143, 'Error Rate': 0.03571428571428571}, 'Block': {'Success Rate': 0.04678362573099415, 'Error Rate': 0.15204678362573099, 'Assist Rate': 0.8011695906432749}, 'Set': {'Success Rate': 0.003946329913180742,'Error Rate': 0.9960536700868192}}\n",
        "QuinnI={'Name':'Quinn Isaacson','Service': {'Error Rate': 0.12698412698412698, 'Ace Rate': 0.03968253968253968, 'Success Rate': 0.8333333333333334}, 'Attack': {'Success Rate': 0.4032258064516129, 'Kill Rate': 0.5, 'Error Rate': 0.0967741935483871}, 'Pass': {'Success Rate': 1.0, 'Error Rate': 0.0}, 'Block': {'Success Rate': 0.14285714285714285, 'Error Rate': 0.12857142857142856, 'Assist Rate': 0.7285714285714285}, 'Set': {'Success Rate': 0.531965272296764, 'Error Rate': 0.46803472770323595}}\n",
        "RadoP={'Name':'Rado Parapunov','Service': {'Error Rate': 0.18719806763285024, 'Ace Rate': 0.10990338164251208, 'Success Rate': 0.7028985507246377}, 'Attack': {'Success Rate': 0.27638737758433074, 'Kill Rate': 0.5364526659412405, 'Error Rate': 0.18715995647442873}, 'Pass': {'Success Rate': 0.9927007299270073, 'Error Rate': 0.0072992700729927005}, 'Block': {'Success Rate': 0.09328358208955224, 'Error Rate': 0.208955223880597, 'Assist Rate': 0.6977611940298507}, 'Set': {'Success Rate': 0.011049723756906077, 'Error Rate': 0.988950276243094}}\n",
        "OscarF={'Name':'Oscar Fiorentino','Service': {'Error Rate': 0.06284153005464481, 'Ace Rate': 0.04918032786885246, 'Success Rate': 0.8879781420765027}, 'Attack': {'Success Rate': 0.36526946107784425, 'Kill Rate': 0.5269461077844312, 'Error Rate': 0.10778443113772455}, 'Pass': {'Success Rate': 0.9883720930232558, 'Error Rate': 0.011627906976744186}, 'Block': {'Success Rate': 0.07692307692307693, 'Error Rate': 0.15384615384615385, 'Assist Rate': 0.7692307692307693}, 'Set': {'Success Rate': 0.95, 'Error Rate': 0.05}}\n",
        "GeorgeH={'Name':'George Huhmann','Service': {'Error Rate': 0.2749778956675508, 'Ace Rate': 0.10786914235190097, 'Success Rate': 0.6171529619805483}, 'Attack': {'Success Rate': 0.3557731538147695, 'Kill Rate': 0.48021215830273356, 'Error Rate': 0.16401468788249693}, 'Pass': {'Success Rate': 0.9887218045112782, 'Error Rate': 0.011278195488721804}, 'Block': {'Success Rate': 0.1412037037037037, 'Error Rate': 0.17592592592592593, 'Assist Rate': 0.6828703703703703}, 'Set': {'Success Rate': 0.017758484609313337, 'Error Rate': 0.9822415153906867}}\n",
        "CaseyM={'Name':'Casey McGarry','Service': {'Error Rate': 0.24150943396226415, 'Ace Rate': 0.07044025157232704, 'Success Rate': 0.6880503144654089}, 'Attack': {'Success Rate': 0.3851851851851852, 'Kill Rate': 0.45925925925925926, 'Error Rate': 0.15555555555555556}, 'Pass': {'Success Rate': 0.9948051948051948, 'Error Rate': 0.005194805194805195}, 'Block': {'Success Rate': 0.05333333333333334, 'Error Rate': 0.22666666666666666, 'Assist Rate': 0.72}, 'Set': {'Success Rate': 0.7541436464088398, 'Error Rate': 0.2458563535911602}}\n",
        "TimothyM={'Name':'Timothy McIntosh','Service': {'Error Rate': 0.03819444444444445, 'Ace Rate': 0.024305555555555556, 'Success Rate': 0.9375}, 'Attack': {'Success Rate': 0.4666666666666667, 'Kill Rate': 0.32592592592592595, 'Error Rate': 0.2074074074074074}, 'Pass': {'Success Rate': 0.8937007874015748, 'Error Rate': 0.1062992125984252}, 'Block': {'Success Rate': 0.1111111111111111, 'Error Rate': 0.0, 'Assist Rate': 0.8888888888888888}, 'Set': {'Success Rate': 0.010655090765588003, 'Error Rate': 0.989344909234412}}\n",
        "PedroC={'Name':'Pedro Carvalho','Service': {'Error Rate': 0.2485207100591716, 'Ace Rate': 0.09664694280078895, 'Success Rate': 0.6548323471400395}, 'Attack': {'Success Rate': 0.33127753303964763, 'Kill Rate': 0.5251101321585903, 'Error Rate': 0.1436123348017621}, 'Pass': {'Success Rate': 0.972027972027972, 'Error Rate': 0.027972027972027972}, 'Block': {'Success Rate': 0.18181818181818182, 'Error Rate': 0.16827852998065765, 'Assist Rate': 0.6499032882011605}, 'Set': {'Success Rate': 0.011838989739542225, 'Error Rate': 0.9881610102604578}}\n",
        "FredericoS={'Name':'Frederico Santos','Service': {'Error Rate': 0.051490514905149054, 'Ace Rate': 0.02168021680216802, 'Success Rate': 0.926829268292683}, 'Attack': {'Success Rate': 0.41025641025641024, 'Kill Rate': 0.4358974358974359, 'Error Rate': 0.15384615384615385}, 'Pass': {'Success Rate': 0.9946236559139785, 'Error Rate': 0.005376344086021506}, 'Block': {'Success Rate': 0.09333333333333334, 'Error Rate': 0.16, 'Assist Rate': 0.7466666666666667}, 'Set': {'Success Rate': 0.35122336227308604, 'Error Rate': 0.648776637726914}}\n",
        "KennanS={'Name':'Kennan Sanders','Service': {'Error Rate': 0.13763440860215054, 'Ace Rate': 0.046236559139784944, 'Success Rate': 0.8161290322580644}, 'Attack': {'Success Rate': 0.3366690493209435, 'Kill Rate': 0.511794138670479, 'Error Rate': 0.15153681200857755}, 'Pass': {'Success Rate': 0.9629629629629629, 'Error Rate': 0.037037037037037035}, 'Block': {'Success Rate': 0.05017921146953405, 'Error Rate': 0.17921146953405018, 'Assist Rate': 0.7706093189964157}, 'Set': {'Success Rate': 0.006708760852407261, 'Error Rate': 0.9932912391475928}}\n",
        "LiamM={'Name':'Liam Maxwell','Service': {'Error Rate': 0.21886446886446886, 'Ace Rate': 0.12637362637362637, 'Success Rate': 0.6547619047619048}, 'Attack': {'Success Rate': 0.4310192023633678, 'Kill Rate': 0.42836041358936483, 'Error Rate': 0.14062038404726734}, 'Pass': {'Success Rate': 0.8349514563106796, 'Error Rate': 0.1650485436893204}, 'Block': {'Success Rate': 0.09090909090909091, 'Error Rate': 0.1534090909090909, 'Assist Rate': 0.7556818181818182}, 'Set': {'Success Rate': 0.038279400157853194, 'Error Rate': 0.9617205998421468}}\n",
        "EvanC={'Name':'Evan Cory','Service': {'Error Rate': 0.23943661971830985, 'Ace Rate': 0.14553990610328638, 'Success Rate': 0.6150234741784038}, 'Attack': {'Success Rate': 0.4094998200791652, 'Kill Rate': 0.4494422454120187, 'Error Rate': 0.14105793450881612}, 'Pass': {'Success Rate': 0.9435483870967742, 'Error Rate': 0.056451612903225805}, 'Block': {'Success Rate': 0.1059190031152648, 'Error Rate': 0.12461059190031153, 'Assist Rate': 0.7694704049844237}, 'Set': {'Success Rate': 0.056827150749802685, 'Error Rate': 0.9431728492501973}}\n",
        "\n",
        "\n",
        "\n",
        "\n",
        "\n",
        "# Selecting a team of 6 players out of 12 players\n",
        "      # NEED more players\n",
        "roster = combinations([KyleP,QuinnI,RadoP,OscarF,GeorgeH,CaseyM,TimothyM,PedroC,FredericoS,KennanS,LiamM,EvanC],6)\n",
        "combinations=list(roster)"
      ],
      "execution_count": null,
      "outputs": []
    },
    {
      "cell_type": "code",
      "metadata": {
        "colab": {
          "base_uri": "https://localhost:8080/"
        },
        "id": "_HitDUMIYcjl",
        "outputId": "d8671acf-b262-43e5-8023-30c7e177c5e6"
      },
      "source": [
        "# total number of combinations: 924\n",
        "len(combinations)"
      ],
      "execution_count": null,
      "outputs": [
        {
          "output_type": "execute_result",
          "data": {
            "text/plain": [
              "924"
            ]
          },
          "metadata": {
            "tags": []
          },
          "execution_count": 280
        }
      ]
    },
    {
      "cell_type": "code",
      "metadata": {
        "id": "jRc-kuBta-JO"
      },
      "source": [
        "def optimization(combinations,N):\n",
        "  winning_rates=[]\n",
        "  lengths=[]\n",
        "  # choose the 1st combination as the Opponent Team\n",
        "  Opponent=list(combinations[0])\n",
        "  # loop through the first 100 of all combinations as the Home Team against the Opponent Team\n",
        "  for i in range(100):\n",
        "    HomeTeam=list(combinations[i])\n",
        "    Team=[Opponent,HomeTeam]\n",
        "    rate,length=simulation(Team,N)\n",
        "    winning_rates.append(rate)\n",
        "    lengths.append(length)\n",
        "\n",
        "  return np.array(winning_rates),np.array(lengths)\n",
        "\n",
        "WIN_rates,GAME_lengths=optimization(combinations,100)"
      ],
      "execution_count": null,
      "outputs": []
    },
    {
      "cell_type": "code",
      "metadata": {
        "colab": {
          "base_uri": "https://localhost:8080/",
          "height": 282
        },
        "id": "P03HN6QOENzA",
        "outputId": "0f301db2-5f10-4fa7-b86f-0bc3dff1ec7f"
      },
      "source": [
        "# Plot of winning rates against combination indices\n",
        "x=np.arange(100)\n",
        "plt.plot(x,WIN_rates)\n",
        "plt.title('Trend of Winning Rates')\n",
        "plt.xlabel('Combination Index')\n",
        "plt.ylabel('Winning Rate')\n",
        "plt.show()"
      ],
      "execution_count": null,
      "outputs": [
        {
          "output_type": "execute_result",
          "data": {
            "text/plain": [
              "[<matplotlib.lines.Line2D at 0x7f7f85221e10>]"
            ]
          },
          "metadata": {
            "tags": []
          },
          "execution_count": 283
        },
        {
          "output_type": "display_data",
          "data": {
            "image/png": "[encoded data removed]",
            "text/plain": [
              "<Figure size 432x288 with 1 Axes>"
            ]
          },
          "metadata": {
            "tags": [],
            "needs_background": "light"
          }
        }
      ]
    },
    {
      "cell_type": "code",
      "metadata": {
        "colab": {
          "base_uri": "https://localhost:8080/",
          "height": 295
        },
        "id": "WwZUvPkgENn7",
        "outputId": "0536efcb-34e9-4c9e-d54e-f24bdfd2b567"
      },
      "source": [
        "# Plot of average game lengths against combination indices\n",
        "plt.plot(x,GAME_lengths)\n",
        "plt.title('Tren of Average Game Lengths')\n",
        "plt.xlabel('Combination Index')\n",
        "plt.ylabel('Average Game Lengths')\n",
        "plt.show()"
      ],
      "execution_count": null,
      "outputs": [
        {
          "output_type": "display_data",
          "data": {
            "image/png": "[encoded data removed]",
            "text/plain": [
              "<Figure size 432x288 with 1 Axes>"
            ]
          },
          "metadata": {
            "tags": [],
            "needs_background": "light"
          }
        }
      ]
    },
    {
      "cell_type": "code",
      "metadata": {
        "id": "L2Gr9YK8556o"
      },
      "source": [
        "# Sort the winning rates and find the top 10 and their indices\n",
        "TOP_10_WIN_rates=np.sort(WIN_rates)[::-1][:10]\n",
        "TOP_10_indices=np.argsort(WIN_rates)[::-1][:10]\n",
        "BOT_10_WIN_rates=np.sort(WIN_rates)[:10]"
      ],
      "execution_count": null,
      "outputs": []
    },
    {
      "cell_type": "code",
      "metadata": {
        "colab": {
          "base_uri": "https://localhost:8080/"
        },
        "id": "TUiSeLL1Basl",
        "outputId": "948acb55-fb36-443a-9f96-c1f85e132d85"
      },
      "source": [
        "# TOP 10 winning rates\n",
        "TOP_10_WIN_rates"
      ],
      "execution_count": null,
      "outputs": [
        {
          "output_type": "execute_result",
          "data": {
            "text/plain": [
              "array([0.65, 0.64, 0.64, 0.63, 0.62, 0.61, 0.61, 0.61, 0.61, 0.6 ])"
            ]
          },
          "metadata": {
            "tags": []
          },
          "execution_count": 286
        }
      ]
    },
    {
      "cell_type": "markdown",
      "metadata": {
        "id": "WgcS1pUsFD83"
      },
      "source": [
        "Winning rate can go as high as around 65% with the optimal combination of 6 players."
      ]
    },
    {
      "cell_type": "code",
      "metadata": {
        "colab": {
          "base_uri": "https://localhost:8080/"
        },
        "id": "d3tagApVBapx",
        "outputId": "289b42be-b18f-49c1-a8a2-1c06a4740963"
      },
      "source": [
        "# TOP 10 winning rates' indices\n",
        "TOP_10_indices"
      ],
      "execution_count": null,
      "outputs": [
        {
          "output_type": "execute_result",
          "data": {
            "text/plain": [
              "array([69, 90, 68, 15,  7, 70, 88, 66, 92, 91])"
            ]
          },
          "metadata": {
            "tags": []
          },
          "execution_count": 287
        }
      ]
    },
    {
      "cell_type": "code",
      "metadata": {
        "colab": {
          "base_uri": "https://localhost:8080/"
        },
        "id": "hHK8T1N_Bamf",
        "outputId": "ec634274-3caf-441d-b0a9-4745904e0db7"
      },
      "source": [
        "# BOTTOM 10 winning rates\n",
        "BOT_10_WIN_rates"
      ],
      "execution_count": null,
      "outputs": [
        {
          "output_type": "execute_result",
          "data": {
            "text/plain": [
              "array([0.26, 0.28, 0.29, 0.31, 0.31, 0.34, 0.34, 0.35, 0.35, 0.35])"
            ]
          },
          "metadata": {
            "tags": []
          },
          "execution_count": 288
        }
      ]
    },
    {
      "cell_type": "markdown",
      "metadata": {
        "id": "bonn7tpjFK8m"
      },
      "source": [
        "Winning rate can go as low as around 26% with the worst combination of 6 players."
      ]
    },
    {
      "cell_type": "code",
      "metadata": {
        "colab": {
          "base_uri": "https://localhost:8080/"
        },
        "id": "E_sWR7wGBakB",
        "outputId": "6c3e1ef2-55a0-41ed-ba18-cc35f847913d"
      },
      "source": [
        "# Game Length of the TOP 10 combinations in seconds\n",
        "GAME_lengths[TOP_10_indices]"
      ],
      "execution_count": null,
      "outputs": [
        {
          "output_type": "execute_result",
          "data": {
            "text/plain": [
              "array([49.09958751, 50.18034884, 49.97066989, 48.39333398, 50.12509889,\n",
              "       48.88299736, 48.99493827, 50.02272185, 49.90239333, 49.70278875])"
            ]
          },
          "metadata": {
            "tags": []
          },
          "execution_count": 289
        }
      ]
    },
    {
      "cell_type": "code",
      "metadata": {
        "colab": {
          "base_uri": "https://localhost:8080/"
        },
        "id": "1LoEHVziBag0",
        "outputId": "2d96888c-378f-48db-a71d-374493fede6b"
      },
      "source": [
        "# Check the mean and interval of the game lengths in seconds\n",
        "mean=np.mean(GAME_lengths)\n",
        "print('Mean average game length: ',mean)\n",
        "lower=np.mean(GAME_lengths)-1.96*np.std(GAME_lengths,ddof=1)/(100)**0.5\n",
        "upper=np.mean(GAME_lengths)-1.96*np.std(GAME_lengths,ddof=1)/(100)**0.5\n",
        "print('95% confidence interval of the average game length: ', [lower, upper])"
      ],
      "execution_count": null,
      "outputs": [
        {
          "output_type": "stream",
          "text": [
            "Mean average game length:  49.316340999386654\n",
            "95% confidence interval of the average game length:  [49.11161144533354, 49.11161144533354]\n"
          ],
          "name": "stdout"
        }
      ]
    },
    {
      "cell_type": "code",
      "metadata": {
        "colab": {
          "base_uri": "https://localhost:8080/"
        },
        "id": "XPt7zXg2Cgi0",
        "outputId": "e1a6e8d3-1772-4caa-ce1b-45adb6d0b77a"
      },
      "source": [
        "print([np.min(GAME_lengths),np.max(GAME_lengths)])"
      ],
      "execution_count": null,
      "outputs": [
        {
          "output_type": "stream",
          "text": [
            "[47.0383364105147, 51.63538620189045]\n"
          ],
          "name": "stdout"
        }
      ]
    },
    {
      "cell_type": "code",
      "metadata": {
        "colab": {
          "base_uri": "https://localhost:8080/"
        },
        "id": "nQ5QFHHdCgVR",
        "outputId": "dd21bd7f-d660-4723-c664-e1b416f31469"
      },
      "source": [
        "# The combination of 6 players matters a lot to the WINNINT RATES.\n",
        "\n",
        "# However, the game lengths after running the optimization process turns out to be trivial.\n",
        "# Because the 95% confidence interval are too small.\n",
        "# The combinations with top 10 winning rates basically have the same game length in seconds.\n",
        "# So we will just pick the combination of 6 players with the highes WINNING RATE\n",
        "combo=TOP_10_indices[0]\n",
        "print('The best combination of 6 players is below: ')\n",
        "for player in combinations[combo]:\n",
        "  print(player['Name'])"
      ],
      "execution_count": null,
      "outputs": [
        {
          "output_type": "stream",
          "text": [
            "The best combination of 6 players is below: \n",
            "Kyle Piekarski\n",
            "Quinn Isaacson\n",
            "Rado Parapunov\n",
            "Timothy McIntosh\n",
            "Frederico Santos\n",
            "Liam Maxwell\n"
          ],
          "name": "stdout"
        }
      ]
    },
    {
      "cell_type": "markdown",
      "metadata": {
        "id": "CkwAUoQr57oH"
      },
      "source": [
        "# Alternative Model that Michael tried"
      ]
    },
    {
      "cell_type": "markdown",
      "metadata": {
        "id": "VjjuMYanxuPW"
      },
      "source": [
        "Michael Grandel, Dec 28\r\n",
        "\r\n",
        "Let's build the simulation! Note all the assumptions we are making.\r\n",
        "\r\n",
        "A volleyball court has dimensions of 60m x 30m.\r\n",
        "\r\n",
        "Lets start with a service should take about 1 second to travel to it's destination. It will travel along a line. So when a service happens, we can randomly pick a location it will land at the back-end of the opposing court (lets assume only the back-passers will get the ball). \r\n",
        "\r\n",
        "Now let's say every player has some 'radius' to which they will be able to recieve the ball. Given the size of the court, that radius is typically 2m. \r\n",
        "\r\n",
        "So, as the ball travels, we calculate the distance between the ball and every player in the back. If the distance is $\\leq 2$, we calculate the probability that player will get the ball. If the player does not succeed, the team loses the point. So, we assume that the first and closest player will always be the one expected to get the ball. "
      ]
    },
    {
      "cell_type": "code",
      "metadata": {
        "id": "OBxRGTzK0K7k"
      },
      "source": [
        "#Now we define the classes we will use to help us write neater code.\r\n",
        "\r\n",
        "###################\r\n",
        "class Player:\r\n",
        "  # x, y are starting coordinates\r\n",
        "\r\n",
        "  def __init__(self, x, y, skills):\r\n",
        "    self.x = x\r\n",
        "    self.y = y\r\n",
        "    self.skills = skills\r\n",
        "\r\n",
        "  def get_loc(self):\r\n",
        "    return (self.x, self.y)\r\n",
        "\r\n",
        "###################\r\n",
        "class Ball:\r\n",
        "  def __init__(self, x, y):\r\n",
        "    self.x = x\r\n",
        "    self.y = y\r\n",
        "\r\n",
        "  def get_loc(self):\r\n",
        "    return (self.x, self.y)\r\n",
        "  \r\n",
        "  def set_dest(self, xd, yd):\r\n",
        "    self.xd = xd\r\n",
        "    self.yd = yd\r\n",
        "  \r\n",
        "  def get_dest(self):\r\n",
        "    return (self.xd, self.yd)\r\n",
        "\r\n",
        "  def set_loc(self, x, y):\r\n",
        "    self.x = x\r\n",
        "    self.y = y\r\n",
        "\r\n",
        "\r\n",
        "'''\r\n",
        "1. Now, let's generate the field. Let's assume for now that the 6 players\r\n",
        "we have are facing themselves\r\n",
        "\r\n",
        "2.\r\n",
        "Court is 60 x 30 (x-coord by y-coord)\r\n",
        "Net is therefore at x = 30\r\n",
        "Half of court1: x = 15\r\n",
        "Half of court2: x = 45\r\n",
        "\r\n",
        "3. Let's find the best setter, and let them be the setters\r\n",
        "Then the best blocker be the middle. The rest can be random.\r\n",
        "\r\n",
        "The setter is easy - we set the best one to have success rate of 0.95\r\n",
        "'''\r\n",
        "\r\n",
        "best_setter = None\r\n",
        "best_middle = None\r\n",
        "block_rate = 0\r\n",
        "\r\n",
        "# Find setter first, since they cannpt be the middle too\r\n",
        "for player in player_skills:\r\n",
        "  skills = player_skills[player]\r\n",
        "\r\n",
        "  if skills['Set']['Success Rate'] == 0.95:\r\n",
        "    best_setter = player\r\n",
        "    break\r\n",
        "\r\n",
        "for player in player_skills:\r\n",
        "  skills = player_skills[player]\r\n",
        "  b = skills['Block']['Success Rate']\r\n",
        "\r\n",
        "  if b > block_rate and player != best_setter:\r\n",
        "    block_rate = b\r\n",
        "    best_middle = player\r\n",
        "\r\n",
        "# Now we can set up the system\r\n",
        "# Setter for team 1 (left side) starts at bottom right corner\r\n",
        "# thats at x = 15 + 15/2, y = 15 - 15/2\r\n",
        "# \r\n",
        "# Middle starts at front middle:\r\n",
        "# x = 15 + 15/2, y = 15\r\n",
        "\r\n",
        "Team1 = {\"setter\": Player(15+15/2, 15-15/2, player_skills[best_setter]),\r\n",
        "         \"middle\": Player(15+15/2, 15, player_skills[best_middle])}\r\n",
        "\r\n",
        "# Lets get 2 random outsides and opposites\r\n",
        "\r\n",
        "randoms = []  #first 2 = outside, next 1 = opposite, next 1 is other middle\r\n",
        "for player in player_skills:\r\n",
        "  if player != best_middle and player != best_setter:\r\n",
        "    randoms.append(player)\r\n",
        "\r\n",
        "Team1[\"outside\"] = Player(15+15/2, 15+15/2, player_skills[randoms[0]])\r\n",
        "Team1[\"outside2\"] = Player(15-15/2, 15-15/2, player_skills[randoms[1]])\r\n",
        "Team1[\"opposite\"] = Player(15-15/2, 15+15/2, player_skills[randoms[2]])\r\n",
        "Team1[\"middles2\"] = Player(15-15/2, 15, player_skills[randoms[3]])\r\n",
        "\r\n",
        "# Lets assume the second team is just like the first team too.\r\n",
        "\r\n",
        "Team2 = {\"setter\": Player(45-15/2, 15+15/2, player_skills[best_setter]),\r\n",
        "         \"middle\": Player(45-15/2, 15, player_skills[best_middle])}\r\n",
        "\r\n",
        "Team2[\"outside\"] = Player(45-15/2, 15-15/2, player_skills[randoms[0]])\r\n",
        "Team2[\"outside2\"] = Player(45+15/2, 15+15/2, player_skills[randoms[1]])\r\n",
        "Team2[\"opposite\"] = Player(45+15/2, 15-15/2, player_skills[randoms[2]])\r\n",
        "Team2[\"middles2\"] = Player(45+15/2, 15, player_skills[randoms[3]])\r\n",
        "\r\n",
        "# Now lets also make the ball. Let's have it start with outside2, hence\r\n",
        "# Team1 serves first. The serivce will happen just behind the bottom right \r\n",
        "# corner of their field\r\n",
        "\r\n",
        "volleyball = Ball(-1, 1)"
      ],
      "execution_count": null,
      "outputs": []
    },
    {
      "cell_type": "code",
      "metadata": {
        "id": "aO55h5lo7ofq"
      },
      "source": [
        "##### Now that we have all the variables set up, we shall define how all the\r\n",
        "##### functions will change the coordinates of the ball\r\n",
        "\r\n",
        "def serve(volleyball, player_skills, team):\r\n",
        "  # Lets see if successful serve\r\n",
        "  u = np.random.rand()\r\n",
        "  e = player_skills['Service']['Error Rate']\r\n",
        "  a = player_skills['Service']['Ace Rate']\r\n",
        "\r\n",
        "  if u <= e:\r\n",
        "    return 1; # 0 indicates fail\r\n",
        "  \r\n",
        "  if u > e and u <= a + e:\r\n",
        "    return 2; # 1 indicates ace\r\n",
        "  \r\n",
        "  # otherwise, successful serve\r\n",
        "  \r\n",
        "  if team == 1:\r\n",
        "    # Serving to team 2, so a random coordinate between their back-half\r\n",
        "    l, r = 45,60\r\n",
        "  elif team == 2:\r\n",
        "    # Serving to team 1...\r\n",
        "    l, r = 0,15\r\n",
        "  \r\n",
        "  # Assume a uniform serving destination\r\n",
        "  xd = np.random.uniform(l, r)\r\n",
        "  yd = np.random.uniform(0, 30)\r\n",
        "\r\n",
        "  volleyball.set_dest(xd, yd)\r\n",
        "  return 0\r\n",
        "\r\n",
        "##### Now we should do a pass (or dig, since python issue with word pass)\r\n",
        "\r\n",
        "def dig(volleyball, player_skills, team):\r\n",
        "  \r\n",
        "  # Lets see if successful serve\r\n",
        "  u = np.random.rand()\r\n",
        "  e = player_skills['Pass']['Error Rate']\r\n",
        "\r\n",
        "  if u <= e:\r\n",
        "    return 1; # 0 indicates fail\r\n",
        "  \r\n",
        "  # otherwise, successful pass\r\n",
        "  \r\n",
        "  if team == 1:\r\n",
        "    # Pass to setter\r\n",
        "    volleyball.set_dest(15+15/2, 15-15/2)\r\n",
        "  elif team == 2:\r\n",
        "    volleyball.set_dest(45-15/2, 15+15/2)\r\n",
        "\r\n",
        "  return 0\r\n",
        "\r\n",
        "\r\n",
        "#### Set\r\n",
        "\r\n",
        "def set(volleyball, player_skills, team):\r\n",
        "  # Lets see if successful serve\r\n",
        "  u = np.random.rand()\r\n",
        "  e = player_skills['Set']['Error Rate']\r\n",
        "\r\n",
        "  if u <= e:\r\n",
        "    return 1, None; # 0 indicates fail\r\n",
        "  \r\n",
        "  # otherwise, successful set\r\n",
        "  \r\n",
        "  # set to a random hitter\r\n",
        "  u = np.random.randint(1, 3)\r\n",
        "\r\n",
        "  if team == 1:\r\n",
        "    if u == 1: #to middle\r\n",
        "      volleyball.set_dest(15+15/2, 15)\r\n",
        "      hitter = \"middle\"\r\n",
        "    else: #to outside\r\n",
        "      volleyball.set_dest(15+15/2, 15+15/2)\r\n",
        "      hitter = \"outside\"\r\n",
        "    \r\n",
        "\r\n",
        "  elif team == 2:\r\n",
        "\r\n",
        "    if u == 1: #to middle\r\n",
        "      volleyball.set_dest(45-15/2, 15)\r\n",
        "      hitter = \"middle\"\r\n",
        "    else:\r\n",
        "      volleyball.set_dest(45-15/2, 15-15/2)\r\n",
        "      hitter = \"outside\"\r\n",
        "\r\n",
        "\r\n",
        "  return 0, hitter\r\n",
        "\r\n",
        "\r\n",
        "#### Attack\r\n",
        "\r\n",
        "def attack(volleyball, player_skills, team):\r\n",
        "  # Lets see if successful serve\r\n",
        "  u = np.random.rand()\r\n",
        "  e = player_skills['Attack']['Error Rate']\r\n",
        "  k = player_skills['Attack']['Kill Rate']\r\n",
        "\r\n",
        "  if u <= e:\r\n",
        "    return 1; # 1 indicates fail\r\n",
        "  \r\n",
        "  elif u > e and u <= e + k:\r\n",
        "    return 2; # Indicates a kill - no chance for opponents to respond\r\n",
        "\r\n",
        "  # otherwise, success\r\n",
        "  \r\n",
        "  # hit to a random location on opposite side\r\n",
        "  \r\n",
        "  if team == 1:\r\n",
        "    l, r = 30, 60\r\n",
        "  elif team == 2:\r\n",
        "    l, r = 0, 30\r\n",
        "  \r\n",
        "  xd = np.random.uniform(l, r)\r\n",
        "  yd = np.random.uniform(0, 30)\r\n",
        "  volleyball.set_dest(xd, yd)\r\n",
        "\r\n",
        "  return 0\r\n",
        "\r\n",
        "#### Block\r\n",
        "def block(volleyball, player_skills):\r\n",
        "  \r\n",
        "  # Lets see if successful serve\r\n",
        "  u = np.random.rand()\r\n",
        "  e = player_skills['Block']['Error Rate']\r\n",
        "  a = player_skills['Block']['Assist Rate']\r\n",
        "\r\n",
        "  if u <= e:\r\n",
        "    return 1; # 1 indicates fail\r\n",
        "  \r\n",
        "  elif u > e and u <= e + a:\r\n",
        "    return 2; # Indicates an assist - block did nothing\r\n",
        "  \r\n",
        "  else:\r\n",
        "    return 0; # Indicates successful block"
      ],
      "execution_count": null,
      "outputs": []
    },
    {
      "cell_type": "code",
      "metadata": {
        "id": "_dZAkyujEl0S",
        "colab": {
          "base_uri": "https://localhost:8080/"
        },
        "outputId": "3a87da1e-1028-4e19-d70e-af5452b09a99"
      },
      "source": [
        "### Now we can simulate one round\r\n",
        "def sim_round(volleyball, team1, team2, score, serving_team):\r\n",
        "  \r\n",
        "  teams = [team1, team2]\r\n",
        "  \r\n",
        "  i = serving_team\r\n",
        "  team = teams[i-1]\r\n",
        "  op_team = 1 + i%2\r\n",
        "\r\n",
        "  serv_res = serve(volleyball, team[\"outside2\"].skills, serving_team)\r\n",
        "\r\n",
        "  if serv_res == 2: #ace\r\n",
        "    score[serving_team] += 1\r\n",
        "    return\r\n",
        "\r\n",
        "  elif serv_res == 1: #fail\r\n",
        "    score[op_team] += 1 #Note, this is actually opposing team\r\n",
        "    return \r\n",
        "\r\n",
        "  # Else, serve succeeds. Proceed to loop\r\n",
        "\r\n",
        "  hitter = None\r\n",
        "\r\n",
        "  while (True):\r\n",
        "      i = 1 + i%2\r\n",
        "      team = teams[i-1]\r\n",
        "      op_team = 1 + i%2\r\n",
        "\r\n",
        "      # Block only if not just served. This is reflected by if there was a hitter.\r\n",
        "      # The same 'hitter' on the opposing team will block the hitter.\r\n",
        "      if hitter != None:\r\n",
        "\r\n",
        "        block_res = block(volleyball, team[hitter].skills)\r\n",
        "        if block_res == 1:\r\n",
        "          score[op_team] += 1\r\n",
        "          return\r\n",
        "        elif block_res == 0:\r\n",
        "          score[i] += 1\r\n",
        "          return\r\n",
        "        \r\n",
        "      interceptor = intercept(volleyball, team, True)\r\n",
        "\r\n",
        "      if interceptor == None:\r\n",
        "        score[op_team] += 1\r\n",
        "        return \r\n",
        "      \r\n",
        "      # Otherwise, there is an interceptor\r\n",
        "      ix, iy = team[interceptor].get_loc()\r\n",
        "      volleyball.set_loc(ix, iy)\r\n",
        "\r\n",
        "      dig_res = dig(volleyball, team[interceptor].skills, i)\r\n",
        "      \r\n",
        "      if dig_res == 1:\r\n",
        "        score[op_team] += 1\r\n",
        "        return\r\n",
        "      \r\n",
        "      # Dig success. So set the volleyball location to its destination\r\n",
        "      x, y = volleyball.get_dest()\r\n",
        "      volleyball.set_loc(x, y)\r\n",
        "\r\n",
        "      set_res, hitter = set(volleyball, team[\"setter\"].skills, i)\r\n",
        "\r\n",
        "      if set_res == 1:\r\n",
        "        score[op_team] += 1\r\n",
        "        return\r\n",
        "\r\n",
        "      # Set success. So set the volleyball location to its destination\r\n",
        "      x, y = volleyball.get_dest()\r\n",
        "      volleyball.set_loc(x, y)\r\n",
        "\r\n",
        "      atk_res = attack(volleyball, team[hitter].skills, i)\r\n",
        "\r\n",
        "      if atk_res == 1:\r\n",
        "        score[op_team] += 1\r\n",
        "        return\r\n",
        "      \r\n",
        "      elif atk_res == 2:\r\n",
        "        score[i] +=1\r\n",
        "        return \r\n",
        "      \r\n",
        "      # Else, attack succeeds and isn't a kill, so continue to the block for\r\n",
        "      # the next team\r\n",
        "\r\n",
        "\r\n",
        "\r\n",
        "def intercept(volleyball, players, serve_flag):\r\n",
        "\r\n",
        "  x0, y0 = volleyball.get_loc()\r\n",
        "  xd, yd = volleyball.get_dest()\r\n",
        "\r\n",
        "  # We can figure out the closest person\r\n",
        "  # along the trajectory. This is simple geometry/projections\r\n",
        "\r\n",
        "  x1 = np.array([x0, y0])\r\n",
        "  x2 = np.array([xd, yd])\r\n",
        "  \r\n",
        "  closest_d = 4 # Any one closer\r\n",
        "  closest_p = None\r\n",
        "\r\n",
        "  for player in players:\r\n",
        "\r\n",
        "    # We ignore the front players\r\n",
        "    if serve_flag and player == \"setter\" or player == \"middle\" or player == \"outside\":\r\n",
        "      continue\r\n",
        "\r\n",
        "    px, py = players[player].get_loc()\r\n",
        "    p = np.array([px, py])\r\n",
        "\r\n",
        "    # projection formula\r\n",
        "    d = np.linalg.norm( np.cross((x2-x1), (x1-p)) ) / np.linalg.norm(x2-x1)\r\n",
        "\r\n",
        "    if d <= closest_d:\r\n",
        "      closest_d = d\r\n",
        "      closest_p = player\r\n",
        "\r\n",
        "  return closest_p\r\n",
        "    \r\n",
        "\r\n",
        "\r\n",
        "# Example  \r\n",
        "score = {1:0, 2:0}\r\n",
        "\r\n",
        "sim_round(volleyball, Team1, Team2, score, 1)\r\n",
        "print(score)"
      ],
      "execution_count": null,
      "outputs": [
        {
          "output_type": "stream",
          "text": [
            "{1: 1, 2: 0}\n"
          ],
          "name": "stdout"
        }
      ]
    },
    {
      "cell_type": "code",
      "metadata": {
        "colab": {
          "base_uri": "https://localhost:8080/"
        },
        "id": "7R4t22TItOPr",
        "outputId": "4630e541-8a75-4bd1-f854-b838d164bda1"
      },
      "source": [
        "# Now, lets simulate a game till 25 points, and see which team wins!\r\n",
        "\r\n",
        "def simulate_game(volleyball, team1, team2, score, starting_team):\r\n",
        "  s1 = score[1]\r\n",
        "  s2 = score[2]\r\n",
        "  i = starting_team\r\n",
        "  while (not s1 == 25 and not s2 == 25):\r\n",
        "    sim_round(volleyball, team1, team2, score, i)\r\n",
        "    i = 1 + i%2\r\n",
        "    s1 = score[1]\r\n",
        "    s2 = score[2]\r\n",
        "\r\n",
        "score = {1:0, 2:0}\r\n",
        "simulate_game(volleyball, Team1, Team2, score, 1)\r\n",
        "print(score)"
      ],
      "execution_count": null,
      "outputs": [
        {
          "output_type": "stream",
          "text": [
            "{1: 12, 2: 25}\n"
          ],
          "name": "stdout"
        }
      ]
    },
    {
      "cell_type": "markdown",
      "metadata": {
        "id": "XyfDWJ8Nurb-"
      },
      "source": [
        "You may simulate the game many times now and see distributions of the score for your team! This will allow you to make optimal decisions. \r\n",
        "\r\n",
        "Below, we have another implementation and that one will also take the next step of optimizing."
      ]
    }
  ]
}