{
  "nbformat": 4,
  "nbformat_minor": 0,
  "metadata": {
    "colab": {
      "name": "Ziyang Zhang - Final Exam (IEOR 4404 Fall 2020).ipynb",
      "provenance": [],
      "collapsed_sections": [],
      "toc_visible": true
    },
    "kernelspec": {
      "name": "python3",
      "display_name": "Python 3"
    }
  },
  "cells": [
    {
      "cell_type": "markdown",
      "metadata": {
        "id": "4s5izpSul0F9"
      },
      "source": [
        "# **IEOR 4404  Simulation (Fall 2020)**\n",
        "\n",
        "**Final Exam  [Total points: 120 Points]**\n",
        "\n",
        "\n",
        "**Due 11:59 PM EST, December 22**\n",
        "\n",
        "The steps to finish the exam:\n",
        "\n",
        "*   Step 1: Answer all questions on Google Colab.\n",
        "*   Step 2: Submit the copy on Google Assignments.\n",
        "\n",
        "Before you submit your assignment, make sure to re-run your code from the beginning. (You can do so by first clicking Runtime/Reset All Runtimes and then clicking Runtime/Run all)\n",
        "\n",
        "## Academic Honesty\n",
        "  \n",
        "###<font color=\"red\"> 1. Your submission will run under a plagiarism checker.\n",
        " \n",
        "###<font color=\"red\"> 2. Any communication/collaboration during the exam is strictly prohibited.\n",
        "  \n",
        "###<font color=\"red\">3. Receiving help from anyone or offering help to anyone during the exam will result in an \"F\" from the course and possible expulsion."
      ]
    },
    {
      "cell_type": "code",
      "metadata": {
        "id": "f3BPfGhTQSbE"
      },
      "source": [
        "                                                                                                                                                                                                                                                                                                                                                                                                                                                                                                                                                                                                                                                                                                                                                                                                                                                                                                                                                                                                                                                                                                                                                                                                                                                                                                                                                                                                                                                                                                                                                                                                                                                                                                                                                                                                                                                                                                                                                                                                                                                                                                                                                                                                                                                                                                                                                                                                                                                                                                                                                                                                                                                                                                                                                                                                                                                                                                                                                                                                                                                                                                                                                                                                                                                                                                                                                                                                                                                                                                                                                                                                                                                                                                                                                                                                                                                                                                                                                                                                                                                                                                                                                                                                                                                                                                                                                                                                                                                                                                                                                                                                                                                                                                                                                                                                                                                                                                                                                                                                                                                                                                                                                                                                                                                                                                                                                                                                                                                                                                                                                                                                                                                                                                                                                                                                                                                                                                                                                                                                                                                                                                                                                                                                                                                                                                                                                                                                                                                                                                                                                                                                                                                                                                                                                                                                                                                                                                                                                                                                                                                                                                                                                                                                                                                                                                                                                                                                                                                                                                                                                                                                                                                                                                                                                                                                                                                                                                                                                                                                                                                                                                                                                                                                                                                                                                                                                                                                                                                                                                                                                                                                                                                                                                                                                                                                                                                                                                                                                                                                                                                                                                                                                                                                                                                                                                                                                                                                                                                                                                                                                                                                                                                                                                                                                                                                                                                                                                                                                                                                                                                                                                                                                                                                                                                                                                                                                                                                                                                                                                                                                                                                                                                                                                                                                                                                                                                                                                                                                                                                                                                                                                                                                                                                                                                                                                                                                                                                                                                                                                                                                                                                                                                                                                                                                                                                                                                                                                                                                                                                                                                                                                                                                                                                                                                                                                                                                                                                                                                                                                                                                                                                                                                                                                                                                                                                                                                                                                                                                                                                                                                                                                                                                                                                                                                                                                                                                                                                                                                                                                                                                                                                                                                                                                                                                                                                                                                                                                                                                                                                                                                                                                                                                                                                                                                                                                                                                                                                                                                                                                                                                                                                                                                                                                                                                                                                                                                                                                                                                                                                                                                                                                                                                                                                                                                                                                                                                                                                                                                                                                                                                                                                                                                                                                                                                                                                                                                                                                                                                                                                                                                                                                                                                                                                                                                                                                                                                                                                                                                                                                                                                                                                                                                                                                                                                                                                                                                                                                                                                                                                                                                                                                                                                                                                                                                                                                                                                                                                                                                                                                                                                                                                                                                                                                                                                                                                                                                                                                                                                                                                                                                                                                                                                                                                                                                                                                                                                                                                                                                                                                                                                                                                                                                                                                                                                                                                                                                                                                                                                                                                                                                                                                                                                                                                                                                                                                                                                                                                                                                                                                                                                                                                                                                                                                                                                                                                                                                                                                                                                                                                                                                                                                                                                                                                                                                                                                                                                                                                                                                                                                                                                                                                                                                                                                                                                                                                                                                                                                                                                                                                                                                                                                                                                                                                                                                                                                                                                                                                                                                                                                                                                                                                                                                                                                                                                                                                                                                                                                                                                                                                                                                                                                                                                                                                                                                                                                                                                                                                                                                                                                                                                                                                                                                                                                                                                                                                                                                                                                                                                                                                                                                                                                                                                                                                                                                                                                                                                                                                                                                                                                                                                                                                                                                                                                                                                                                                                                                                                                                                                                                                                                                                                                                                                                                                                                                                                                                                                                                                                                                                                                                                                                                                                                                                                                                                                                                                                                                                                                                                                                                                                                                                                                                                                                                                                                                                                                                                                                                                                                                                                                                                                                                                                                                                                                                                                                                                                                                                                                                                                                                                                                                                                                                                                                                                                                                                                                                                                                                                                                                                                                                                                                                                                                                                                                                                                                                                                                                                                                                                                                                                                                                                                                                                                                                                                                                                                                                                                                                                                                                                                                                                                                                                                                                                                                                                                                                                                                                                                                                                                                                                                                                                                                                                                                                                                                                                                                                                                                                                                                                                                                                                                                                                                                                                                                                                                                                                                                                                                                                                                                                                                                                                                                                                                                                                                                                                                                                                                                                                                                                                                                                                                                                                                                                                                                                                                                                                                                                                                                                                                                                                                                                                                                                                                                                                                                                                                                                                                                                                                                                                                                                                                                                                                                                                                                                                                                                                                                                                                                                                                                                                                                                                                                                                                                                                                                                                                                                                                                                                                                                                                                                                                                                                                                                                                                                                                                                                                                                                                                                                                                                                                                                                                                                                                                                                                                                                                                                                                                                                                                                                                                                                                                                                                                                                                                                                                                                                                                                                                                                                                                                                                                                                                                                                                                                                                                                                                                                                                                                                                                                                                                                                                                                                                                                                                                                                                                                                                                                                                                                                                                                                                                                                                                                                                                                                                                                                                                                                                                                                                                                                                                                                                                                                                                                                                                                                                                                                                                                                                                                                                                                                                                                                                                                                                                                                                                                                                                                                                                                                                                                                                                                                                                                                                                                                                                                                                                                                                                                                                                                                                                                                                                                                                                                                                                                                                                                                                                                                                                                                                                                                                                                                                                                                                                                                                                                                                                                                                                                                                                                                                                                                                                                                                                                                                                                                                                                                                                                                                                                                                                                                                                                                                                                                                                                                                                                                                                                                                                                                                                                                                                                                                                                                                                                                                                                                                                                                                                                                                                                                                                                                                                                                                                                                                                                                                                                                                                                                                                                                                                                                                                                                                                                                                                                                                                                                                                                                                                                                                                                                                                                                                                                                                                                                                                                                                                                                                                                                                                                                                                                                                                                                                                                                                                                                                                                                                                                                                                                                                                                                                                                                                                                                                                                                                                                                                                                                                                                                                                                                                                                                                                                                                                                                                                                                                                                                                                                                                                                                                                                                                                                                                                                                                                                                                                                                                                                                                                                                                                                                                                                                                                                                                                                                                                                                                                                                                                                                                                                                                                                                                                                                                                                                                                                                                                                                                                                                                                                                                                                                                                                                                                                                                                                                                                                                                                                                                                                                                                                                                                                                                                                                                                                                                                                                                                                                                                                                                                                                                                                                                                                                                                                                                                                                                                                                                                                                                                                                                                                                                                                                                                                                                                                                                                                                                                                                                                                                                                                                                                                                                                                                                                                                                                                                                                                                                                                                                                                                                                                                                                                                                                                                                                                                                                                                                                                                                                                                                                                                                                                                                                                                                                                                                                                                                                                                                                                                                                                                                                                                                                                                                                                                                                                                                                                                                                                                                                                                                                                                                                                                                                                                                                                                                                                                                                                                                                                                                                                                                                                                                                                                                                                                                                                                                                                                                                                                                                                                                                                                                                                                                                                                                                                                                                                                                                                                                                                                                                                                                                                                                                                                                                                                                                                                                                                                                                                                                                                                                                                                                                                                                                                                                                                                                                                                                                                                                                                                                                                                                                                                                                                                                                                                                                                                                                                                                                                                                                                                                                                                                                                                                                                                                                                                                                                                                                                                                                                                                                                                                                                                                                                                                                                                                                                                                                                                                                                                                                                                                                                                                                                                                                                                                                                                                                                                                                                                                                                                                                                                                                                                                                                                                                                                                                                                                                                                                                                                                                                                                                                                                                                                                                                                                                                                                                                                                                                                                                                                                                                                                                                                                                                                                                                                                                                                                                                                                                                                                                                                                                                                                                                                                                                                                                                                                                                                                                                                                                                                                                                                                                                                                                                                                                                                                                                                                                                                                                                                                                                                                                                                                                                                                                                                                                                                                                                                                                                                                                                                                                                                                                                                                                                                                                                                                                                                                                                                                                                                                                                                                                                                                                                                                                                                                                                                                                                                                                                                                                                                                                                                                                                                                                                                                                                                                                                                                                                                                                                                                                                                                                                                                                                                                                                                                                                                                                                                                                                                                                                                                                                                                                                                                                                                                                                                                                                                                                                                                                                                                                                                                                                                                                                                                                                                                                                                                                                                                                                                                                                                                                                                                                                                                                                                                                                                                                                                                                                                                                                                                                                                                                                                                                                                                                                                                                                                                                                                                                                                                                                                                                                                                                                                                                                                                                                                                                                                                                                                                                                                                                                                                                                                                                                                                                                                                                                                                                                                                                                                                                                                                                                                                                                                                                                                                                                                                                                                                                                                                                                                                                                                                                                                                                                                                                                                                                                                                                                                                                                                                                                                                                                                                                                                                                                                                                                                                                                                                                                                                                                                                                                                                                                                                                                                                                                                                                                                                                                                                                                                                                                                                                                                                                                                                                                                                                                                                                                                                                                                                                                                                                                                                                                                                                                                                                                                                                                                                                                                                                                                                                                                                                                                                                                                                                                                                                                                                                                                                                                                                                                                                                                                                                                                                                                                                                                                                                                                                                                                                                                                                                                                                                                                                                                                                                                                                                                                                                                                                                                                                                                                                                                                                                                                                                                                                                                                                                                                                                                                                                                                                                                                                                                                                                                                                                                                                                                                                                                                                                                                                                                                                                                                                                                                                                                                                                                                                                                                                                                                                                                                                                                                                                                                                                                                                                                                                                                                                                                                                                                                                                                                                                                                                                                                                                                                                                                                                                                                                                                                                                                                                                                                                                                                                                                                                                                                                                                                                                                                                                                                                                                                                                                                                                                                                                                                                                                                                                                                                                                                                                                                                                                                                                                                                                                                                                                                                                                                                                                                                                                                                                                                                                                                                                                                                                                                                                                                                                                                                                                                                                                                                                                                                                                                                                                                                                                                                                                                                                                                                                                                                                                                                                                                                                                                                                                                                                                                                                                                                                                                                                                                                                                                                                                                                                                                                                                                                                                                                                                                                                                                                                                                                                                                                                                                                                                                                                                                                                                                                                                                                                                                                                                                                                                                                                                                                                                                                                                                                                                                                                                                                                                                                                                                                                                                                                                                                                                                                                                                                                                                                                                                                                                                                                                                                                                                                                                                                                                                                                                                                                                                                                                                                                                                                                                                                                                                                                                                                                                                                                                                                                                                                                                                                                                                                                                                                                                                                                                                                                                                                                                                                                                                                                                                                                                                                                                                                                                                                                                                                                                                                                                                                                                                                                                                                                                                                                                                                                                                                                                                                                                                                                                                                                                                                                                                                                                                                                                                                                                                                                                                                                                                                                                                                                                                                                                                                                                                                                                                                                                                                                                                                                                                                                                                                                                                                                                                                                                                                                                                                                                                                                                                                                                                                                                                                                                                                                                                                                                                                                                                                                                                                                                                                                                                                                                                                                                                                                                                                                                                                                                                                                                                                                                                                                                                                                                                                                                                                                                                                                                                                                                                                                                                                                                                                                                                                                                                                                                                                                                                                                                                                                                                                                                                                                                                                                                                                                                                                                                                                                                                                                                                                                                                                                                                                                                                                                                                                                                                                                                                                                                                                                                                                                                                                                                                                                                                                                                                                                                                                                                                                                                                                                                                                                                                                                                                                                                                                                                                                                                                                                                                                                                                                                                                                                                                                                                                                                                                                                                                                                                                                                                                                                                                                                                                                                                                                                                                                                                                                                                                                                                                                                                                                                                                                                                                                                                                                                                                                                                                                                                                                                                                                                                                                                                                                                                                                                                                                                                                                                                                                                                                                                                                                                                                                                                                                                                                                                                                                                                                                                                                                                                                                                                                                                                                                                                                                                                                                                                                                                                                                                                                                                                                                                                                                                                                                                                                                                                                                                                                                                                                                                                                                                                                                                                                                                                                                                                                                                                                                                                                                                                                                                                                                                                                                                                                                                                                                                                                                                                                                                                                                                                                                                                                                                                                                                                                                                                                                                                                                                                                                                                                                                                                                                                                                                                                                                                                                                                                                                                                                                                                                                                                                                                                                                                                                                                                                                                                                                                                                                                                                                                                                                                                                                                                                                                                                                                                                                                                                                                                                                                                                                                                                                                                                                                                                                                                                                                                                                                                                                                                                                                                                                                                                                                                                                                                                                                                                                                                                                                                                                                                                                                                                                                                                                                                                                                                                                                                                                                                                                                                                                                                                                                                                                                                                                                                                                                                                                                                                                                                                                                                                                                                                                                                                                                                                                                                                                                                                                                                                                                                                                                                                                                                                                                                                                                                                                                                                                                                                                                                                                                                                                                                                                                                                                                                                                                                                                                                                                                                                                                                                                                                                                                                                                                                                                                                                                                                                                                                                                                                                                                                                                                                                                                                                                                                                                                                                                                                                                                                                                                                                                                                                                                                                                                                                                                                                                                                                                                                                                                                                                                                                                                                                                                                                                                                                                                                                                                                                                                                                                                                                                                                                                                                                                                                                                                                                                                                                                                                                                                                                                                                                                                                                                                                                                                                                                                                                                                                                                                                                                                                                                                                                                                                                                                                                                                                                                                                                                                                                                                                                                                                                                                                                                                                                                                                                                                                                                                                                                                                                                                                                                                                                                                                                                                                                                                                                                                                                                                                                                                                                                                                                                                                                                                                                                                                                                                                                                                                                                                                                                                                                                                                                                                                                                                                                                                                                                                                                                                                                                                                                                                                                                                                                                                                                                                                                                                                                                                                                                                                                                                                                                                                                                                                                                                                                                                                                                                                                                                                                                                                                                                                                                                                                                                                                                                                                                                                                                                                                                                                                                                                                                                                                                                                                                                                                                                                                                                                                                                                                                                                                                                                                                                                                                                                                                                                                                                                                                                                                                                                                                                                                                                                                                                                                                                                                                                                                                                                                                                                                                                                                                                                                                                                                                                                                                                                                                                                                                                                                                                                                                                                                                                                                                                                                                                                                                                                                                                                                                                                                                                                                                                                                                                                                                                                                                                                                                                                                                                                                                                                                                                                                                                                                                                                                                                                                                                                                                                                                                                                                                                                                                                                                                                                                                                                                                                                                                                                                                                                                                                                                                                                                                                                                                                                                                                                                                                                                                                                                                                                                                                                                                                                                                                                                                                                                                                                                                                                                                                                                                                                                                                                                                                                                                                                                                                                                                                                                                                                                                                                                                                                                                                                                                                                                                                                                                                                                                                                                                                                                                                                                                                                                                                                                                                                                                                                                                                                                                                                                                                                                                                                                                                                                                                                                                                                                                                                                                                                                                                                                                                                                                                                                                                                                                                                                                                                                                                                                                                                                                                                                                                                                                                                                                                                                                                                                                                                                                                                                                                                                                                                                                                                                                                                                                                                                                                                                                                                                                                                                                                                                                                                                                                                                                                                                                                                                                                                                                                                                                                                                                                                                                                                                                                                                                                                                                                                                                                                                                                                                                                                                                                                                                                                                                                                                                                                                                                                                                                                                                                                                                                                                                                                                                                                                                                                                                                                                                                                                                                                                                                                                                                                                                                                                                                                                                                                                                                                                                                                                                                                                                                                                                                                                                                                                                                                                                                                                                                                                                                                                                                                                                                                                                                                                                                                                                                                                                                                                                                                                                                                                                                                                                                                                                                                                                                                                                                                                                                                                                                                                                                                                                                                                                                                                                                                                                                                                                                                                                                                                                                                                                                                                                                                                                                                                                                                                                                              #Your Name:\n",
        "#Your UNI: zz2732"
      ],
      "execution_count": null,
      "outputs": []
    },
    {
      "cell_type": "code",
      "metadata": {
        "id": "x4lR3IqNGLmD",
        "colab": {
          "base_uri": "https://localhost:8080/"
        },
        "outputId": "234a4802-b419-4601-cc62-500147db975d"
      },
      "source": [
        "#This imports all the packages you need for the homework\n",
        "#Please run this first\n",
        "import numpy as np\n",
        "\n",
        "\n",
        "import scipy.special as spsp\n",
        "import scipy.stats as spst\n",
        "\n",
        "import matplotlib.pyplot as plt\n",
        "\n",
        "%matplotlib inline\n",
        "\n",
        "import sympy\n",
        "\n",
        "!pip install simpy\n",
        "import simpy\n",
        "\n",
        "import copy\n"
      ],
      "execution_count": null,
      "outputs": [
        {
          "output_type": "stream",
          "text": [
            "Requirement already satisfied: simpy in /usr/local/lib/python3.6/dist-packages (4.0.1)\n"
          ],
          "name": "stdout"
        }
      ]
    },
    {
      "cell_type": "markdown",
      "metadata": {
        "id": "P6sagsMUDLVL"
      },
      "source": [
        "#Exercise 1 [36 Points]\r\n",
        "\r\n",
        "Assume two discrete variables $X$ and $Y$ both with support between $0$ and $\\infty$.\r\n",
        "\r\n",
        "It can be derived that the PMF of variable $Z=X+Y$ is as follows: \r\n",
        "\r\n",
        "$$PMF_Z(z)=\\sum_{x=0}^z PMF_{X}(x)PMF_{Y}(z-x) $$\r\n",
        "\r\n",
        "\r\n",
        "Throughout this exercise, let's assume\r\n",
        "\r\n",
        "* X~ Poisson Distribution\r\n",
        "\r\n",
        "$$PMF_{X}(x)=\\frac{exp(-\\lambda)\\lambda^x}{x!}, x=0, 1, 2,\\dots$$\r\n",
        "* Y~ Geometric Distribution\r\n",
        "$$PMF_{Y}(y)=(1-p)^y p, y=0, 1, 2, \\dots$$\r\n",
        "\r\n",
        "$\\lambda=5$ and $p=0.2$\r\n",
        "\r\n"
      ]
    },
    {
      "cell_type": "markdown",
      "metadata": {
        "id": "ARDInFHTeGoE"
      },
      "source": [
        "## Q1. [8 Points]\r\n",
        "\r\n",
        "\r\n",
        "* Construct a function that returns $PMF(z)$. Inside the function, no loops are allowed. \r\n",
        "* Generate 1000 samples from $Z$ distribution based on sampling from $X$ and $Y$. [You can use any `NumPy` functions to generate samples from Poisson and Geometric distribution]\r\n",
        "* In the same graph, plot the sample distribution of 1000 samples and the theoretical distribution of $Z$ variable."
      ]
    },
    {
      "cell_type": "code",
      "metadata": {
        "colab": {
          "base_uri": "https://localhost:8080/"
        },
        "id": "f4JLiLGT6Ws7",
        "outputId": "a78760ec-c75a-42eb-9f26-1a3f496f8b02"
      },
      "source": [
        "# Construct a function that returns 𝑃𝑀𝐹(𝑧)\n",
        "def pmf_z(z):\n",
        "  lmbda=5\n",
        "  p=0.2\n",
        "  x=np.arange(z+1)\n",
        "  y=z-x\n",
        "  pmf_x=np.exp(-lmbda)*(lmbda)**x/spsp.factorial(x)\n",
        "  pmf_y=(1-p)**y*p\n",
        "  v=pmf_x*pmf_y\n",
        "  return np.sum(v)\n",
        "\n",
        "# Test with z=10\n",
        "pmf_z(10)"
      ],
      "execution_count": null,
      "outputs": [
        {
          "output_type": "execute_result",
          "data": {
            "text/plain": [
              "0.07092019473516056"
            ]
          },
          "metadata": {
            "tags": []
          },
          "execution_count": 3
        }
      ]
    },
    {
      "cell_type": "code",
      "metadata": {
        "colab": {
          "base_uri": "https://localhost:8080/"
        },
        "id": "z63MH9th658-",
        "outputId": "0b9eeb81-40e3-40a6-8977-4664c92b18a7"
      },
      "source": [
        "# Generate 1000 samples from Z distribution\n",
        "X=np.random.poisson(5,1000)      # X follows a Poisson Dist. with lambda=5\n",
        "Y=np.random.geometric(0.2,1000)  # Y follows a Geometric Dist. with p=0.2\n",
        "Z=X+Y\n",
        "Z"
      ],
      "execution_count": null,
      "outputs": [
        {
          "output_type": "execute_result",
          "data": {
            "text/plain": [
              "array([ 7, 10, 13,  9, 13, 15,  9, 12, 17,  8, 11,  5, 15,  8,  8,  9,  9,\n",
              "       12,  8, 12,  8, 19, 19,  8,  9,  6,  8, 15,  6, 12, 24,  6, 14,  3,\n",
              "        8,  7, 13,  6,  6, 10,  9,  8,  4, 12, 15, 11,  6,  9, 12,  8,  7,\n",
              "        7, 25, 17,  7, 10,  7,  7, 22,  9, 10, 10,  8,  6, 11, 18, 15,  8,\n",
              "       10,  7,  9,  5, 10, 19,  8, 14,  9,  8, 12,  7,  9, 16, 23,  6, 15,\n",
              "       14, 18, 13, 12, 14,  7,  8,  4,  6,  6, 18,  8,  7,  4,  6,  2,  8,\n",
              "       11,  9,  5,  7,  9,  9,  7,  9,  5,  7,  3, 18,  8,  5,  3,  7,  5,\n",
              "        9, 10,  6, 16, 12,  9, 12, 22,  6, 12, 17,  8, 10, 20, 21,  7, 14,\n",
              "        4,  5,  7, 20,  7,  9,  6, 12, 12, 15,  8, 18,  8, 18, 12, 10,  6,\n",
              "       14, 10,  7,  5,  4,  9, 12, 10, 10, 11,  9,  4,  6,  6, 11,  4,  9,\n",
              "       12, 10,  9,  2,  5,  7, 41, 14,  8,  6,  9, 11, 12,  7, 15, 10,  4,\n",
              "       16, 11,  9, 10, 11, 10,  9,  7, 13, 15,  6, 11,  8,  8,  6, 13,  7,\n",
              "        3,  9,  3,  7,  9,  7, 16,  9, 11,  9, 11, 12,  6,  7,  4,  4,  4,\n",
              "       10, 11, 12,  6, 12,  8, 15, 10,  5,  9, 10,  6,  4,  8, 11,  9,  9,\n",
              "       11,  7,  8, 17, 18,  5,  7,  7, 10,  6,  6,  5,  7,  6, 21, 10,  8,\n",
              "       16,  8,  5, 10,  7, 21,  5, 11, 10, 16,  8,  7,  8, 12,  8,  6,  3,\n",
              "       11,  4,  4, 11,  3,  7, 10, 11,  3,  7,  7, 14, 23, 10, 19,  3,  3,\n",
              "       18, 11, 10, 11, 10, 19, 23, 14, 15, 11, 17,  6, 19,  3,  5,  3,  3,\n",
              "       10, 24, 15,  7,  8, 13, 16,  7,  5,  9, 14,  4, 10,  9,  5,  2,  7,\n",
              "        4, 10, 14,  6,  4,  5,  5,  8,  9, 18, 14,  8, 17,  8, 14, 11,  7,\n",
              "       11,  7, 12,  9,  9, 19,  3, 17, 11, 16, 15, 13,  8, 16,  4, 11,  7,\n",
              "        9, 19, 15, 22, 13,  9,  5,  9,  8,  9, 14,  7, 23, 10, 16, 10,  8,\n",
              "        8,  8, 16, 10,  8,  5, 10,  4, 12,  5, 16,  7, 11,  8, 13,  8,  8,\n",
              "        5,  9,  1, 11, 13, 30, 13,  5, 10,  9, 15, 24, 17,  8,  8, 11, 12,\n",
              "        5, 15,  7,  9,  7, 12, 15,  8,  6, 11,  6, 11,  6,  3,  8,  7,  9,\n",
              "       20,  8,  6, 12, 12, 11,  4,  9, 17,  8,  8,  5,  6,  7, 11,  7, 11,\n",
              "        9, 12,  7, 10,  5,  5,  9, 22, 14, 14,  6, 10, 15, 20, 12,  7, 10,\n",
              "       14, 10,  6,  7,  6, 21,  3, 27,  9, 14,  6,  9, 12,  9, 11, 11,  8,\n",
              "       10, 20, 11, 11, 10, 27, 14,  8,  5, 12,  4,  7,  6,  4,  6, 20, 16,\n",
              "       10, 11,  4,  6, 21,  5, 10,  4,  8,  9, 12, 11, 10,  8, 18,  7,  5,\n",
              "       11, 11,  8, 13, 12,  7,  4, 15,  9, 11, 13,  5, 10,  6, 13, 12,  8,\n",
              "        5, 17, 10, 15, 10,  4,  5, 14,  7,  9,  7, 13,  5,  7,  7,  8,  6,\n",
              "       20, 19,  7,  5, 12,  7, 16, 16, 10, 18, 10,  9, 16, 13,  6, 11,  9,\n",
              "       23,  6,  6,  9, 10,  4, 37, 15,  9, 11,  7,  7,  8,  4, 13, 15,  9,\n",
              "        5,  4, 16, 18,  9,  6, 29,  8, 15, 13, 12, 17,  9, 22,  5,  4,  7,\n",
              "        9,  7,  7,  8, 16,  5, 13,  7,  9,  5,  8,  8, 10, 12,  6, 11,  4,\n",
              "        8,  7,  4,  6,  5, 14,  5, 14,  9,  6, 10,  7,  7,  8,  3,  6,  9,\n",
              "        9,  8,  5,  4,  6,  8,  9, 11, 18,  5, 12,  3, 12,  9, 13, 14, 11,\n",
              "        3,  9, 10,  5,  2, 20,  5,  2, 12, 13,  5,  8, 10,  9,  9, 16,  9,\n",
              "       11, 21,  6,  6,  8,  9, 25,  9,  8, 12,  9,  9, 11,  9,  3, 11,  7,\n",
              "        6, 16,  8, 12, 13,  8,  7, 16, 18, 30,  9,  7,  9,  4, 10, 30, 14,\n",
              "        6, 10,  9, 12,  6,  6, 10, 12,  8,  9,  4,  5,  7, 10, 13, 11, 18,\n",
              "        5,  5,  5,  9,  8,  8, 11,  8,  9, 12,  4, 10,  5,  7, 14,  9, 13,\n",
              "       26, 11, 10,  8,  5, 20,  8, 10,  8, 10,  6,  9, 16, 11,  9,  9, 13,\n",
              "        6,  8,  8,  7, 10,  7, 11, 12, 16, 29,  7,  9,  9,  9,  3, 11, 12,\n",
              "       10, 14, 13, 11,  5,  6,  9, 10, 20,  5, 34,  7, 11,  3,  8,  7,  6,\n",
              "       15,  7, 12,  6, 16,  5,  5, 20, 24, 17,  8, 12, 16, 24, 21, 13,  7,\n",
              "       10,  6,  5, 16,  5, 11,  6, 10,  7, 21, 13,  8,  5,  8,  9,  9,  5,\n",
              "        8,  8,  5, 12, 12,  8, 11,  6,  5, 15, 14,  8, 10,  7, 12,  3,  7,\n",
              "        7, 11, 10,  4,  9, 16, 19,  8,  6,  7, 20, 18, 11, 18, 13,  8, 13,\n",
              "       17,  7, 10,  8,  7,  4,  9,  5,  9,  6,  7,  6,  6, 14,  5,  8,  7,\n",
              "        9,  5, 14, 10, 16,  9,  7,  8,  8, 10,  4, 11,  6,  8, 14,  8, 12,\n",
              "        9,  6, 10, 10,  4,  8,  9,  7, 16, 10, 15,  6, 17, 12,  8,  9, 12,\n",
              "       13,  7,  5,  5,  9,  8,  8,  7, 11,  8,  6, 16, 11, 13, 13,  5,  8,\n",
              "        7,  5,  8,  8,  9,  3, 11,  6,  7, 17,  7, 10,  7, 10,  6,  9, 11,\n",
              "       10,  9, 11, 13,  5,  5, 10,  6,  7,  6, 12, 10, 14,  7, 11, 11,  7,\n",
              "        5, 10,  7,  6, 22,  4,  9, 12, 12,  2,  9,  7, 13,  9,  3, 13, 10,\n",
              "        4, 11,  6,  6,  9,  4,  8, 19, 10, 20,  8, 17, 12,  6,  4, 17,  5,\n",
              "        7,  6, 14,  9,  6, 11,  9,  7, 14,  7, 11, 13,  9, 10])"
            ]
          },
          "metadata": {
            "tags": []
          },
          "execution_count": 4
        }
      ]
    },
    {
      "cell_type": "code",
      "metadata": {
        "colab": {
          "base_uri": "https://localhost:8080/",
          "height": 295
        },
        "id": "qyZWr61N130z",
        "outputId": "1aa00adf-9293-4040-e66f-01b2b38eae2f"
      },
      "source": [
        "# Plot the sample distribution of 1000 samples and the theoretical distribution of Z variable.\n",
        "values, counts = np.unique(Z, return_counts=True)\n",
        "plt.scatter(values,counts/np.sum(counts),zorder=2,label=\"sample distribution\")\n",
        "outcomes=np.arange(np.max(values)+1)\n",
        "PMF=np.array([pmf_z(z) for z in outcomes])\n",
        "plt.bar(outcomes,PMF,label=\"theoretical distribution\")\n",
        "plt.legend()\n",
        "plt.xlabel(\"Outcomes\")\n",
        "plt.ylabel(\"Probabilities\")\n",
        "plt.title(\"Z Distribution\")\n",
        "plt.show()"
      ],
      "execution_count": null,
      "outputs": [
        {
          "output_type": "display_data",
          "data": {
            "image/png": "[encoded data removed]",
            "text/plain": [
              "<Figure size 432x288 with 1 Axes>"
            ]
          },
          "metadata": {
            "tags": [],
            "needs_background": "light"
          }
        }
      ]
    },
    {
      "cell_type": "markdown",
      "metadata": {
        "id": "ZzdEDV8FeNsU"
      },
      "source": [
        "## Q2. [8 Points]\r\n",
        "\r\n",
        "Instead of first sampling from $X$ and $Y$ distributions, we can also use different methods to directly sample from $Z$ distribution using $PMF(z)$.\r\n",
        "\r\n",
        "Let's use **Geometric Distribution** with ($\\theta$) as a proposal distribution to perform rejection sampling to directly get $z$.\r\n",
        "\r\n",
        "* Compute the best $\\theta$ and the corresponding $c$ based on searching $\\theta$ over `np.linspace(0.001,0.999,1000)`\r\n",
        "* If a proposal value is equal to 1, compute the probability of this proposal being accepted.\r\n"
      ]
    },
    {
      "cell_type": "code",
      "metadata": {
        "id": "BJFLynaNegcd",
        "colab": {
          "base_uri": "https://localhost:8080/"
        },
        "outputId": "082ed23e-fbc0-42ba-bbd8-de6c62be8c90"
      },
      "source": [
        "# Z = X + Y\n",
        "# Directly sample from Z distribution\n",
        "    # using Rejection Sampling method\n",
        "\n",
        "# Proposal Distribution: Poisson Distribution with lmbda_p\n",
        "# Compute the best values for `theta` and `c`\n",
        "def find_c(p):\n",
        "  x=np.arange(50)\n",
        "  pmf_t=np.array([pmf_z(z) for z in x])\n",
        "  pmf_p=(1-p)**x*p\n",
        "  return np.max(pmf_t/pmf_p),p\n",
        "\n",
        "return_values=np.array([find_c(theta) for theta in np.linspace(0.001,0.999,1000)])\n",
        "c_array=return_values[:,0]\n",
        "theta_array=return_values[:,1]\n",
        "\n",
        "c=np.min(c_array)                   # lowest c-value\n",
        "theta=theta_array[np.argmin(c_array)]       # corresponding theta-value\n",
        "print('The best theta value is ', theta)\n",
        "print('The best c value is ', c)"
      ],
      "execution_count": null,
      "outputs": [
        {
          "output_type": "stream",
          "text": [
            "The best theta value is  0.1108898898898899\n",
            "The best c value is  2.2186881391777002\n"
          ],
          "name": "stdout"
        }
      ]
    },
    {
      "cell_type": "code",
      "metadata": {
        "colab": {
          "base_uri": "https://localhost:8080/"
        },
        "id": "faLI6k4eLhrJ",
        "outputId": "59cd593b-cda5-4383-94b1-9b7dd7d19714"
      },
      "source": [
        "# Compute the probability of a proposal with value 1 being accepted.\n",
        "prob_1=pmf_z(1)/((1-theta)**1*theta)/c\n",
        "prob_1"
      ],
      "execution_count": null,
      "outputs": [
        {
          "output_type": "execute_result",
          "data": {
            "text/plain": [
              "0.035730724071397275"
            ]
          },
          "metadata": {
            "tags": []
          },
          "execution_count": 7
        }
      ]
    },
    {
      "cell_type": "markdown",
      "metadata": {
        "id": "JnpsP4mSiVbS"
      },
      "source": [
        "## Q3. [10 Points]\r\n",
        "\r\n",
        "In the same setting, if we instead define $Z$ variable as $Z=X-Y$, the PMF of $Z$  is as follows:\r\n",
        "\r\n",
        "$$PMF_Z(z)=\\begin{cases}  \\sum_{y=0}^{\\infty} PMF_{X}(z+y)PMF_{Y}(y) \\text{,  if z>0 } \\\\\r\n",
        "\\sum_{y=-z}^{\\infty} PMF_{X}(z+y)PMF_{Y}(y) \\text{,  else } \\\\\r\n",
        "\\end{cases}\r\n",
        " $$\r\n",
        "\r\n",
        "\r\n",
        "* Construct a function that returns $PMF(z)$ based on `sympy`. [unfortunately, `sympy.lambdify` will not work. Use `subs` method instead]\r\n",
        "* Use  generate 1000 samples from $Z$ distribution based on sampling from $X$ and $Y$. [You can use any `NumPy` functions to generate samples from Poisson and Geometric distribution]\r\n",
        "* In the same graph, plot the sample distribution of 1000 samples and the theoretical distribution of $Z$ variable.\r\n"
      ]
    },
    {
      "cell_type": "code",
      "metadata": {
        "id": "el4Gkwkhi8sl"
      },
      "source": [
        "y_s=sympy.Symbol(\"y\")\r\n",
        "lm_s=sympy.Symbol(\"lm\")\r\n",
        "z_s=sympy.Symbol(\"z\")\r\n",
        "p_s=sympy.Symbol(\"p\")"
      ],
      "execution_count": null,
      "outputs": []
    },
    {
      "cell_type": "code",
      "metadata": {
        "colab": {
          "base_uri": "https://localhost:8080/"
        },
        "id": "gSWTuMjYP9ip",
        "outputId": "468eb698-1e76-48ae-b941-08262da273fd"
      },
      "source": [
        "# Construct a function that returns 𝑃𝑀𝐹(𝑧) based on sympy\n",
        "def sym_pmf_z(z):\n",
        "  lmbda=5\n",
        "  p=0.2\n",
        "  pmf_x=sympy.exp(-lm_s)*(lm_s)**(z_s+y_s)/sympy.factorial(z_s+y_s)\n",
        "  pmf_y=(1-p_s)**y_s*p_s\n",
        "  if z>0:\n",
        "    pmf_z=sympy.Sum(pmf_x*pmf_y,(y_s,0,sympy.oo)).doit().simplify()\n",
        "  else:\n",
        "    pmf_z=sympy.Sum(pmf_x*pmf_y,(y_s,-z_s,sympy.oo)).doit().simplify()\n",
        "\n",
        "  return pmf_z.subs({z_s:z,lm_s:lmbda,p_s:p})\n",
        "\n",
        "# Test with z=10\n",
        "sym_pmf_z(10)"
      ],
      "execution_count": null,
      "outputs": [
        {
          "output_type": "execute_result",
          "data": {
            "text/plain": [
              "0.00557244743333491"
            ]
          },
          "metadata": {
            "tags": []
          },
          "execution_count": 9
        }
      ]
    },
    {
      "cell_type": "code",
      "metadata": {
        "colab": {
          "base_uri": "https://localhost:8080/"
        },
        "id": "-BKih8VsP9Zj",
        "outputId": "4a7608e3-44c3-493f-c9f1-d4eb7ce4374a"
      },
      "source": [
        "# Generate 1000 samples from Z distribution\n",
        "X=np.random.poisson(5,1000)      # X follows a Poisson Dist. with lambda=5\n",
        "Y=np.random.geometric(0.2,1000)  # Y follows a Geometric Dist. with p=0.2\n",
        "Z=X-Y\n",
        "Z"
      ],
      "execution_count": null,
      "outputs": [
        {
          "output_type": "execute_result",
          "data": {
            "text/plain": [
              "array([  3,  -1,  -9,   3,   0,   4,   2, -10,   5,   3,   1, -10,  -2,\n",
              "         8,   6,   2,   5,   3,   0,  -6,  -2,   1,  -8,   3,   3,  -2,\n",
              "        -3,   5,   7,   6,   3,   1, -28,  -1,   3,  -1,  -4,   3,  -4,\n",
              "        -1,   6,  -6,   0,   3,  -5,  -2,  -2,   1, -13,  -3,   3,  -1,\n",
              "       -11,   1,  -5,  -1,   3,   9,   1,  -8,   1,  -5,   1,  -5,  -3,\n",
              "         2, -11,   2,   3,   0,   0,   3,  -3,   6,   1,   4,  -7,   2,\n",
              "        -9,  -7,  -7,   2,   6,  10,  -5,  -6,  -3,   3,   4,   2,   3,\n",
              "         0,  -7,   2,   2,   6,   4,   6,   5,   3,  -3,   0,  -8,  -3,\n",
              "         4,   0,   2,   1,   0,  -5,   5, -11,  -5,   2,  -4,   0,   2,\n",
              "         3, -10,   0,   0,   4,   1,  -3,   3,   3,   2,   1,  -3, -16,\n",
              "        -2,   5,  -6,   3,  -3, -11,   4,   3,   1,   7,   0,  -1,  -1,\n",
              "         0,   5,  -1,   0,   1,   1,   5,   6,   4,   4,   2, -14,   0,\n",
              "         2,  -7,   6,   0,   1,   3,   2, -10,  -3,   7,   3,   0,   1,\n",
              "        -2,   3,   8,   6,   0,   6,   0,   7,   1,   2,   0,   0,   8,\n",
              "        11,   0,   5,   1,   3,  -7,   3, -21,   1,  -3,   7,  -2,  -6,\n",
              "         2,   5,   2,  -8,   4,   3,   1,   9,   1,  -1,  -1,  -8,  -3,\n",
              "         4,   8,  -6,   2,   6,   0,  -1,   6,  -7,   4,  -3,   1,  -1,\n",
              "        -9,   8,  -2,   2,   0,   5,  -2, -16,   1,   4,   0,  -1,   6,\n",
              "         3,  -3,   7,  -2,  -3,  -7,   5,   2, -16,  -8,   3,  -4,   2,\n",
              "        -3,   3,  -6,  -7,  -1,  -7,   3,   2,   6,   1,   3, -11,  -1,\n",
              "         2,   0,   2,   3,   5,  -1,   3,   1,   4, -11,   1,  -1,   4,\n",
              "         7,   1,  10,  -1,   4, -14,   2,  -2,   1,  -2,  -4,  -5,   9,\n",
              "         2,  -1,   3,  -3,   4,  -5,  -2,   0,   1,   4,   5,   1,   3,\n",
              "         7,   2,   6,   2,   2,  -6,   8,  -9,  -2,   8,   4,   0,   0,\n",
              "        -2,  -6,   2,   2,   0,  -7,  -5,   3,  -2,   2,   3,   0,  -4,\n",
              "        -4,   5,   5,   7,   0,   2,   1,   2,  -1,   6,   6,   3,  -1,\n",
              "         2,   8,   0,   2,  -3,   6,  -2,  -8,  -1,  -1,   0,  -4,   4,\n",
              "        -4,   2,  -5,  -1,  -1,   1,  -3,   7,   4,  -7,   6,   5,  -4,\n",
              "         3,   0,  -8,   3,  -2,  -2,   0,  -1, -12,   5,   6, -11,   4,\n",
              "         0,   2,   8,   6,   4,   0,  -4,   3,  -4,  -8,   0,   5,  -4,\n",
              "         1,  -2,  -1,   0,   5,   2,  -2,  -1,  -1,   0,   9,   8,  -5,\n",
              "         1,   4,   7,   3, -21,  -1,   4,   3,   2,   3,  -3,   3, -12,\n",
              "        -1,   2,   0,  -3,  -5,   4,   2,   6,  -4,   1,   3,   2,   1,\n",
              "         1,   3,   2,   1,   0, -17,   8,   1,   5,   0,   1,   1,   0,\n",
              "         2,   2,  -6,  -2,   5,  -6,   4,   5,   2,  -2,   6,  -4,  -5,\n",
              "         2,  -1,   3,   5,   1,   1,   2,  -8,   0,   1,  -2,   5,  -3,\n",
              "        -5,   1,   0,  -8,  -4,   2,  -3,  -2,   3,   0,   2,   4,  -6,\n",
              "        -6,   5,   3, -16,   6, -14,   5,  -2,  -8,   2,  -3,   3,  -1,\n",
              "        -1,  -3,   4,  -3,   3,   1,   2,   0,   1,  -2,   1,   2,   0,\n",
              "         4,   3,   1, -18,   0,   3,   1,   0,   0,  -2,   3,   2,  -2,\n",
              "         0,   1,  -2,   4,   2,   1,   3,  -2,  -7,   2,   2,   4,  -2,\n",
              "        -2,  -4,  -4,  -3, -11,   1,   5,   9,  -1,   3,   5,   1,   3,\n",
              "         2,   0,  -1,   2, -11,   5,   0,   4,   5,   3,   2,  -5,   2,\n",
              "        -1,   4,   3,   1,   7,   3,   0,  -4,  -3,   1,   3,  -1,   0,\n",
              "         8,  -6,   1,   2,   2,  -2,   1,   4,  -4,   3,  -2,  -6,   2,\n",
              "         4,   7,   0,   9,   1,   3,  -2,   5,   1,   0,  -7,   0,  -2,\n",
              "         4,   2,   4,   4,  -5,   6,   4, -10,   0,   4,   3,  -1,   6,\n",
              "        -5,   1,   8,  -1,   5, -13,  -5,  -4,   2,   4,   0,   1,   0,\n",
              "         2,  -2, -14,   3,  -2,   1,   2,   7,   4,   0,   4,   1,   4,\n",
              "         3,  -3,   3, -15,  -3,   2,   3,  -1,   0,   1,   3,   5,   2,\n",
              "         1,   3,   1,   3,   0,   0,   3,   3,   6,   3,   6,   3,  -3,\n",
              "        -1,   4,   0,  -1,   3,  -4,  -1,  -2,  -1,   2,   3,   2,   1,\n",
              "         2,   2,  -2,   1,   3,   5,  -9,   7,  -2,   1,   2,   4,   4,\n",
              "         2,   9,   2,   2,   0, -15,   2, -11,  -2,   3,   0,  -3,   5,\n",
              "        -3,   3,   4,   4,   3,   2,  -1,   4,  -9,   1,   0,   3,   5,\n",
              "         3,  -5,   6,  -8,   2,   3,  -1,  -1,  -9,  -1,   0,   1,   0,\n",
              "         3,   0,   0,   3,   0,  -4,   7,   7,  -5,   7,   4,  -6,   6,\n",
              "         0, -11,   6,  -1,   1,   1,  10,  -3,   6,  -6,  -1,   3,  -2,\n",
              "        -4,  -4, -19,   8,   3,   2,  -5,   1,  -2,   0,  -1,  -4,   9,\n",
              "         4,   3,  -2,   2, -16,   0,   1,   2,   1,   5,  -7,  10,  -5,\n",
              "         4,  -4,   2,  -3,  -2,   3,   3,   2,  -2,  -5,   1,   6,  -7,\n",
              "         6,   2,   9,   1,   2,   3,  -2,  -9,   3,  -2,  -2,   6,  -5,\n",
              "         3,  -2,  -2,   0, -16,  -1,  -4,  10,   4,   4,  -5,  -6,  -3,\n",
              "         5,  -2,  -1, -10,   3, -11,   6,   2,   2,   6,  -2,   6,   1,\n",
              "        -2,   6,   3,  -5, -13,   5,  -4,   1,  -5,  -1,   1,   7,   4,\n",
              "        -1,  -1,  -1,  -3,  -1,  -4,   5,   3,   3,   4,  -4,   5,   2,\n",
              "        -3,   4,  -4,   4,  -4,  -7,   9,   2,  -1,  -3,   8,   2,   4,\n",
              "         0,   3,   6,  -6,  -3,   3,   6,   6,  -4,   8,   3,  -9,   5,\n",
              "         3,  -2,  -6,  -7,  -6,   3,  -4,  -9,  -2,   4,  -2, -14,  -5,\n",
              "        -1,   1,   6,  -9,   5,  -7,   6,   2,   3,  -7,  -2, -14,   2,\n",
              "         4,   1,   0,   2,  -2,  -2,   4,   6, -20,   1,   1,   3,   5,\n",
              "         2,   4,  -6,  -6,   3,  -2,  -7,  -1,  -5,   4,   1,   3,   2,\n",
              "        -1,  -1,  -1,   3,   4, -19,   3,  -5,   1,  -1,   0, -12,   0,\n",
              "         3,   4,   5,   3,  -1,  -2,   3,  -5,   2,   3,   3,   1,   4,\n",
              "         1,   2,   1,   0,  -9,   3,  -2,  -2,  -1,   2,   6,   1,   1,\n",
              "        -3,  -2, -10,   4,  -5,   3,   0,   4,   1,   0,   4,  -2,   3,\n",
              "         4,   1,  -1,  -2,  -1,   2,   7,   0,   7,  -4,   3,  -1])"
            ]
          },
          "metadata": {
            "tags": []
          },
          "execution_count": 10
        }
      ]
    },
    {
      "cell_type": "code",
      "metadata": {
        "colab": {
          "base_uri": "https://localhost:8080/",
          "height": 295
        },
        "id": "eknyR5UlP9M0",
        "outputId": "408f8eb7-0232-4dd7-b4d9-f54547bdca8a"
      },
      "source": [
        "# Plot the sample distribution of 1000 samples and the theoretical distribution of Z variable.\n",
        "values, counts = np.unique(Z, return_counts=True)\n",
        "plt.scatter(values,counts/np.sum(counts),zorder=2,label=\"sample distribution\")\n",
        "outcomes=np.arange(np.min(values),np.max(values)+1)\n",
        "PMF=np.array([sym_pmf_z(z) for z in outcomes])\n",
        "plt.bar(outcomes,PMF,label=\"theoretical distribution\")\n",
        "plt.legend()\n",
        "plt.xlabel(\"Outcomes\")\n",
        "plt.ylabel(\"Probabilities\")\n",
        "plt.title(\"Z Distribution\")\n",
        "plt.show()"
      ],
      "execution_count": null,
      "outputs": [
        {
          "output_type": "display_data",
          "data": {
            "image/png": "[encoded data removed]",
            "text/plain": [
              "<Figure size 432x288 with 1 Axes>"
            ]
          },
          "metadata": {
            "tags": [],
            "needs_background": "light"
          }
        }
      ]
    },
    {
      "cell_type": "markdown",
      "metadata": {
        "id": "WvnYt7gii93s"
      },
      "source": [
        "##Q4.  [10 Points]\r\n",
        "\r\n",
        "For $Z=X-Y$, we can also use different methods to directly sample from $Z$ distribution using $PMF(z)$.\r\n",
        "\r\n",
        "This time, let's assume that we decide to perform a upward/downward search starting from $z=0$. If $CDF(z-1) \\leq u<  CDF(z)$, $u$ will be converted to $z$. In addition, as the probability of sampling a $z$ below $-100$ is extremely small, let's assume $P(z<-100)=0$.\r\n",
        "\r\n",
        "* If we have a random number $u=0.3$, what $z$ value will this number be converted to? Show the details of your derivation.\r\n",
        "* What is the number of comparisons between $u$ and $CDF$ during the conversion?  \r\n",
        "* What is the probability of generating a sample value with this number of comparison?  Show your derivation using coding.\r\n",
        "\r\n",
        "\r\n",
        "\r\n",
        "\r\n"
      ]
    },
    {
      "cell_type": "code",
      "metadata": {
        "colab": {
          "base_uri": "https://localhost:8080/"
        },
        "id": "h3Sx9RZnogRd",
        "outputId": "52514137-f408-4e33-9d82-79e99056f2e9"
      },
      "source": [
        "# use the function in Q3 to generate an array of PMFs of z from -99 to 50\n",
        "PMFs=np.array([sym_pmf_z(z) for z in np.arange(-99,51)])\n",
        "# use np.cumsum to generate an array of CDFs of z from -99 to 50\n",
        "CDFs=np.cumsum(PMFs)\n",
        "# CDF(0) is equal to CDF[99], \n",
        "# because the CDFs array starts from -99 to 50\n",
        "CDFs[99]"
      ],
      "execution_count": null,
      "outputs": [
        {
          "output_type": "execute_result",
          "data": {
            "text/plain": [
              "0.367879441096504"
            ]
          },
          "metadata": {
            "tags": []
          },
          "execution_count": 12
        }
      ]
    },
    {
      "cell_type": "code",
      "metadata": {
        "colab": {
          "base_uri": "https://localhost:8080/"
        },
        "id": "EqmORmwHjklq",
        "outputId": "c1a54dd5-bb68-466a-dd59-72c084d3d34a"
      },
      "source": [
        "# Upward/Downward search method\n",
        "def search(u):\n",
        "  # starting point:\n",
        "  z=0\n",
        "  # starting CDF:\n",
        "  index=z+99\n",
        "  cdf=CDFs[index]\n",
        "\n",
        "  # initialize number of comparisons at 1\n",
        "      # because we always starting by compare to CDF(0) first\n",
        "  search=1\n",
        "  \n",
        "  # search upward\n",
        "  if u>cdf:\n",
        "    z+=1\n",
        "    index+=1\n",
        "    cdf=CDFs[index]\n",
        "    while u>cdf:\n",
        "      search+=1\n",
        "      z+=1\n",
        "      index+=1\n",
        "      cdf=CDFs[index]\n",
        "    search+=1\n",
        "    return z,search\n",
        "  # search downward\n",
        "  else:\n",
        "    z-=1\n",
        "    index-=1\n",
        "    cdf=CDFs[index]\n",
        "    while u<=cdf:\n",
        "      search+=1\n",
        "      z-=1\n",
        "      index-=1\n",
        "      cdf=CDFs[index]\n",
        "    search+=1\n",
        "    return z+1,search\n",
        "\n",
        "search(0.3)\n",
        "# returns (converted z value, number of comparisons)"
      ],
      "execution_count": null,
      "outputs": [
        {
          "output_type": "execute_result",
          "data": {
            "text/plain": [
              "(0, 2)"
            ]
          },
          "metadata": {
            "tags": []
          },
          "execution_count": 13
        }
      ]
    },
    {
      "cell_type": "markdown",
      "metadata": {
        "id": "SGHUBs5IwAyn"
      },
      "source": [
        "If $u=0.3$, the $z$ value it will be converted to is $0$ and the number of comparisons with between $u$ and $CDF$ is $2$."
      ]
    },
    {
      "cell_type": "code",
      "metadata": {
        "colab": {
          "base_uri": "https://localhost:8080/"
        },
        "id": "x6mIxhybw4Ke",
        "outputId": "333887ab-9d0a-4733-ac1b-6972e7f27945"
      },
      "source": [
        "# Compute the probability of generating a sample value with 2 comparisons\n",
        "    # Because 2 is the least number of comparisons \n",
        "    # when performing an upward/downward search method,\n",
        "    # the probability will be the difference between CDF(0+1) and CDF(0-1)\n",
        "prob_2_searches=CDFs[99+1]-CDFs[99-1]\n",
        "prob_2_searches"
      ],
      "execution_count": null,
      "outputs": [
        {
          "output_type": "execute_result",
          "data": {
            "text/plain": [
              "0.163861261777378"
            ]
          },
          "metadata": {
            "tags": []
          },
          "execution_count": 14
        }
      ]
    },
    {
      "cell_type": "markdown",
      "metadata": {
        "id": "bY4mKeHI0uAl"
      },
      "source": [
        "The probability of generating a sample value with $2$ comparisons is $0.163861261777378$."
      ]
    },
    {
      "cell_type": "code",
      "metadata": {
        "colab": {
          "base_uri": "https://localhost:8080/"
        },
        "id": "PfdD61eI5I3k",
        "outputId": "eaa3b891-f1ec-4fe4-977b-4e399018ebcb"
      },
      "source": [
        "# Try a few different values of `u` to test the range:\n",
        "\n",
        "# when u is only slightly inside [CDF(0+1), CDF(0-1)]\n",
        "search(CDFs[99-1]+0.000001), search(CDFs[99+1]-0.000001)\n",
        "    # the number of comparisons is still 2"
      ],
      "execution_count": null,
      "outputs": [
        {
          "output_type": "execute_result",
          "data": {
            "text/plain": [
              "((0, 2), (1, 2))"
            ]
          },
          "metadata": {
            "tags": []
          },
          "execution_count": 15
        }
      ]
    },
    {
      "cell_type": "markdown",
      "metadata": {
        "id": "-5etccZ58yB-"
      },
      "source": [
        "**When u is inside [CDF(0+1), CDF(0-1)]: the number of comparisons stays at 2.**"
      ]
    },
    {
      "cell_type": "code",
      "metadata": {
        "colab": {
          "base_uri": "https://localhost:8080/"
        },
        "id": "T1DqmepA5fgt",
        "outputId": "5c16fc5f-3f8e-4be5-85f5-f6ba8b882ef7"
      },
      "source": [
        "# when u is only slightly outside [CDF(0+1), CDF(0-1)]\n",
        "search(CDFs[99-1]-0.000001), search(CDFs[99+1]+0.000001)\n",
        "    # the number of comparisons goes up 3"
      ],
      "execution_count": null,
      "outputs": [
        {
          "output_type": "execute_result",
          "data": {
            "text/plain": [
              "((-1, 3), (2, 3))"
            ]
          },
          "metadata": {
            "tags": []
          },
          "execution_count": 16
        }
      ]
    },
    {
      "cell_type": "markdown",
      "metadata": {
        "id": "kqRz8Jrt840H"
      },
      "source": [
        "**When u is outside [CDF(0+1), CDF(0-1)]: the number of comparisons goes up to 3.**"
      ]
    },
    {
      "cell_type": "markdown",
      "metadata": {
        "id": "4qWkgDY6EAoL"
      },
      "source": [
        "#Exercise 2 [34 Points]\n",
        "\n",
        "In this system, the seller lists an out-of-print book for sale. The bidding price starts at a listing price of 10 dollars. The book will be listed for 7 days. \n",
        "\n",
        "\n",
        "The bidders arrive following a non-homogeneous Poisson process with $\\lambda=1-0.1t$. Here, the unit of $t$ is day. $t$ is a continuous variable. Each bidder has a maximum amount they are willing to pay for the book, defined as willingness to pay (WTP) for the book. The distribution of WTP follows $WTP=\\min(\\max(0, X),80)$, where $X\\sim Normal(\\mu=40, \\sigma=20)$. \n",
        "\n",
        "\n",
        "When a bidder arrives, the bidder will immediately add 1 dollar to the current bidding price if the bidder's WTP is at least 1 dollar higher than the current bidding price. After the initial arrival, the bidders will keep on coming back every half day. Upon the arrival, if the bidder's WTP is still at least 1 dollar higher than the current bidding price, the bidder will immediately add another 1 dollar to the bidding price. Otherwise, the bidder will stop coming back."
      ]
    },
    {
      "cell_type": "markdown",
      "metadata": {
        "id": "_qFH5BWF10mW"
      },
      "source": [
        "##Q1. [8 Points]\r\n",
        "\r\n",
        "* Use **ordered statistics** method to generate the initial arrival times of the bidders. The efficiency of your algorithm does not matter. \r\n",
        "* Plot the distribution of the initial arrival times using a histogram.\r\n",
        "\r\n",
        "\r\n"
      ]
    },
    {
      "cell_type": "code",
      "metadata": {
        "id": "VapkwRJZFkOn",
        "colab": {
          "base_uri": "https://localhost:8080/"
        },
        "outputId": "961d319b-d184-4ca2-a665-8f1b21c17269"
      },
      "source": [
        "# Generate initial arrival times (non-homogeneous Poisson process)\n",
        "    # using Ordered Statistics\n",
        "\n",
        "# Step 1: Compute the expected number of arrivals\n",
        "t=sympy.Symbol(\"t\")\n",
        "lmt=1-0.1*t\n",
        "Ex=float(sympy.integrate(lmt,(t,0,7)))\n",
        "Ex"
      ],
      "execution_count": null,
      "outputs": [
        {
          "output_type": "execute_result",
          "data": {
            "text/plain": [
              "4.55"
            ]
          },
          "metadata": {
            "tags": []
          },
          "execution_count": 17
        }
      ]
    },
    {
      "cell_type": "code",
      "metadata": {
        "colab": {
          "base_uri": "https://localhost:8080/"
        },
        "id": "0uu2U4zSUiyY",
        "outputId": "fa4cfd5b-993d-4e4d-86fa-768f009f18ef"
      },
      "source": [
        "# Step 2: Generate number of arrivals from Poisson(Ex)\n",
        "N_arrivals=np.random.poisson(Ex)\n",
        "N_arrivals"
      ],
      "execution_count": null,
      "outputs": [
        {
          "output_type": "execute_result",
          "data": {
            "text/plain": [
              "4"
            ]
          },
          "metadata": {
            "tags": []
          },
          "execution_count": 18
        }
      ]
    },
    {
      "cell_type": "code",
      "metadata": {
        "colab": {
          "base_uri": "https://localhost:8080/"
        },
        "id": "X0F53h8MUioQ",
        "outputId": "becd2e39-2938-4b9b-f7a3-2e6588e09b57"
      },
      "source": [
        "# Step 3: Compute the inverse CDF of the arrival time\n",
        "u=sympy.Symbol('u')\n",
        "t=sympy.Symbol(\"t\")\n",
        "pdf=(1-0.1*t)/Ex\n",
        "cdf=sympy.integrate(pdf,(t,0,t))\n",
        "inv_cdf=sympy.solve(cdf-u,t)\n",
        "inv_cdf\n",
        "# There are 2 inverse CDFs, \n",
        "# but only the first one will return arrival times between 0 and 7"
      ],
      "execution_count": null,
      "outputs": [
        {
          "output_type": "execute_result",
          "data": {
            "text/plain": [
              "[-sqrt(-91.0*u + 100.0) + 10.0, sqrt(-91.0*u + 100.0) + 10.0]"
            ]
          },
          "metadata": {
            "tags": []
          },
          "execution_count": 19
        }
      ]
    },
    {
      "cell_type": "code",
      "metadata": {
        "colab": {
          "base_uri": "https://localhost:8080/"
        },
        "id": "kIDFIs2ZYpoM",
        "outputId": "b1c96dbd-f7ed-448b-fcb8-5340b29dd2e1"
      },
      "source": [
        "# Step 4: Compute and sort the arrival times use the inverse CDF\n",
        "sampling=sympy.lambdify((u),inv_cdf[0],\"numpy\")\n",
        "arrivals=np.sort(sampling(np.random.rand(N_arrivals)))\n",
        "arrivals"
      ],
      "execution_count": null,
      "outputs": [
        {
          "output_type": "execute_result",
          "data": {
            "text/plain": [
              "array([1.45617452, 1.49940826, 5.40006929, 6.64259339])"
            ]
          },
          "metadata": {
            "tags": []
          },
          "execution_count": 20
        }
      ]
    },
    {
      "cell_type": "code",
      "metadata": {
        "id": "dPws9nK617eC",
        "colab": {
          "base_uri": "https://localhost:8080/",
          "height": 295
        },
        "outputId": "97d468e0-0e08-460e-b5bf-363cb859423f"
      },
      "source": [
        "# Plot the distribution using a histogram\n",
        "samples = arrivals\n",
        "plt.hist(samples,density=True)\n",
        "plt.xlabel('Time')\n",
        "plt.ylabel('Density')\n",
        "plt.title('Histogram of Initial Arrivals')\n",
        "plt.show()"
      ],
      "execution_count": null,
      "outputs": [
        {
          "output_type": "display_data",
          "data": {
            "image/png": "[encoded data removed]",
            "text/plain": [
              "<Figure size 432x288 with 1 Axes>"
            ]
          },
          "metadata": {
            "tags": [],
            "needs_background": "light"
          }
        }
      ]
    },
    {
      "cell_type": "markdown",
      "metadata": {
        "id": "ESCliOqgBsSL"
      },
      "source": [
        "## Q2. [16 Points]\n",
        "* Based on `simpy`, construct a system that will return **the final price**  when the listing ends. [If the book gets no bidding, then return the listing price]\n",
        "\n",
        "* Simulate the system 1000 times and plot the distribution of **the final price**.\n",
        "\n",
        "* Report the **lower bound, upper bound, and width of the 95% confidence interval**  for the expected value of the final price.\n"
      ]
    },
    {
      "cell_type": "code",
      "metadata": {
        "id": "dL_AQacXHJ_u",
        "colab": {
          "base_uri": "https://localhost:8080/"
        },
        "outputId": "48104129-d9bc-4452-84dc-ef35bed765f6"
      },
      "source": [
        "# Use `simpy`, construct a system that returns the final price when the listing ends\n",
        "\n",
        "def arrivals(env,price):\n",
        "  number_arrivals=np.random.poisson(Ex)\n",
        "  arrival_times=np.sort(sampling(np.random.rand(number_arrivals)))\n",
        "  inter_arrival=np.diff(np.insert(arrival_times,0,0))\n",
        "  i=0\n",
        "  # print('total bidders: ', number_arrivals)\n",
        "  while i<number_arrivals:\n",
        "    inter=inter_arrival[i]\n",
        "    yield env.timeout(inter)\n",
        "    # print('bidder ',i+1, ' arrives at ',env.now)\n",
        "    env.process(bid(env,i,price))\n",
        "    i+=1\n",
        "\n",
        "def bid(env,i,price):\n",
        "  x=np.random.normal(40,20)\n",
        "  wtp=min(max(0,np.random.normal(40,20)),80)\n",
        "  # print('bidder ',i,' is willing to pay ',wtp)\n",
        "  while True:\n",
        "    if wtp-price['current']>=1:\n",
        "      price['current']+=1\n",
        "      # print('bidder ',i+1,' bids for ',price['current'],'   time: ',env.now)\n",
        "      yield env.timeout(0.5)\n",
        "    else:\n",
        "      # print('bidder ',i+1,' gives up at ',price['current'],'   time: ',env.now)\n",
        "      break\n",
        "\n",
        "\n",
        "def system():\n",
        "  price={'current':10}\n",
        "  # np.random.seed(50)\n",
        "  env=simpy.Environment()\n",
        "  env.process(arrivals(env,price))\n",
        "  env.run(until=7)\n",
        "  return price['current']\n",
        "\n",
        "# run the system once\n",
        "system()"
      ],
      "execution_count": null,
      "outputs": [
        {
          "output_type": "execute_result",
          "data": {
            "text/plain": [
              "35"
            ]
          },
          "metadata": {
            "tags": []
          },
          "execution_count": 22
        }
      ]
    },
    {
      "cell_type": "code",
      "metadata": {
        "colab": {
          "base_uri": "https://localhost:8080/",
          "height": 295
        },
        "id": "OhJUcv5cqDp9",
        "outputId": "7535d176-800f-49d2-e12e-06c258e62463"
      },
      "source": [
        "# Simulate the system 1000 times and plot the distribution of the final price\n",
        "N=1000\n",
        "samples=np.array([system() for i in range(N)])\n",
        "plt.hist(samples, bins=int(N**0.5), density=True)\n",
        "plt.xlabel('Final Price')\n",
        "plt.ylabel('Density')\n",
        "plt.title('Distribution of the Final Price')\n",
        "plt.show()"
      ],
      "execution_count": null,
      "outputs": [
        {
          "output_type": "display_data",
          "data": {
            "image/png": "[encoded data removed]",
            "text/plain": [
              "<Figure size 432x288 with 1 Axes>"
            ]
          },
          "metadata": {
            "tags": [],
            "needs_background": "light"
          }
        }
      ]
    },
    {
      "cell_type": "code",
      "metadata": {
        "colab": {
          "base_uri": "https://localhost:8080/"
        },
        "id": "6xpTRzu9qPSX",
        "outputId": "1c21fd1a-cd5b-4bf3-c700-5a7100cca4f7"
      },
      "source": [
        "# Report the lower bound, upper bound, and width of the 95% confidence interval \n",
        "# for the expected value of the final price.\n",
        "mean=np.mean(samples)\n",
        "std=np.std(samples,ddof=1)\n",
        "lower=mean-spst.norm.ppf(0.975)*std/N**0.5\n",
        "upper=mean+spst.norm.ppf(0.975)*std/N**0.5\n",
        "print(\"95% confidence interval: \", [lower,upper])\n",
        "print(\"mean: \", mean)\n",
        "print(\"width of confidence interval: \",upper-lower)"
      ],
      "execution_count": null,
      "outputs": [
        {
          "output_type": "stream",
          "text": [
            "95% confidence interval:  [35.884059929125804, 37.2799400708742]\n",
            "mean:  36.582\n",
            "width of confidence interval:  1.3958801417483926\n"
          ],
          "name": "stdout"
        }
      ]
    },
    {
      "cell_type": "markdown",
      "metadata": {
        "id": "gKtIXQjhDccY"
      },
      "source": [
        "##Q3. [10 Points]\n",
        "\n",
        "A person wants to use **the number of arrivals** and **the average WTP** as control variates at the same time. However, this person noticed that in certain rounds, **the average WTP** is missing due to no arrivals.  \n",
        " \n",
        "* Since the average WTP is not available in certain rounds, is there still a way to use the information of **WTP** as a second control variate? Give your reasoning. If you have a proposal, implement your algorithm. Otherwise, implement the control variate method with **the number of arrivals** only. \n",
        "\n",
        "* Simulate the system 1000 times and report the **lower bound, upper bound, and width of the 95% confidence interval** for the expected value of the final price.\n",
        "\n",
        " "
      ]
    },
    {
      "cell_type": "code",
      "metadata": {
        "id": "b7ReHEOdDcDI",
        "colab": {
          "base_uri": "https://localhost:8080/"
        },
        "outputId": "c49f0a75-778b-439a-d4b5-90bd00271395"
      },
      "source": [
        "# Control Variates\n",
        "\n",
        "# I don't think there is a way to solve the problem under the scenario that there is no arrivals.\n",
        "# Because, a WTP value is only calculated when a bidder arrival hapeens.\n",
        "# If there are multiple arrivals, then there are multiple WTP values.\n",
        "# For a round such that no bidder arrives, we can't generate any WTP for this round.\n",
        "# Either assuming 1 true mean WTP value nor 0 WTP value for a round without arrivals is reasonable.\n",
        "# Because there is no bidders actually saw the product, we wouldn't know any WTP values.\n",
        "\n",
        "# Implement the method with `the number of arrivals` only\n",
        "def arrivals(env,price,num):\n",
        "  number_arrivals=np.random.poisson(Ex)\n",
        "  num.append(number_arrivals)\n",
        "  arrival_times=np.sort(sampling(np.random.rand(number_arrivals)))\n",
        "  inter_arrival=np.diff(np.insert(arrival_times,0,0))\n",
        "  i=0\n",
        "  # print('total bidders: ', number_arrivals)\n",
        "  while i<number_arrivals:\n",
        "    inter=inter_arrival[i]\n",
        "    yield env.timeout(inter)\n",
        "    # print('bidder ',i, ' arrives at ',env.now)\n",
        "    env.process(bid(env,i,price))\n",
        "    i+=1\n",
        "\n",
        "def bid(env,i,price):\n",
        "  x=np.random.normal(40,20)\n",
        "  wtp=min(max(0,np.random.normal(40,20)),80)\n",
        "  # print('bidder ',i,' is willing to pay ',wtp)\n",
        "  while True:\n",
        "    if wtp-price['current']>=1:\n",
        "      price['current']+=1\n",
        "      # print('bidder ',i,' bids for ',price['current'],'   time: ',env.now)\n",
        "      yield env.timeout(0.5)\n",
        "    else:\n",
        "      # print('bidder ',i,' gives up at ',price['current'],'   time: ',env.now)\n",
        "      break\n",
        "\n",
        "def system():\n",
        "  price={'current':10}\n",
        "  num=[]\n",
        "  # np.random.seed(50)\n",
        "  env=simpy.Environment()\n",
        "  env.process(arrivals(env,price,num))\n",
        "  env.run(until=7)\n",
        "  return price['current'],num[0]\n",
        "\n",
        "# run the system once\n",
        "system()"
      ],
      "execution_count": null,
      "outputs": [
        {
          "output_type": "execute_result",
          "data": {
            "text/plain": [
              "(31, 6)"
            ]
          },
          "metadata": {
            "tags": []
          },
          "execution_count": 25
        }
      ]
    },
    {
      "cell_type": "code",
      "metadata": {
        "colab": {
          "base_uri": "https://localhost:8080/",
          "height": 346
        },
        "id": "8v79Z18dqTGR",
        "outputId": "bed0b1d6-3b57-4e62-b7eb-d628a8ad8ba6"
      },
      "source": [
        "# Simulate the system 1000 times\n",
        "# and report the lower bound, upper bound, and width of the 95% confidence interval \n",
        "# for the expected value of the final price.\n",
        "N=1000\n",
        "result=[system() for i in range(N)]\n",
        "result=np.array(result)\n",
        "x=result[:,0]\n",
        "z=result[:,1]\n",
        "c=-np.cov(x,z,ddof=1)[0,1]/np.var(z,ddof=1)\n",
        "mu_z=Ex   # the true mean of number of arrival is computed in Q1: Ex=4.55\n",
        "y=x+c*(z-mu_z)\n",
        "\n",
        "plt.hist(y, bins=int(1000**0.5), density=True)\n",
        "plt.xlabel('Final Price')\n",
        "plt.ylabel('Density')\n",
        "plt.title('Distribution of the Final Price')\n",
        "plt.show()\n",
        "\n",
        "mean=np.mean(y)\n",
        "std=np.std(y,ddof=1)\n",
        "lower=mean-spst.norm.ppf(0.975)*std/N**0.5\n",
        "upper=mean+spst.norm.ppf(0.975)*std/N**0.5\n",
        "print(\"95% confidence interval: \", [lower,upper])\n",
        "print(\"mean: \", mean)\n",
        "print(\"width of confidence interval: \",upper-lower)"
      ],
      "execution_count": null,
      "outputs": [
        {
          "output_type": "display_data",
          "data": {
            "image/png": "[encoded data removed]",
            "text/plain": [
              "<Figure size 432x288 with 1 Axes>"
            ]
          },
          "metadata": {
            "tags": [],
            "needs_background": "light"
          }
        },
        {
          "output_type": "stream",
          "text": [
            "95% confidence interval:  [36.328709298411475, 37.20765809776292]\n",
            "mean:  36.7681836980872\n",
            "width of confidence interval:  0.8789487993514484\n"
          ],
          "name": "stdout"
        }
      ]
    },
    {
      "cell_type": "markdown",
      "metadata": {
        "id": "nwX7EwCw7Izt"
      },
      "source": [
        "The width of 95% confidence interval decreases significantly, in comparison to $E2Q2$.\n",
        "\n",
        "Therefore, the control variate method using `the number of arrivals` works very well."
      ]
    },
    {
      "cell_type": "markdown",
      "metadata": {
        "id": "E2Zvx1XTXzOX"
      },
      "source": [
        "#Exercise 3 [50 Points]\r\n",
        "\r\n",
        "The city planner wants to determine the traffic light timing for the following 4-way intersection. \r\n",
        "\r\n",
        "![Traffic Light (2).png](data:image/png;base64,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)"
      ]
    },
    {
      "cell_type": "markdown",
      "metadata": {
        "id": "qcioGI2BvRdB"
      },
      "source": [
        "The setup of the intersection is as follows: \r\n",
        "\r\n",
        "* Each road is two-way. All cars go straight. No turn is allowed. All cars going in the same direction stay in one lane. \r\n",
        "\r\n",
        "* Cars arrive at each leg of the intersection following a different homogeneous Poisson process:  \r\n",
        "  * leg 1: $\\lambda=0.02$\r\n",
        "  * leg 2: $\\lambda=0.03$\r\n",
        "  * leg 3: $\\lambda=0.04$\r\n",
        "  * leg 4: $\\lambda=0.05$\r\n",
        "\r\n",
        "* When the traffic light is yellow or red:\r\n",
        "  * If a car is currently passing a stop line (dotted line in the above figure), the car will finish passing.\r\n",
        "  * Otherwise, the car needs to make a stop at or before the stop line.\r\n",
        "* When the traffic light is green:\r\n",
        "  * It a car is currently the first car at a leg, the car will immedately start crossing the stop line \r\n",
        "  * If the car is not the first car at a leg, this car will need to wait until the car immediately in front of it passes the stop line. At that point it becomes the first car in the leg.\r\n",
        "\r\n",
        "* The amount of time between start passing the stop line and finish is  3 seconds.  \r\n",
        "\r\n",
        " \r\n",
        "**<font color=\"red\">In this question, you are NOT allowed to use any build-in sampling function except np.random.rand() </font>**\r\n"
      ]
    },
    {
      "cell_type": "markdown",
      "metadata": {
        "id": "LZYo-83xFEfp"
      },
      "source": [
        "##Q1. [20 Points]\r\n",
        "\r\n",
        "Let's assume that the cycle of the traffic light is as follows:\r\n",
        "\r\n",
        "|cycle number|stage| leg 1 and 2| leg 3 and 4|\r\n",
        "|---|---|---|---|\r\n",
        "|1|0s-46s|green|red|\r\n",
        "|1|46s-50s|yellow|red|\r\n",
        "|1|50s-96s|red|green|\r\n",
        "|1| 96s-100s|red|yellow|\r\n",
        "|2|100s-146s|green|red|\r\n",
        "|2|146s-150s|yellow|red|\r\n",
        "|2|150s-196s|red|green|\r\n",
        "|2|196s-200s|red|yellow|\r\n",
        "|...|...|...|...|\r\n",
        "\r\n",
        "\r\n",
        " \r\n",
        "For the starting condition of the simulation, assume:   \r\n",
        "* leg 1 and 2 just started the green light. \r\n",
        "* No cars are currently in the system.\r\n",
        "\r\n",
        "When generating the inter-arrival times for each leg, use the following random states to generate the inter-arrival times. When generating the samples, you can only use `np.random.rand()` for sampling.\r\n",
        ">* leg 1: `np.random.RandomState(10000)`\r\n",
        ">* leg 2: `np.random.RandomState(20000)`\r\n",
        ">* leg 3: `np.random.RandomState(30000)`\r\n",
        ">* leg 4: `np.random.RandomState(40000)`\r\n",
        "\r\n",
        "\r\n",
        "* Simulate the traffic light operation for **10 minutes** using `simpy`. Report the following information :\r\n",
        "\r\n",
        "> * the **arrival time** and the **time when passing is done** for the 5th arrival for each of the four legs.\r\n",
        "> * the **average time** between a car's arrival and when it finishes passing."
      ]
    },
    {
      "cell_type": "code",
      "metadata": {
        "colab": {
          "base_uri": "https://localhost:8080/"
        },
        "id": "YnN0ex0V7xTn",
        "outputId": "480ad91e-8436-4ef6-af75-060ca499a7ab"
      },
      "source": [
        "# Simulate the traffic light operation for 10 minutes using `simpy`\n",
        "# Return:\n",
        "    # the arrival time and the time when passing is done for the 5th arrival of each of the 4 legs\n",
        "    # the average time between a car's arrival and when it finished passing\n",
        "def arrivals(env,rs,leg,lmbda,server,outputs):\n",
        "  lm=lmbda\n",
        "  i=1\n",
        "  while True:\n",
        "    inter_arrival=-1/lm*np.log(rs.rand())\n",
        "    yield env.timeout(inter_arrival)\n",
        "    # print('Leg ', leg, ': arrival ', i,'     time: ', env.now)\n",
        "    arr=env.now\n",
        "    env.process(passing(env,server,leg,i,arr,outputs))\n",
        "    i+=1\n",
        "\n",
        "# define a `passing` process that controls the passing\n",
        "def passing(env,server,leg,i,arr,outputs):\n",
        "  # send a request to the light\n",
        "  rqt=server.request(priority=1)\n",
        "  # let the car pass\n",
        "  yield rqt\n",
        "  # print('Leg ', leg, ': arrival ', i,'starts passing','     time: ', env.now)\n",
        "  # spend 3 seconds to pass\n",
        "  yield env.timeout(3)\n",
        "\n",
        "  # PRINT OUT the information for the 5th arrival of each leg\n",
        "  if i==5:\n",
        "    print('Leg ', leg, ': arrival ', i,'arrives at ',arr,'      finished passing at ',env.now)\n",
        "  cost=env.now-arr\n",
        "  outputs.append(cost)\n",
        "  # release the car\n",
        "  server.release(rqt)\n",
        "\n",
        "# define a `rest` process that controls the Red Light\n",
        "def rest(env,server,server_list_34):\n",
        "  # for leg 3 and leg 4, rest for 50 seconds at the very beginning\n",
        "  if server in server_list_34:\n",
        "    rqt=server.request(priority=0)\n",
        "    yield rqt\n",
        "    yield env.timeout(50)\n",
        "    server.release(rqt)\n",
        "\n",
        "\n",
        "  while True:\n",
        "    # turn to yello/red after being green for 46 seconds\n",
        "    yield env.timeout(46)\n",
        "    # send a higher priority request to server 1\n",
        "    rqt=server.request(priority=0)\n",
        "    sent=env.now\n",
        "    yield rqt\n",
        "    rest=env.now\n",
        "    passing_yellow=rest-sent\n",
        "    # server rest for 54 seconds, if no car is passing\n",
        "    if len(server.users)<1:\n",
        "      yield env.timeout(54)\n",
        "    # server rest for less than 54 seconds, if there is car passing\n",
        "    else:\n",
        "      yield env.timeout(54-passing_yellow)\n",
        "    # back to green\n",
        "    server.release(rqt)\n",
        "\n",
        "def system():\n",
        "  outputs=[]\n",
        "  env=simpy.Environment()\n",
        "\n",
        "  server1=simpy.PriorityResource(env)\n",
        "  server2=simpy.PriorityResource(env)\n",
        "  server3=simpy.PriorityResource(env)\n",
        "  server4=simpy.PriorityResource(env)\n",
        "  server_list_34=[server3,server4]\n",
        "\n",
        "  # 4 random states for each leg\n",
        "  r1=np.random.RandomState(10000)\n",
        "  r2=np.random.RandomState(20000)\n",
        "  r3=np.random.RandomState(30000)\n",
        "  r4=np.random.RandomState(40000)\n",
        "\n",
        "  # 4 arrival processes for each leg\n",
        "  env.process(arrivals(env, r1, 1, 0.02, server1,outputs))\n",
        "  env.process(arrivals(env, r2, 2, 0.03, server2,outputs))\n",
        "  env.process(arrivals(env, r3, 3, 0.04, server3,outputs))\n",
        "  env.process(arrivals(env, r4, 4, 0.05, server4,outputs))\n",
        "\n",
        "  # 4 rest process for each leg\n",
        "  env.process(rest(env,server1,server_list_34))\n",
        "  env.process(rest(env,server2,server_list_34))\n",
        "  env.process(rest(env,server3,server_list_34))\n",
        "  env.process(rest(env,server4,server_list_34))\n",
        "\n",
        "  env.run(until=10*60)\n",
        "\n",
        "  # RETURN the average time between a car's arrival and when it finishes passing\n",
        "  return np.mean(np.array(outputs))\n",
        "# run the system once\n",
        "system()"
      ],
      "execution_count": null,
      "outputs": [
        {
          "output_type": "stream",
          "text": [
            "Leg  3 : arrival  5 arrives at  147.49959221341786       finished passing at  156\n",
            "Leg  4 : arrival  5 arrives at  135.62499505229647       finished passing at  159\n",
            "Leg  2 : arrival  5 arrives at  221.3913235818904       finished passing at  224.3913235818904\n",
            "Leg  1 : arrival  5 arrives at  238.48117679573136       finished passing at  241.48117679573136\n"
          ],
          "name": "stdout"
        },
        {
          "output_type": "execute_result",
          "data": {
            "text/plain": [
              "19.036251680004206"
            ]
          },
          "metadata": {
            "tags": []
          },
          "execution_count": 27
        }
      ]
    },
    {
      "cell_type": "markdown",
      "metadata": {
        "id": "9llmXDxYwWoP"
      },
      "source": [
        "The average time between a car's arrival and when it finishes passing is $19.036251680004206$."
      ]
    },
    {
      "cell_type": "markdown",
      "metadata": {
        "id": "gGdkUg9vV2EZ"
      },
      "source": [
        "## Q2. [10 Points]\r\n",
        "\r\n",
        "Instead of evenly splitting the red light for two roads, let's help the city planner decide the best timing.\r\n",
        "\r\n",
        "The city planner needs the solution to satisfy the following constraints:\r\n",
        "* the yellow light time for leg 1 and 2 is 4 seconds\r\n",
        "* the yellow light time for leg 3 and 4 is 4 seconds\r\n",
        "* the red light time for leg 1 and 2  is $x$ seconds, which needs to be an integer and at least 10.\r\n",
        "* the red light time for leg 3 and 4 is $100-x$ seconds, which needs to be an integer and at least 10.\r\n",
        "\r\n",
        "For this question, let's assume that the planner wants to minimize the expected value of the **average time** between a car's arrival and when it finishes passing. To estimate the expected value given red light time $x$ for leg 1 and 2, we simulate the system given an $x$ value for **4 rounds** and take the average of these 4 system outputs. The set up of the system is the same as Q1.\r\n",
        "\r\n",
        " \r\n",
        "\r\n",
        "\r\n",
        "* Perform the optimization work for one iteration and then\r\n",
        "> * Plot the relationship between $x$ and the estimates of the expected value given $x$, where $x=10, 11, 12, \\dots$.\r\n",
        "> * Report $x_s^*$, the simulated optimial value of $x$\r\n",
        "\r\n",
        "* To measure the variation of our simulated optimization results, repeat the optimization work for another 30 iterations and then\r\n",
        ">* Report $x_s^*$ from each round. Do not show the plot. \r\n",
        ">* Compute the variance of the thirty $x_s^*$ samples you get.  \r\n",
        "\r\n",
        "\r\n",
        "**[If certain functions are not changed from Q1, do not copy those functions here, same thing for Q3 and Q4]**\r\n",
        "\r\n"
      ]
    },
    {
      "cell_type": "code",
      "metadata": {
        "id": "_XID-v1A4tIY",
        "colab": {
          "base_uri": "https://localhost:8080/"
        },
        "outputId": "b8cda3b1-91b4-4171-9a59-86f718bdf875"
      },
      "source": [
        "def arrivals(env,rs,leg,lmbda,server,outputs):\n",
        "  lm=lmbda\n",
        "  i=1\n",
        "  while True:\n",
        "    inter_arrival=-1/lm*np.log(rs.rand())\n",
        "    yield env.timeout(inter_arrival)\n",
        "    # print('Leg ', leg, ': arrival ', i,'     time: ', env.now)\n",
        "    arr=env.now\n",
        "    env.process(passing(env,server,leg,i,arr,outputs))\n",
        "    i+=1\n",
        "\n",
        "# define a `passing` process that controls the passing\n",
        "def passing(env,server,leg,i,arr,outputs):\n",
        "  # send a request to the light\n",
        "  rqt=server.request(priority=1)\n",
        "  # let the car pass\n",
        "  yield rqt\n",
        "  # print('Leg ', leg, ': arrival ', i,'starts passing','     time: ', env.now)\n",
        "  # spend 3 seconds to pass\n",
        "  yield env.timeout(3)\n",
        "\n",
        "  # PRINT OUT the information for the 5th arrival of each leg\n",
        "  # if i==5:\n",
        "  #   print('Leg ', leg, ': arrival ', i,'arrives at ',arr,'      finished passing at ',env.now)\n",
        "  cost=env.now-arr\n",
        "  outputs.append(cost)\n",
        "  # release the car\n",
        "  server.release(rqt)\n",
        "\n",
        "# define a `rest` process that controls the Red Light\n",
        "def rest(env,server,server_list_34,x):\n",
        "  # for leg 3 and leg 4, rest for 50 seconds at the very beginning\n",
        "  if server in server_list_34:\n",
        "    rqt=server.request(priority=0)\n",
        "    yield rqt\n",
        "    yield env.timeout(100-x)\n",
        "    server.release(rqt)\n",
        "\n",
        "\n",
        "  while True:\n",
        "    # turn to yello/red after being green for 46 seconds\n",
        "    yield env.timeout(100-x-4)\n",
        "    # send a higher priority request to server 1\n",
        "    rqt=server.request(priority=0)\n",
        "    sent=env.now\n",
        "    yield rqt\n",
        "    rest=env.now\n",
        "    passing_yellow=rest-sent\n",
        "    # server rest for 54 seconds, if no car is passing\n",
        "    if len(server.users)<1:\n",
        "      yield env.timeout(100-x+4)\n",
        "    # server rest for less than 54 seconds, if there is car passing\n",
        "    else:\n",
        "      yield env.timeout(100-x+4-passing_yellow)\n",
        "    # back to green\n",
        "    server.release(rqt)\n",
        "\n",
        "def system(x):\n",
        "  outputs=[]\n",
        "  env=simpy.Environment()\n",
        "\n",
        "  server1=simpy.PriorityResource(env)\n",
        "  server2=simpy.PriorityResource(env)\n",
        "  server3=simpy.PriorityResource(env)\n",
        "  server4=simpy.PriorityResource(env)\n",
        "  server_list_34=[server3,server4]\n",
        "\n",
        "  # 4 random states for each leg\n",
        "  r1=np.random.RandomState()\n",
        "  r2=np.random.RandomState()\n",
        "  r3=np.random.RandomState()\n",
        "  r4=np.random.RandomState()\n",
        "\n",
        "  # 4 arrival processes for each leg\n",
        "  env.process(arrivals(env, r1, 1, 0.02, server1,outputs))\n",
        "  env.process(arrivals(env, r2, 2, 0.03, server2,outputs))\n",
        "  env.process(arrivals(env, r3, 3, 0.04, server3,outputs))\n",
        "  env.process(arrivals(env, r4, 4, 0.05, server4,outputs))\n",
        "\n",
        "  # 4 rest process for each leg\n",
        "  env.process(rest(env,server1,server_list_34,x))\n",
        "  env.process(rest(env,server2,server_list_34,x))\n",
        "  env.process(rest(env,server3,server_list_34,x))\n",
        "  env.process(rest(env,server4,server_list_34,x))\n",
        "\n",
        "  env.run(until=10*60)\n",
        "\n",
        "  # RETURN the average time between a car's arrival and when it finishes passing\n",
        "  return np.mean(np.array(outputs))\n",
        "# run the system once\n",
        "system(50)"
      ],
      "execution_count": null,
      "outputs": [
        {
          "output_type": "execute_result",
          "data": {
            "text/plain": [
              "19.53146781280195"
            ]
          },
          "metadata": {
            "tags": []
          },
          "execution_count": 28
        }
      ]
    },
    {
      "cell_type": "code",
      "metadata": {
        "id": "h61b5hn2BimI",
        "colab": {
          "base_uri": "https://localhost:8080/",
          "height": 329
        },
        "outputId": "8baea23b-452d-46cc-cc56-653f8970aeea"
      },
      "source": [
        "# Optimization work\n",
        "    # for x=10,11,12,...,100\n",
        "def red(x):\n",
        "  # for a given x\n",
        "  # run the system 4 times and compute the average time\n",
        "  return np.mean(np.array([system(x) for i in range(4)]))\n",
        "\n",
        "# compute the average time of 4 rounds of simulation for x from 10 to 90\n",
        "    # since x and (100-x) are both at least 10\n",
        "values=np.array([red(j) for j in range(10,91)])\n",
        "Xs=np.arange(10,91)\n",
        "plt.plot(Xs,values)\n",
        "plt.xlabel('x values')\n",
        "plt.ylabel('average time spent')\n",
        "plt.title('Relationship between x and averge time')\n",
        "plt.show()\n",
        "optimal_x=Xs[np.argmin(values)]\n",
        "print('The lowest expected average time time spent is: ', np.min(values))\n",
        "print('The optimal value for x is: ', optimal_x)"
      ],
      "execution_count": null,
      "outputs": [
        {
          "output_type": "display_data",
          "data": {
            "image/png": "[encoded data removed]",
            "text/plain": [
              "<Figure size 432x288 with 1 Axes>"
            ]
          },
          "metadata": {
            "tags": [],
            "needs_background": "light"
          }
        },
        {
          "output_type": "stream",
          "text": [
            "The lowest expected average time time spent is:  9.194010885860166\n",
            "The optimal value for x is:  87\n"
          ],
          "name": "stdout"
        }
      ]
    },
    {
      "cell_type": "code",
      "metadata": {
        "colab": {
          "base_uri": "https://localhost:8080/"
        },
        "id": "nV96VshX1IFt",
        "outputId": "b42491b6-91ef-46aa-f00f-3ca4c26b733d"
      },
      "source": [
        "# Perform optimization work for another 30 rounds\n",
        "def optim_30():\n",
        "  samples=[]\n",
        "  print('--------------  Optimal x value')\n",
        "  for k in range(30):\n",
        "    values=np.array([red(j) for j in range(10,91)])\n",
        "    Xs=np.arange(10,91)\n",
        "    optimal_x=Xs[np.argmin(values)]\n",
        "    samples.append(optimal_x)\n",
        "    print('Iteration ', k+1, ': ', optimal_x)\n",
        "  return np.array(samples)\n",
        "answer=optim_30()"
      ],
      "execution_count": null,
      "outputs": [
        {
          "output_type": "stream",
          "text": [
            "--------------  Optimal x value\n",
            "Iteration  1 :  85\n",
            "Iteration  2 :  89\n",
            "Iteration  3 :  89\n",
            "Iteration  4 :  89\n",
            "Iteration  5 :  89\n",
            "Iteration  6 :  89\n",
            "Iteration  7 :  90\n",
            "Iteration  8 :  86\n",
            "Iteration  9 :  86\n",
            "Iteration  10 :  89\n",
            "Iteration  11 :  86\n",
            "Iteration  12 :  89\n",
            "Iteration  13 :  89\n",
            "Iteration  14 :  89\n",
            "Iteration  15 :  88\n",
            "Iteration  16 :  89\n",
            "Iteration  17 :  89\n",
            "Iteration  18 :  89\n",
            "Iteration  19 :  89\n",
            "Iteration  20 :  89\n",
            "Iteration  21 :  88\n",
            "Iteration  22 :  89\n",
            "Iteration  23 :  86\n",
            "Iteration  24 :  89\n",
            "Iteration  25 :  89\n",
            "Iteration  26 :  89\n",
            "Iteration  27 :  89\n",
            "Iteration  28 :  89\n",
            "Iteration  29 :  89\n",
            "Iteration  30 :  88\n"
          ],
          "name": "stdout"
        }
      ]
    },
    {
      "cell_type": "code",
      "metadata": {
        "colab": {
          "base_uri": "https://localhost:8080/"
        },
        "id": "PAWNMSATCFtk",
        "outputId": "ee71b80e-b456-4b53-8649-53df96f5012f"
      },
      "source": [
        "# Mean of the x* samples\n",
        "np.mean(answer)"
      ],
      "execution_count": null,
      "outputs": [
        {
          "output_type": "execute_result",
          "data": {
            "text/plain": [
              "88.4"
            ]
          },
          "metadata": {
            "tags": []
          },
          "execution_count": 31
        }
      ]
    },
    {
      "cell_type": "code",
      "metadata": {
        "colab": {
          "base_uri": "https://localhost:8080/"
        },
        "id": "HrR3hFafBBOO",
        "outputId": "155a0f0a-15e3-44fe-d3cd-9690f1c3c6e1"
      },
      "source": [
        "# Variance of the x* samples\n",
        "variance=np.var(answer,ddof=1)\n",
        "variance"
      ],
      "execution_count": null,
      "outputs": [
        {
          "output_type": "execute_result",
          "data": {
            "text/plain": [
              "1.558620689655172"
            ]
          },
          "metadata": {
            "tags": []
          },
          "execution_count": 32
        }
      ]
    },
    {
      "cell_type": "code",
      "metadata": {
        "colab": {
          "base_uri": "https://localhost:8080/"
        },
        "id": "IHKEHP7kQC73",
        "outputId": "13c21281-6b0d-4e54-aa89-aadbe28edab1"
      },
      "source": [
        "# Standard Deviation of the x* samples\n",
        "np.std(answer,ddof=1)"
      ],
      "execution_count": null,
      "outputs": [
        {
          "output_type": "execute_result",
          "data": {
            "text/plain": [
              "1.2484473115254693"
            ]
          },
          "metadata": {
            "tags": []
          },
          "execution_count": 33
        }
      ]
    },
    {
      "cell_type": "markdown",
      "metadata": {
        "id": "pz9jggv54pxT"
      },
      "source": [
        "##Q3. [12 Points]"
      ]
    },
    {
      "cell_type": "markdown",
      "metadata": {
        "id": "Q1fmzPX64tdb"
      },
      "source": [
        "When estimating the expected value of a system output, one can use variance reduction technique. Let's explore the anti-thetic method can help reduce the variation in the simulated optimization results in Q2. For this question, let's keep the same setup as Q2. \r\n",
        "\r\n",
        "* Collect 100 estimates of the expected value of the system output when $x=87$. [In total, you need to run the system 4*100 times]. Plot the distribution of these 100 estimates and report the standard deviation of the estimates. \r\n",
        "\r\n",
        "* Apply anti-thetic method to the inter-arrival times for each of the four legs. Again, collect 100 estimates of the expected value of the system output when $x=87$. [In total, you need to run the system 4*100 times]. Plot the distribution of these 100 estimates and report the standard deviation  of the estimates. \r\n",
        "\r\n",
        "* Incorporate anti-thetic method into your work in Q2, and compare the standard deviation of the thirty $x_s^*$ samples with and without anti-thetic method used. \r\n",
        "\r\n",
        "* Explain why anti-thetic method helps reduce the standard deviation of $x_s^*$ samples.\r\n",
        "\r\n",
        "\r\n",
        " "
      ]
    },
    {
      "cell_type": "code",
      "metadata": {
        "id": "dNQtGQP6-nvC",
        "colab": {
          "base_uri": "https://localhost:8080/",
          "height": 346
        },
        "outputId": "9c3ae56a-49c9-4879-a22b-de0cadf47f5b"
      },
      "source": [
        "# Without Anti-thetic method\n",
        "N=100\n",
        "estimates=np.array([red(87) for i in range(N)])\n",
        "# Plot the distribution\n",
        "plt.hist(estimates, bins=int(N**0.5), density=True)\n",
        "plt.xlabel('Expected Time Spent')\n",
        "plt.ylabel('Density')\n",
        "plt.title('Distribution of Expected Time Spent')\n",
        "plt.show()\n",
        "# Report the standard deviation of the estimates\n",
        "mean=np.mean(estimates)\n",
        "std=np.std(estimates,ddof=1)\n",
        "lower=mean-spst.norm.ppf(0.975)*std/N**0.5\n",
        "upper=mean+spst.norm.ppf(0.975)*std/N**0.5\n",
        "print(\"95% confidence interval: \", [lower,upper])\n",
        "print(\"mean: \", mean)\n",
        "print(\"Standard Deviation: \",std)"
      ],
      "execution_count": null,
      "outputs": [
        {
          "output_type": "display_data",
          "data": {
            "image/png": "[encoded data removed]",
            "text/plain": [
              "<Figure size 432x288 with 1 Axes>"
            ]
          },
          "metadata": {
            "tags": [],
            "needs_background": "light"
          }
        },
        {
          "output_type": "stream",
          "text": [
            "95% confidence interval:  [10.036777009451928, 10.225887265384323]\n",
            "mean:  10.131332137418125\n",
            "Standard Deviation:  0.48243298709586685\n"
          ],
          "name": "stdout"
        }
      ]
    },
    {
      "cell_type": "code",
      "metadata": {
        "id": "4UdbSQA84n-p",
        "colab": {
          "base_uri": "https://localhost:8080/"
        },
        "outputId": "bc5ca5bb-4bad-4eab-dcaf-434791f02b2a"
      },
      "source": [
        "# With Anti-thetic method\n",
        "    # on the inter-arrival times of each of the 4 legs\n",
        "def arrivals(env,leg,lmbda,server,outputs,r_state,anti):\n",
        "  lm=lmbda\n",
        "  i=1\n",
        "  while True:\n",
        "    u=r_state.rand()\n",
        "    if anti==1:\n",
        "      u=1-u\n",
        "    inter_arrival=-1/lm*np.log(u)\n",
        "    yield env.timeout(inter_arrival)\n",
        "    # print('Leg ', leg, ': arrival ', i,'     time: ', env.now)\n",
        "    arr=env.now\n",
        "    env.process(passing(env,server,leg,i,arr,outputs))\n",
        "    i+=1\n",
        "\n",
        "# define a `passing` process that controls the passing\n",
        "def passing(env,server,leg,i,arr,outputs):\n",
        "  # send a request to the light\n",
        "  rqt=server.request(priority=1)\n",
        "  # let the car pass\n",
        "  yield rqt\n",
        "  # print('Leg ', leg, ': arrival ', i,'starts passing','     time: ', env.now)\n",
        "  # spend 3 seconds to pass\n",
        "  yield env.timeout(3)\n",
        "\n",
        "  # PRINT OUT the information for the 5th arrival of each leg\n",
        "  # if i==5:\n",
        "  #   print('Leg ', leg, ': arrival ', i,'arrives at ',arr,'      finished passing at ',env.now)\n",
        "  cost=env.now-arr\n",
        "  outputs.append(cost)\n",
        "  # release the car\n",
        "  server.release(rqt)\n",
        "\n",
        "# define a `rest` process that controls the Red Light\n",
        "def rest(env,server,server_list_34,x):\n",
        "  # for leg 3 and leg 4, rest for 50 seconds at the very beginning\n",
        "  if server in server_list_34:\n",
        "    rqt=server.request(priority=0)\n",
        "    yield rqt\n",
        "    yield env.timeout(100-x)\n",
        "    server.release(rqt)\n",
        "\n",
        "\n",
        "  while True:\n",
        "    # turn to yello/red after being green for 46 seconds\n",
        "    yield env.timeout(100-x-4)\n",
        "    # send a higher priority request to server 1\n",
        "    rqt=server.request(priority=0)\n",
        "    sent=env.now\n",
        "    yield rqt\n",
        "    rest=env.now\n",
        "    passing_yellow=rest-sent\n",
        "    # server rest for 54 seconds, if no car is passing\n",
        "    if len(server.users)<1:\n",
        "      yield env.timeout(100-x+4)\n",
        "    # server rest for less than 54 seconds, if there is car passing\n",
        "    else:\n",
        "      yield env.timeout(100-x+4-passing_yellow)\n",
        "    # back to green\n",
        "    server.release(rqt)\n",
        "\n",
        "def system(x,r1,r2,r3,r4,anti):\n",
        "  outputs=[]\n",
        "  env=simpy.Environment()\n",
        "\n",
        "  server1=simpy.PriorityResource(env)\n",
        "  server2=simpy.PriorityResource(env)\n",
        "  server3=simpy.PriorityResource(env)\n",
        "  server4=simpy.PriorityResource(env)\n",
        "  server_list_34=[server3,server4]\n",
        "\n",
        "  # 4 arrival processes for each leg\n",
        "  env.process(arrivals(env, 1, 0.02, server1,outputs, r1,anti))\n",
        "  env.process(arrivals(env, 2, 0.03, server2,outputs, r2,anti))\n",
        "  env.process(arrivals(env, 3, 0.04, server3,outputs, r3,anti))\n",
        "  env.process(arrivals(env, 4, 0.05, server4,outputs, r4,anti))\n",
        "\n",
        "  # 4 rest process for each leg\n",
        "  env.process(rest(env,server1,server_list_34,x))\n",
        "  env.process(rest(env,server2,server_list_34,x))\n",
        "  env.process(rest(env,server3,server_list_34,x))\n",
        "  env.process(rest(env,server4,server_list_34,x))\n",
        "\n",
        "  env.run(until=10*60)\n",
        "\n",
        "  # RETURN the average time between a car's arrival and when it finishes passing\n",
        "  return np.mean(np.array(outputs))\n",
        "\n",
        "def system_avg(x):\n",
        "  # Original Random States\n",
        "  r1_original=np.random.RandomState()\n",
        "  r2_original=np.random.RandomState()\n",
        "  r3_original=np.random.RandomState()\n",
        "  r4_original=np.random.RandomState()\n",
        "  # Anti-thetic Random States\n",
        "  r1_anti=copy.copy(r1_original)\n",
        "  r2_anti=copy.copy(r2_original)\n",
        "  r3_anti=copy.copy(r3_original)\n",
        "  r4_anti=copy.copy(r4_original)\n",
        "  # get outputs and return the average\n",
        "  output1=system(x,r1_original,r2_original,r3_original,r4_original,0)\n",
        "  output2=system(x,r1_anti,r2_anti,r3_anti,r4_anti,1)\n",
        "  return (output1+output2)/2\n",
        "# run the system once\n",
        "system_avg(87)"
      ],
      "execution_count": null,
      "outputs": [
        {
          "output_type": "execute_result",
          "data": {
            "text/plain": [
              "9.785624229527016"
            ]
          },
          "metadata": {
            "tags": []
          },
          "execution_count": 35
        }
      ]
    },
    {
      "cell_type": "code",
      "metadata": {
        "id": "L_xfilpyFTDc",
        "colab": {
          "base_uri": "https://localhost:8080/",
          "height": 346
        },
        "outputId": "c6a325a8-aea9-4274-9b94-4c25ec9f6553"
      },
      "source": [
        "# write a function `anti_opt()` that run the system 4 times \n",
        "# and compute the expected value of the system output\n",
        "def anti_opt(x):\n",
        "  return np.mean(np.array([system_avg(x) for i in range(4)]))\n",
        "\n",
        "# Collect 100 estimates for x=87\n",
        "N=100\n",
        "estimates=np.array([anti_opt(87) for i in range(N)])\n",
        "# Plot the distribution\n",
        "plt.hist(estimates, bins=int(N**0.5), density=True)\n",
        "plt.xlabel('Expected Time Spent')\n",
        "plt.ylabel('Density')\n",
        "plt.title('Distribution of Expected Time Spent')\n",
        "plt.show()\n",
        "# Report the standard deviation of the estimates\n",
        "mean=np.mean(estimates)\n",
        "std=np.std(estimates,ddof=1)\n",
        "lower=mean-spst.norm.ppf(0.975)*std/N**0.5\n",
        "upper=mean+spst.norm.ppf(0.975)*std/N**0.5\n",
        "print(\"95% confidence interval: \", [lower,upper])\n",
        "print(\"mean: \", mean)\n",
        "print(\"Standard Deviation: \",std)"
      ],
      "execution_count": null,
      "outputs": [
        {
          "output_type": "display_data",
          "data": {
            "image/png": "[encoded data removed]",
            "text/plain": [
              "<Figure size 432x288 with 1 Axes>"
            ]
          },
          "metadata": {
            "tags": [],
            "needs_background": "light"
          }
        },
        {
          "output_type": "stream",
          "text": [
            "95% confidence interval:  [10.00526866348827, 10.146122604713089]\n",
            "mean:  10.07569563410068\n",
            "Standard Deviation:  0.3593278813688805\n"
          ],
          "name": "stdout"
        }
      ]
    },
    {
      "cell_type": "markdown",
      "metadata": {
        "id": "zuLzosnD8RdJ"
      },
      "source": [
        "The mean of `average time spent` is still around 10."
      ]
    },
    {
      "cell_type": "markdown",
      "metadata": {
        "id": "ua9ZnOwN79vM"
      },
      "source": [
        "**However,** the Standard Deviation of `average time spent` for a car passing through the intersection decreases significantly, in comparison to the result without applying Anti-thetic method."
      ]
    },
    {
      "cell_type": "code",
      "metadata": {
        "colab": {
          "base_uri": "https://localhost:8080/",
          "height": 329
        },
        "id": "sFPDnlj3NPDt",
        "outputId": "f78bb43a-3f2a-4889-cdc1-af2c767b6829"
      },
      "source": [
        "# Incorporate anti-thetic method into your work in Q2, \n",
        "# and compare the standard deviation of the 30 x* samples \n",
        "# with and without anti-thetic method used.\n",
        "\n",
        "values=np.array([anti_opt(j) for j in range(10,91)])\n",
        "Xs=np.arange(10,91)\n",
        "plt.plot(Xs,values)\n",
        "plt.xlabel('x values')\n",
        "plt.ylabel('average time spent')\n",
        "plt.title('Relationship between x and averge time')\n",
        "plt.show()\n",
        "optimal_x=Xs[np.argmin(values)]\n",
        "print('The lowest expected average time time spent is: ', np.min(values))\n",
        "print('The optimal value for x is: ', optimal_x)"
      ],
      "execution_count": null,
      "outputs": [
        {
          "output_type": "display_data",
          "data": {
            "image/png": "[encoded data removed]",
            "text/plain": [
              "<Figure size 432x288 with 1 Axes>"
            ]
          },
          "metadata": {
            "tags": [],
            "needs_background": "light"
          }
        },
        {
          "output_type": "stream",
          "text": [
            "The lowest expected average time time spent is:  9.25956128156177\n",
            "The optimal value for x is:  89\n"
          ],
          "name": "stdout"
        }
      ]
    },
    {
      "cell_type": "code",
      "metadata": {
        "colab": {
          "base_uri": "https://localhost:8080/"
        },
        "id": "l9rl1HDCNO54",
        "outputId": "f45d3a24-da2d-4de7-aba7-83523cf19047"
      },
      "source": [
        "# Perform optimization work for another 30 rounds\n",
        "def anti_optim_30():\n",
        "  samples=[]\n",
        "  print('--------------  Optimal x value')\n",
        "  for k in range(30):\n",
        "    values=np.array([anti_opt(j) for j in range(10,91)])\n",
        "    Xs=np.arange(10,91)\n",
        "    optimal_x=Xs[np.argmin(values)]\n",
        "    samples.append(optimal_x)\n",
        "    print('Iteration ', k+1, ': ', optimal_x)\n",
        "  return np.array(samples)\n",
        "anti_answer=anti_optim_30()"
      ],
      "execution_count": null,
      "outputs": [
        {
          "output_type": "stream",
          "text": [
            "--------------  Optimal x value\n",
            "Iteration  1 :  88\n",
            "Iteration  2 :  89\n",
            "Iteration  3 :  86\n",
            "Iteration  4 :  89\n",
            "Iteration  5 :  89\n",
            "Iteration  6 :  89\n",
            "Iteration  7 :  89\n",
            "Iteration  8 :  89\n",
            "Iteration  9 :  89\n",
            "Iteration  10 :  88\n",
            "Iteration  11 :  89\n",
            "Iteration  12 :  89\n",
            "Iteration  13 :  89\n",
            "Iteration  14 :  89\n",
            "Iteration  15 :  89\n",
            "Iteration  16 :  89\n",
            "Iteration  17 :  90\n",
            "Iteration  18 :  88\n",
            "Iteration  19 :  89\n",
            "Iteration  20 :  89\n",
            "Iteration  21 :  89\n",
            "Iteration  22 :  89\n",
            "Iteration  23 :  88\n",
            "Iteration  24 :  89\n",
            "Iteration  25 :  89\n",
            "Iteration  26 :  89\n",
            "Iteration  27 :  89\n",
            "Iteration  28 :  89\n",
            "Iteration  29 :  88\n",
            "Iteration  30 :  89\n"
          ],
          "name": "stdout"
        }
      ]
    },
    {
      "cell_type": "code",
      "metadata": {
        "colab": {
          "base_uri": "https://localhost:8080/"
        },
        "id": "ZXw2hqgcP8N5",
        "outputId": "c02e4712-37f7-4ba2-d3ab-6989693ca36b"
      },
      "source": [
        "np.mean(anti_answer)"
      ],
      "execution_count": null,
      "outputs": [
        {
          "output_type": "execute_result",
          "data": {
            "text/plain": [
              "88.76666666666667"
            ]
          },
          "metadata": {
            "tags": []
          },
          "execution_count": 39
        }
      ]
    },
    {
      "cell_type": "code",
      "metadata": {
        "colab": {
          "base_uri": "https://localhost:8080/"
        },
        "id": "UH5bWEFROn_b",
        "outputId": "b42400e2-c621-403b-a822-38ed5726bcb8"
      },
      "source": [
        "# Compute the standard deviation of the x* samples\n",
        "    # with Anti-thetic method\n",
        "anti_x_std=np.std(anti_answer,ddof=1)\n",
        "anti_x_std"
      ],
      "execution_count": null,
      "outputs": [
        {
          "output_type": "execute_result",
          "data": {
            "text/plain": [
              "0.6789105539243627"
            ]
          },
          "metadata": {
            "tags": []
          },
          "execution_count": 40
        }
      ]
    },
    {
      "cell_type": "code",
      "metadata": {
        "colab": {
          "base_uri": "https://localhost:8080/"
        },
        "id": "CVj7hhQSPAPM",
        "outputId": "7da77874-6c12-423b-c319-e96efcebcaae"
      },
      "source": [
        "# Compare with the standard deviation of x* samples\n",
        "    # without Anti-thetic method\n",
        "x_std=np.std(answer,ddof=1)\n",
        "x_std"
      ],
      "execution_count": null,
      "outputs": [
        {
          "output_type": "execute_result",
          "data": {
            "text/plain": [
              "1.2484473115254693"
            ]
          },
          "metadata": {
            "tags": []
          },
          "execution_count": 41
        }
      ]
    },
    {
      "cell_type": "markdown",
      "metadata": {
        "id": "Sw6TRFzHPoAY"
      },
      "source": [
        "Conclusion: the standard deviation of $x*$ samples decreased significantly after applying Anti-thetic method. "
      ]
    },
    {
      "cell_type": "markdown",
      "metadata": {
        "id": "As7YlbI9tXTv"
      },
      "source": [
        "**Explain why anti-thetic method helps reduce the standard deviation of x* amples.**"
      ]
    },
    {
      "cell_type": "markdown",
      "metadata": {
        "id": "g2zYcfr8tXGx"
      },
      "source": [
        "Applying anti-thetic method on inter-arrival times reduces the variance of the average time between a car's arrival and when it finishes passing. \n",
        "\n",
        "$estimate(x)=\\frac{1}{4}\\sum^4_{i=0}output_i$\n",
        "\n",
        "The output(average time) will then be computed $4$ times then get the average to produce the estimate for any specific $x$ value, so the variance of the estimates for each $x$ is reduced as well. \n",
        "\n",
        "There are 80 $x$ values for the optimization, so in addition, the variance for the lowest output(average time) among these 80 estimates is reduced.\n",
        "\n",
        "\n",
        "Finally, the process of finding $x^*$ value corresponding to the lowest average time value will be repeated for 30 times and calculate the mean. Therefore the variance $x^*$ will be reduced as well at the end."
      ]
    },
    {
      "cell_type": "markdown",
      "metadata": {
        "id": "pw5iC9DyLv16"
      },
      "source": [
        "##Q4. [8 Points]\r\n",
        "\r\n",
        "Does the optimal $x_s^*$ you get from Q2/Q3 also ensures minimization of the expected value of the **maximum time** between a car's arrival and when it finishes passing, for all cars that finish passing?\r\n",
        "\r\n",
        "* Use `simpy` to derive your conclusion.  \r\n",
        "* Based on the setup of the system, explain why this observation happens in an intuitively way."
      ]
    },
    {
      "cell_type": "code",
      "metadata": {
        "id": "FQp03ovAzonw",
        "colab": {
          "base_uri": "https://localhost:8080/"
        },
        "outputId": "5e4a4a26-05a4-4f0c-feb1-2b767b7206ec"
      },
      "source": [
        "# let `maximum time` between a car's arrival and when it finishes passing\n",
        "    # be the system output\n",
        "\n",
        "def arrivals(env,rs,leg,lmbda,server,outputs):\n",
        "  lm=lmbda\n",
        "  i=1\n",
        "  while True:\n",
        "    inter_arrival=-1/lm*np.log(rs.rand())\n",
        "    yield env.timeout(inter_arrival)\n",
        "    # print('Leg ', leg, ': arrival ', i,'     time: ', env.now)\n",
        "    arr=env.now\n",
        "    env.process(passing(env,server,leg,i,arr,outputs))\n",
        "    i+=1\n",
        "\n",
        "# define a `passing` process that controls the passing\n",
        "def passing(env,server,leg,i,arr,outputs):\n",
        "  # send a request to the light\n",
        "  rqt=server.request(priority=1)\n",
        "  # let the car pass\n",
        "  yield rqt\n",
        "  # print('Leg ', leg, ': arrival ', i,'starts passing','     time: ', env.now)\n",
        "  # spend 3 seconds to pass\n",
        "  yield env.timeout(3)\n",
        "\n",
        "  # PRINT OUT the information for the 5th arrival of each leg\n",
        "  # if i==5:\n",
        "  #   print('Leg ', leg, ': arrival ', i,'arrives at ',arr,'      finished passing at ',env.now)\n",
        "  cost=env.now-arr\n",
        "  outputs.append(cost)\n",
        "  # release the car\n",
        "  server.release(rqt)\n",
        "\n",
        "# define a `rest` process that controls the Red Light\n",
        "def rest(env,server,server_list_34,x):\n",
        "  # for leg 3 and leg 4, rest for 50 seconds at the very beginning\n",
        "  if server in server_list_34:\n",
        "    rqt=server.request(priority=0)\n",
        "    yield rqt\n",
        "    yield env.timeout(100-x)\n",
        "    server.release(rqt)\n",
        "\n",
        "\n",
        "  while True:\n",
        "    # turn to yello/red after being green for 46 seconds\n",
        "    yield env.timeout(100-x-4)\n",
        "    # send a higher priority request to server 1\n",
        "    rqt=server.request(priority=0)\n",
        "    sent=env.now\n",
        "    yield rqt\n",
        "    rest=env.now\n",
        "    passing_yellow=rest-sent\n",
        "    # server rest for 54 seconds, if no car is passing\n",
        "    if len(server.users)<1:\n",
        "      yield env.timeout(100-x+4)\n",
        "    # server rest for less than 54 seconds, if there is car passing\n",
        "    else:\n",
        "      yield env.timeout(100-x+4-passing_yellow)\n",
        "    # back to green\n",
        "    server.release(rqt)\n",
        "\n",
        "def system(x):\n",
        "  outputs=[]\n",
        "  env=simpy.Environment()\n",
        "\n",
        "  server1=simpy.PriorityResource(env)\n",
        "  server2=simpy.PriorityResource(env)\n",
        "  server3=simpy.PriorityResource(env)\n",
        "  server4=simpy.PriorityResource(env)\n",
        "  server_list_34=[server3,server4]\n",
        "\n",
        "  # 4 random states for each leg\n",
        "  r1=np.random.RandomState()\n",
        "  r2=np.random.RandomState()\n",
        "  r3=np.random.RandomState()\n",
        "  r4=np.random.RandomState()\n",
        "\n",
        "  # 4 arrival processes for each leg\n",
        "  env.process(arrivals(env, r1, 1, 0.02, server1,outputs))\n",
        "  env.process(arrivals(env, r2, 2, 0.03, server2,outputs))\n",
        "  env.process(arrivals(env, r3, 3, 0.04, server3,outputs))\n",
        "  env.process(arrivals(env, r4, 4, 0.05, server4,outputs))\n",
        "\n",
        "  # 4 rest process for each leg\n",
        "  env.process(rest(env,server1,server_list_34,x))\n",
        "  env.process(rest(env,server2,server_list_34,x))\n",
        "  env.process(rest(env,server3,server_list_34,x))\n",
        "  env.process(rest(env,server4,server_list_34,x))\n",
        "\n",
        "  env.run(until=10*60)\n",
        "\n",
        "  # RETURN the maximum time between a car's arrival and when it finishes passing\n",
        "  return np.max(np.array(outputs))\n",
        "# run the system once\n",
        "system(50)"
      ],
      "execution_count": null,
      "outputs": [
        {
          "output_type": "execute_result",
          "data": {
            "text/plain": [
              "58.1656060720679"
            ]
          },
          "metadata": {
            "tags": []
          },
          "execution_count": 42
        }
      ]
    },
    {
      "cell_type": "code",
      "metadata": {
        "colab": {
          "base_uri": "https://localhost:8080/",
          "height": 329
        },
        "id": "xmtkP-NRIZNI",
        "outputId": "527c96e0-d45d-42d5-d112-a18c5fe28c1d"
      },
      "source": [
        "# write a function that run the system 4 times\n",
        "# and returns the average of these 4 \n",
        "def maxtime_opti_x(x):\n",
        "  return np.mean(np.array([system(x) for i in range(4)]))\n",
        "# compute the average maximum time of 4 rounds of simulation for x from 10 to 90\n",
        "    # since x and (100-x) are both at least 10\n",
        "values=np.array([maxtime_opti_x(j) for j in range(10,91)])\n",
        "Xs=np.arange(10,91)\n",
        "plt.plot(Xs,values)\n",
        "plt.xlabel('x values')\n",
        "plt.ylabel('maximum time spent')\n",
        "plt.title('Relationship between x and maximum time')\n",
        "plt.show()\n",
        "optimal_x=Xs[np.argmin(values)]\n",
        "print('The lowest expected maximum time spent is: ', np.min(values))\n",
        "print('The optimal value for x is: ', optimal_x)"
      ],
      "execution_count": null,
      "outputs": [
        {
          "output_type": "display_data",
          "data": {
            "image/png": "[encoded data removed]",
            "text/plain": [
              "<Figure size 432x288 with 1 Axes>"
            ]
          },
          "metadata": {
            "tags": [],
            "needs_background": "light"
          }
        },
        {
          "output_type": "stream",
          "text": [
            "The lowest expected maximum time spent is:  25.240572797482194\n",
            "The optimal value for x is:  84\n"
          ],
          "name": "stdout"
        }
      ]
    },
    {
      "cell_type": "markdown",
      "metadata": {
        "id": "YUSQxJAdUbJ9"
      },
      "source": [
        "Yes, the optimal $x^*$ from Q2/Q3 also leads to the lowest expected maximum time between a car's arrival and when it finishes passing, for all cars that finish passing.\n",
        "\n",
        "The overall trend is that the lower $x$ the lower maximum time. "
      ]
    },
    {
      "cell_type": "markdown",
      "metadata": {
        "id": "1XGGGlstbOSa"
      },
      "source": [
        "***Explain why this observation happens in an intuitive way:***"
      ]
    },
    {
      "cell_type": "markdown",
      "metadata": {
        "id": "ZAztsbiGX9uN"
      },
      "source": [
        "Because the **maximum time** is most likely corresponding to the car that has the most cars in front of it when it arrives. If every car ahead it can moves a bit quicker, then this maximum time will be lower.\n",
        "\n",
        "By choosing the $x^*$ value that leads to the lowest average time between a car's arrival and when it finishes passing, all cars tend to go through the intersection most quickly on average, therefore the **maximum time** will most likely be the lowest as well.\n"
      ]
    },
    {
      "cell_type": "code",
      "metadata": {
        "id": "iuYpRmrnaXae"
      },
      "source": [
        ""
      ],
      "execution_count": null,
      "outputs": []
    }
  ]
}